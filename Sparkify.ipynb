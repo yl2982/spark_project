{
 "cells": [
  {
   "cell_type": "markdown",
   "metadata": {},
   "source": [
    "# Spark Project Overview"
   ]
  },
  {
   "cell_type": "markdown",
   "metadata": {},
   "source": [
    "`Sparkify` is a fictitious streaming service, Millions of users play their favorite songs through music streaming services on a daily basis, either through a free tier plan that plays advertisements, or by using a premium subscription model, which offers additional functionalities and is typically ad-free. Users can upgrade or downgrade their subscription plan any time, but also cancel it altogether, so it is very important to make sure they like the service. "
   ]
  },
  {
   "cell_type": "markdown",
   "metadata": {},
   "source": [
    "The goal in this project was to help the up-and-coming `Sparkify` business by building and training a binary classifier that is able to accurately identify users who cancelled the Sparkify music streaming service, based on the patterns obtained from their past activity and interaction with the service. A successfully trained model could be deployed into `Sparkify` infrastructure to identify users who are likely to churn in advance."
   ]
  },
  {
   "cell_type": "markdown",
   "metadata": {},
   "source": [
    "The model development was performed on the medium-size dataset (243MB)"
   ]
  },
  {
   "cell_type": "markdown",
   "metadata": {},
   "source": [
    "The model development process consists of the following steps:\n",
    "- Load and Cleanse Data\n",
    "- Exploratory Data & Analysis\n",
    "- Feature Engineering\n",
    "- Modeling"
   ]
  },
  {
   "cell_type": "markdown",
   "metadata": {},
   "source": [
    "`Understanding data information`\n",
    "- userId: user identifier\n",
    "- auth: authentication level (Logged In, Logged Out, Cancelled, Guest)\n",
    "- firstName: user's first name\n",
    "- gender: user's gender\n",
    "- itemInSession: log count in a given session\n",
    "- lastName: user's last name\n",
    "- length: song's length in seconds\n",
    "- level: subscription level\n",
    "- location: user's location\n",
    "- method: http request method\n",
    "- page: type of interaction\n",
    "- registration: user's registration timestamp\n",
    "- sessionId: session to which the log belongs to\n",
    "- song: song name\n",
    "- status: http status code\n",
    "- ts: timestamp of a given log\n",
    "- userAgent: agent used by the user to access the streaming service\n",
    "- artist: name of the singer"
   ]
  },
  {
   "cell_type": "markdown",
   "metadata": {},
   "source": [
    "# Load and Cleanse Data\n",
    "- Check whether the important value (userId, sessionId) is missing or not."
   ]
  },
  {
   "cell_type": "code",
   "execution_count": 2,
   "metadata": {},
   "outputs": [],
   "source": [
    "import pyspark.sql.functions as F\n",
    "\n",
    "from pyspark.sql import SparkSession\n",
    "\n",
    "from pyspark.sql.functions import udf, desc, asc, avg\n",
    "from pyspark.sql.functions import sum as Fsum\n",
    "\n",
    "from pyspark.sql.types import StringType, IntegerType\n",
    "\n",
    "from pyspark.sql import Window\n",
    "\n",
    "import datetime\n",
    "import seaborn as sns\n",
    "\n",
    "import numpy as np\n",
    "import pandas as pd\n",
    "import matplotlib.pyplot as plt\n",
    "%matplotlib inline\n",
    "%config InlineBackend.figure_format = 'retina'\n",
    "sns.set()"
   ]
  },
  {
   "cell_type": "code",
   "execution_count": 3,
   "metadata": {},
   "outputs": [],
   "source": [
    "spark = SparkSession.builder\\\n",
    "        .appName('spark_project').getOrCreate()\n",
    "user_log = spark.read.json('medium-sparkify-event-data.json')"
   ]
  },
  {
   "cell_type": "code",
   "execution_count": 3,
   "metadata": {},
   "outputs": [
    {
     "name": "stdout",
     "output_type": "stream",
     "text": [
      "root\n",
      " |-- artist: string (nullable = true)\n",
      " |-- auth: string (nullable = true)\n",
      " |-- firstName: string (nullable = true)\n",
      " |-- gender: string (nullable = true)\n",
      " |-- itemInSession: long (nullable = true)\n",
      " |-- lastName: string (nullable = true)\n",
      " |-- length: double (nullable = true)\n",
      " |-- level: string (nullable = true)\n",
      " |-- location: string (nullable = true)\n",
      " |-- method: string (nullable = true)\n",
      " |-- page: string (nullable = true)\n",
      " |-- registration: long (nullable = true)\n",
      " |-- sessionId: long (nullable = true)\n",
      " |-- song: string (nullable = true)\n",
      " |-- status: long (nullable = true)\n",
      " |-- ts: long (nullable = true)\n",
      " |-- userAgent: string (nullable = true)\n",
      " |-- userId: string (nullable = true)\n",
      "\n"
     ]
    }
   ],
   "source": [
    "# check the frame of the data\n",
    "user_log.printSchema()"
   ]
  },
  {
   "cell_type": "code",
   "execution_count": 4,
   "metadata": {},
   "outputs": [
    {
     "name": "stdout",
     "output_type": "stream",
     "text": [
      "The total number of data is 543705\n"
     ]
    }
   ],
   "source": [
    "# check the amount of the data\n",
    "total_row = user_log.count()\n",
    "print(f'The total number of data is {total_row}')"
   ]
  },
  {
   "cell_type": "code",
   "execution_count": 5,
   "metadata": {},
   "outputs": [
    {
     "name": "stdout",
     "output_type": "stream",
     "text": [
      "+-------+-----------------+----------+---------+------+------------------+--------+------------------+\n",
      "|summary|           artist|      auth|firstName|gender|     itemInSession|lastName|            length|\n",
      "+-------+-----------------+----------+---------+------+------------------+--------+------------------+\n",
      "|  count|           432877|    543705|   528005|528005|            543705|  528005|            432877|\n",
      "|   mean|527.5289537712895|      null|     null|  null|107.30629109535502|    null|248.66459278007585|\n",
      "| stddev|966.1072451772756|      null|     null|  null|116.72350849188119|    null| 98.41266955052022|\n",
      "|    min|              !!!| Cancelled|  Aaliyah|     F|                 0|  Abbott|           0.78322|\n",
      "|    max|ÃÂlafur Arnalds|Logged Out|   Zyonna|     M|              1005|  Wright|        3024.66567|\n",
      "+-------+-----------------+----------+---------+------+------------------+--------+------------------+\n",
      "\n"
     ]
    }
   ],
   "source": [
    "# check the information\n",
    "user_log.describe(['artist','auth','firstName','gender','itemInSession','lastName','length']).show()"
   ]
  },
  {
   "cell_type": "markdown",
   "metadata": {},
   "source": [
    "- The `artist` can be null since it depends on whether the user is in the song-played page\n",
    "- The number of null value of `firstName`, `lastName` and `gender` is the same\n",
    "- `auth` and `itemInSession` no null value"
   ]
  },
  {
   "cell_type": "code",
   "execution_count": 6,
   "metadata": {},
   "outputs": [
    {
     "name": "stdout",
     "output_type": "stream",
     "text": [
      "+-------+------+----------------+------+-------+--------------------+\n",
      "|summary| level|        location|method|   page|        registration|\n",
      "+-------+------+----------------+------+-------+--------------------+\n",
      "|  count|543705|          528005|543705| 543705|              528005|\n",
      "|   mean|  null|            null|  null|   null|1.535523414863871...|\n",
      "| stddev|  null|            null|  null|   null|3.0787254929958086E9|\n",
      "|    min|  free|       Akron, OH|   GET|  About|       1509854193000|\n",
      "|    max|  paid|York-Hanover, PA|   PUT|Upgrade|       1543073874000|\n",
      "+-------+------+----------------+------+-------+--------------------+\n",
      "\n"
     ]
    }
   ],
   "source": [
    "user_log.describe(['level','location','method','page','registration']).show()"
   ]
  },
  {
   "cell_type": "markdown",
   "metadata": {},
   "source": [
    "- `level`, `method` and `page` no null value\n",
    "- number of null value of `location` and `registration` is the same as `firstName`, `lastName`, `gender` (these are all user info)"
   ]
  },
  {
   "cell_type": "code",
   "execution_count": 7,
   "metadata": {},
   "outputs": [
    {
     "name": "stdout",
     "output_type": "stream",
     "text": [
      "+-------+------------------+--------------------+------------------+--------------------+--------------------+------------------+\n",
      "|summary|         sessionID|                song|            status|                  ts|           userAgent|            userId|\n",
      "+-------+------------------+--------------------+------------------+--------------------+--------------------+------------------+\n",
      "|  count|            543705|              432877|            543705|              543705|              528005|            543705|\n",
      "|   mean|2040.8143533717732|            Infinity|210.01829116892432|1.540964541209763...|                null| 60268.42669103512|\n",
      "| stddev|1434.3389310782725|                 NaN|  31.4719190215672|1.4820571449006093E9|                null|109898.82324176555|\n",
      "|    min|                 1|\u001c",
      "ÃÂg ÃÂtti Gr...|               200|       1538352011000|\"Mozilla/5.0 (Mac...|                  |\n",
      "|    max|              4808|ÃÂ¾etta Gerist Ã...|               404|       1543622466000|Mozilla/5.0 (comp...|                99|\n",
      "+-------+------------------+--------------------+------------------+--------------------+--------------------+------------------+\n",
      "\n"
     ]
    }
   ],
   "source": [
    "user_log.describe(['sessionID','song','status','ts','userAgent','userId']).show()"
   ]
  },
  {
   "cell_type": "markdown",
   "metadata": {},
   "source": [
    "- `sessionID`, `userId`, `status`, `ts` no null value\n",
    "- number of `song` is the same as `artist`\n",
    "- `userAgent` is part of user info"
   ]
  },
  {
   "cell_type": "code",
   "execution_count": 8,
   "metadata": {},
   "outputs": [
    {
     "name": "stdout",
     "output_type": "stream",
     "text": [
      "+------+\n",
      "|userId|\n",
      "+------+\n",
      "|      |\n",
      "|    10|\n",
      "|   100|\n",
      "|100001|\n",
      "|100002|\n",
      "|100003|\n",
      "|100004|\n",
      "|100005|\n",
      "|100006|\n",
      "|100007|\n",
      "|100008|\n",
      "|100009|\n",
      "|100010|\n",
      "|100011|\n",
      "|100012|\n",
      "|100013|\n",
      "|100014|\n",
      "|100015|\n",
      "|100016|\n",
      "|100017|\n",
      "+------+\n",
      "only showing top 20 rows\n",
      "\n"
     ]
    }
   ],
   "source": [
    "# No null value in userId and sessionID, explore more\n",
    "user_log.select('userId').dropDuplicates().sort('userId').show()"
   ]
  },
  {
   "cell_type": "code",
   "execution_count": 3,
   "metadata": {},
   "outputs": [
    {
     "name": "stdout",
     "output_type": "stream",
     "text": [
      "Now the number of data after cleansing is 528005\n"
     ]
    }
   ],
   "source": [
    "# drop the \"\"\n",
    "user_log_clean = user_log.filter(user_log['userId'] != \"\")\n",
    "print(f'Now the number of data after cleansing is {user_log_clean.count()}')"
   ]
  },
  {
   "cell_type": "code",
   "execution_count": 4,
   "metadata": {},
   "outputs": [
    {
     "data": {
      "text/plain": [
       "Row(artist='Martin Orford', auth='Logged In', firstName='Joseph', gender='M', itemInSession=20, lastName='Morales', length=597.55057, level='free', location='Corpus Christi, TX', method='PUT', page='NextSong', registration=1532063507000, sessionId=292, song='Grand Designs', status=200, ts=1538352011000, userAgent='\"Mozilla/5.0 (Macintosh; Intel Mac OS X 10_9_4) AppleWebKit/537.36 (KHTML, like Gecko) Chrome/36.0.1985.125 Safari/537.36\"', userId='293', year='2018', month='10', day='1', hour='8')"
      ]
     },
     "execution_count": 4,
     "metadata": {},
     "output_type": "execute_result"
    }
   ],
   "source": [
    "# deal with the ts\n",
    "# turn ts into year, month, day and hour\n",
    "get_year = udf(lambda x: datetime.datetime.fromtimestamp(x/1000).year)\n",
    "get_month = udf(lambda x: datetime.datetime.fromtimestamp(x/1000).month)\n",
    "get_day = udf(lambda x: datetime.datetime.fromtimestamp(x/1000).day)\n",
    "get_hour = udf(lambda x: datetime.datetime.fromtimestamp(x/1000).hour)\n",
    "\n",
    "# add two new columns datetime and hour\n",
    "user_log_clean = user_log_clean.withColumn('year', get_year(user_log_clean.ts))\n",
    "user_log_clean = user_log_clean.withColumn('month', get_month(user_log_clean.ts))\n",
    "user_log_clean = user_log_clean.withColumn('day', get_day(user_log_clean.ts))\n",
    "user_log_clean = user_log_clean.withColumn('hour', get_hour(user_log_clean.ts))\n",
    "\n",
    "user_log_clean.head()"
   ]
  },
  {
   "cell_type": "markdown",
   "metadata": {},
   "source": [
    "# Exploratary Data Analysis\n",
    "\n",
    "## Q&A\n",
    "- `Cancellation Confirmation`事件中，有多少是付费客户，多少是免费客户，由付费转为免费，由免费转为付费\n",
    "- `Cancellation Confirmation`事件中的gender, location, hour, song, artist\n",
    "- 每个用户总共听了多少首歌\n",
    "- downgrade后，哪些user选择了cancel\n",
    "- upgrade后，哪些user选择了cancel\n",
    "- user对每个页面的使用频率\n",
    "- user Session次数\n",
    "- user 注册了多久"
   ]
  },
  {
   "cell_type": "markdown",
   "metadata": {},
   "source": [
    "## Define customer churn"
   ]
  },
  {
   "cell_type": "code",
   "execution_count": 5,
   "metadata": {},
   "outputs": [],
   "source": [
    "#  add churn label: True or False\n",
    "add_churn_label = udf(lambda x: 1 if x=='Cancellation Confirmation' else 0, IntegerType())\n",
    "user_log_clean = user_log_clean.withColumn('churn', add_churn_label('page'))"
   ]
  },
  {
   "cell_type": "code",
   "execution_count": 6,
   "metadata": {},
   "outputs": [
    {
     "data": {
      "text/plain": [
       "[Row(userId='162', firstname='Lakyla', ts=1542055421000, page='Cancel', level='paid', graded=0, phase=2),\n",
       " Row(userId='162', firstname='Lakyla', ts=1542055421000, page='Cancellation Confirmation', level='paid', graded=0, phase=2),\n",
       " Row(userId='162', firstname='Lakyla', ts=1542055420000, page='Roll Advert', level='paid', graded=0, phase=2),\n",
       " Row(userId='162', firstname='Lakyla', ts=1542054649000, page='NextSong', level='paid', graded=0, phase=2),\n",
       " Row(userId='162', firstname='Lakyla', ts=1542054358000, page='NextSong', level='paid', graded=0, phase=2)]"
      ]
     },
     "execution_count": 6,
     "metadata": {},
     "output_type": "execute_result"
    }
   ],
   "source": [
    "# mark the user who downgrade or upgrade\n",
    "# mark downgrade as 1, upgrade as 2\n",
    "grade_flag = udf(lambda x: 1 if x=='Submit Downgrade' else 2 if x=='Submit Upgrade' else 0, IntegerType())\n",
    "# add new columns downgraded, upgraded\n",
    "user_log_clean = user_log_clean.withColumn('graded', grade_flag('page'))\n",
    "#user_log_copy.select([\"userId\", \"firstname\", \"ts\", \"page\", \"level\", \"graded\"]).where(user_log_copy.userId == \"162\").sort(\"ts\").collect()\n",
    "windowval = Window.partitionBy('userId').orderBy('ts').rangeBetween(Window.unboundedPreceding, 0)\n",
    "user_log_clean = user_log_clean.withColumn(\"phase\", Fsum('graded').over(windowval))\n",
    "user_log_clean.select([\"userId\", \"firstname\", \"ts\", \"page\", \"level\", \"graded\",\"phase\"])\\\n",
    "             .where(user_log_clean.userId == \"162\").sort(user_log_clean.ts.desc()).take(5)"
   ]
  },
  {
   "cell_type": "code",
   "execution_count": 7,
   "metadata": {},
   "outputs": [
    {
     "name": "stdout",
     "output_type": "stream",
     "text": [
      "The number of users marked as churn is 99\n"
     ]
    }
   ],
   "source": [
    "# use coalesce to make sure no shuffle!!!\n",
    "user_log_label = user_log_clean.select('userId','gender','location','level','ts','page','phase','churn')\\\n",
    "                               .sort(user_log_clean.userId, user_log_clean.ts.desc(), user_log_clean.page.desc())\\\n",
    "                               .coalesce(1).drop_duplicates(['userId']).sort('userId')\n",
    "print(f'The number of users marked as churn is {user_log_label.filter(user_log_label.churn==1).count()}')\n",
    "#user_log_label.write.save(out_path, format='csv', header=True)\n",
    "#user_log_label = spark.read.csv(out_path, header=True)\n",
    "#user_log_label.count()"
   ]
  },
  {
   "cell_type": "markdown",
   "metadata": {},
   "source": [
    "some users went through both `downgraded` and `upgraded` (Phase>=3)"
   ]
  },
  {
   "cell_type": "code",
   "execution_count": 15,
   "metadata": {},
   "outputs": [
    {
     "data": {
      "text/plain": [
       "[Row(userId='100011', level='free', graded=2, phase=8, page='Submit Upgrade'),\n",
       " Row(userId='100011', level='paid', graded=1, phase=6, page='Submit Downgrade'),\n",
       " Row(userId='100011', level='free', graded=2, phase=5, page='Submit Upgrade'),\n",
       " Row(userId='100011', level='paid', graded=1, phase=3, page='Submit Downgrade'),\n",
       " Row(userId='100011', level='free', graded=2, phase=2, page='Submit Upgrade')]"
      ]
     },
     "execution_count": 15,
     "metadata": {},
     "output_type": "execute_result"
    }
   ],
   "source": [
    "# see the behavior of user 100011 (phase=8)\n",
    "user_log_clean.select('userId','level','graded','phase','page')\\\n",
    ".where((user_log_clean.userId=='100011')&((user_log_clean.page=='Submit Downgrade')|(user_log_clean.page=='Submit Upgrade')))\\\n",
    ".sort(user_log_clean.ts.desc()).collect()"
   ]
  },
  {
   "cell_type": "code",
   "execution_count": 16,
   "metadata": {},
   "outputs": [
    {
     "data": {
      "text/plain": [
       "Text(0, 0.5, 'count')"
      ]
     },
     "execution_count": 16,
     "metadata": {},
     "output_type": "execute_result"
    },
    {
     "data": {
      "image/png": "[encoded data removed]",
      "text/plain": [
       "<Figure size 432x288 with 1 Axes>"
      ]
     },
     "metadata": {
      "image/png": {
       "height": 266,
       "width": 392
      },
      "needs_background": "light"
     },
     "output_type": "display_data"
    }
   ],
   "source": [
    "# check male, female\n",
    "gender_df = user_log_label.select('gender','churn').groupby('gender','churn').count().toPandas()\n",
    "sns.barplot(x='churn',y='count',hue='gender',data=gender_df)\n",
    "plt.xlabel('churn')\n",
    "plt.ylabel('count')"
   ]
  },
  {
   "cell_type": "code",
   "execution_count": 17,
   "metadata": {
    "scrolled": true
   },
   "outputs": [
    {
     "data": {
      "text/plain": [
       "Text(0, 0.5, 'count')"
      ]
     },
     "execution_count": 17,
     "metadata": {},
     "output_type": "execute_result"
    },
    {
     "data": {
      "image/png": "[encoded data removed]",
      "text/plain": [
       "<Figure size 432x288 with 1 Axes>"
      ]
     },
     "metadata": {
      "image/png": {
       "height": 266,
       "width": 392
      },
      "needs_background": "light"
     },
     "output_type": "display_data"
    }
   ],
   "source": [
    "# check level\n",
    "level_df = user_log_label.select('level','churn').groupby('level','churn').count().toPandas()\n",
    "sns.barplot(x='churn',y='count',hue='level',data=level_df)\n",
    "plt.xlabel('churn')\n",
    "plt.ylabel('count')"
   ]
  },
  {
   "cell_type": "code",
   "execution_count": 19,
   "metadata": {
    "scrolled": true
   },
   "outputs": [
    {
     "data": {
      "text/plain": [
       "<matplotlib.axes._subplots.AxesSubplot at 0x1a17127810>"
      ]
     },
     "execution_count": 19,
     "metadata": {},
     "output_type": "execute_result"
    },
    {
     "data": {
      "image/png": "[encoded data removed]",
      "text/plain": [
       "<Figure size 432x288 with 1 Axes>"
      ]
     },
     "metadata": {
      "image/png": {
       "height": 266,
       "width": 386
      },
      "needs_background": "light"
     },
     "output_type": "display_data"
    }
   ],
   "source": [
    "# phase and churn\n",
    "phase_df = user_log_label.filter(user_log_label.churn==1).select('phase').groupby('phase').count().toPandas()\n",
    "sns.barplot(x='phase',y='count',data=phase_df)"
   ]
  },
  {
   "cell_type": "code",
   "execution_count": null,
   "metadata": {},
   "outputs": [],
   "source": [
    "# number of songs each user listen\n",
    "num_songs_df = user_log_clean.select('userId').where(user_log_clean.page=='NextSong').groupby('userId').count().toPandas()\n",
    "sns.distplot(num_songs_df['count'], kde=False)\n",
    "plt.xlim(-1, 0.8*max(num_songs_df['count']))"
   ]
  },
  {
   "cell_type": "code",
   "execution_count": 9,
   "metadata": {},
   "outputs": [
    {
     "name": "stdout",
     "output_type": "stream",
     "text": [
      "+------+------+--------------------+-----+-------------+--------------------+-----+-----+--------------+\n",
      "|userId|gender|            location|level|           ts|                page|phase|churn|songs_listened|\n",
      "+------+------+--------------------+-----+-------------+--------------------+-----+-----+--------------+\n",
      "|100010|     F|Bridgeport-Stamfo...| free|1539254318000|Cancellation Conf...|    0|    1|            96|\n",
      "|200002|     M|Chicago-Napervill...| paid|1540877026000|Cancellation Conf...|    2|    1|           310|\n",
      "|   296|     F|Allentown-Bethleh...| paid|1539187234000|Cancellation Conf...|    2|    1|           112|\n",
      "|   125|     M|  Corpus Christi, TX| free|1542265610000|     Add to Playlist|    0|    0|            62|\n",
      "|   124|     F|Vineland-Bridgeto...| paid|1541948983000|Cancellation Conf...|    0|    1|          1826|\n",
      "|    51|     M|Lexington-Fayette...| paid|1539709266000|Cancellation Conf...|    0|    1|           266|\n",
      "|     7|     M|Seattle-Tacoma-Be...| free|1543409350000|         Roll Advert|    0|    0|           462|\n",
      "|200037|     M|     Columbus, GA-AL| free|1540347849000|Cancellation Conf...|    0|    1|           122|\n",
      "|   169|     M|Lafayette-West La...| free|1543587933000|         Roll Advert|    0|    0|           112|\n",
      "|   205|     F|     Ottawa-Peru, IL| paid|1542817261000|          Add Friend|    0|    0|          1048|\n",
      "|   272|     F|Charlotte-Concord...| free|1540629648000|           Thumbs Up|    0|    0|            97|\n",
      "|    15|     M|      Morgantown, WV| paid|1543140731000|                Home|    0|    0|          1835|\n",
      "|   232|     F|San Francisco-Oak...| paid|1543613223000|           Downgrade|    5|    0|          1876|\n",
      "|   234|     M|New Orleans-Metai...| paid|1541087401000|Cancellation Conf...|    2|    1|          1674|\n",
      "|   282|     M|San Francisco-Oak...| paid|1543469420000|     Add to Playlist|    2|    0|          2629|\n",
      "|    54|     F|Spokane-Spokane V...| paid|1538987586000|Cancellation Conf...|    0|    1|           517|\n",
      "|   155|     F|Chicago-Napervill...| paid|1541411759000|           Thumbs Up|    0|    0|           140|\n",
      "|200043|     F|Boston-Cambridge-...| paid|1542382292000|            NextSong|    2|    0|           615|\n",
      "|100014|     M|New York-Newark-J...| paid|1540103857000|Cancellation Conf...|    0|    1|           332|\n",
      "|   132|     F|Denver-Aurora-Lak...| paid|1539041513000|Cancellation Conf...|    2|    1|           113|\n",
      "+------+------+--------------------+-----+-------------+--------------------+-----+-----+--------------+\n",
      "only showing top 20 rows\n",
      "\n"
     ]
    }
   ],
   "source": [
    "# join number of songs with user_log_label\n",
    "user_num_songs = user_log_clean.select('userId').where(user_log_clean.page=='NextSong')\\\n",
    "                               .groupby('userId').count().withColumnRenamed('count','songs_listened').withColumnRenamed('userId','userIdTemp')\n",
    "user_log_label = user_log_label.join(user_num_songs, user_log_label.userId==user_num_songs.userIdTemp, 'left_outer').drop('userIdTemp')\n",
    "user_log_label = user_log_label.drop('song_userId')\n",
    "user_log_label.show()"
   ]
  },
  {
   "cell_type": "code",
   "execution_count": 62,
   "metadata": {},
   "outputs": [
    {
     "data": {
      "text/plain": [
       "(-1, 2000)"
      ]
     },
     "execution_count": 62,
     "metadata": {},
     "output_type": "execute_result"
    },
    {
     "data": {
      "image/png": "[encoded data removed]",
      "text/plain": [
       "<Figure size 432x288 with 1 Axes>"
      ]
     },
     "metadata": {
      "image/png": {
       "height": 271,
       "width": 406
      },
      "needs_background": "light"
     },
     "output_type": "display_data"
    }
   ],
   "source": [
    "# number of songs users who marked as churn listen\n",
    "songs_df = user_log_label.select('songs_listened','churn').toPandas()\n",
    "sns.boxplot(x='churn',y='songs_listened',data=songs_df)\n",
    "plt.ylim(-1,2000);"
   ]
  },
  {
   "cell_type": "code",
   "execution_count": 11,
   "metadata": {},
   "outputs": [
    {
     "name": "stdout",
     "output_type": "stream",
     "text": [
      "+------+--------------------+-----+-------------+--------------------+-----+-----+--------------+------+---------------+-------------+\n",
      "|gender|            location|level|           ts|                page|phase|churn|songs_listened|userId|num_thumbs_down|num_thumbs_up|\n",
      "+------+--------------------+-----+-------------+--------------------+-----+-----+--------------+------+---------------+-------------+\n",
      "|     F|Bridgeport-Stamfo...| free|1539254318000|Cancellation Conf...|    0|    1|            96|100010|              3|            4|\n",
      "|     M|Chicago-Napervill...| paid|1540877026000|Cancellation Conf...|    2|    1|           310|200002|              5|           15|\n",
      "|  null|                null| null|         null|                null| null| null|          null|  null|              0|            8|\n",
      "|     M|  Corpus Christi, TX| free|1542265610000|     Add to Playlist|    0|    0|            62|   125|              1|            3|\n",
      "|     F|Vineland-Bridgeto...| paid|1541948983000|Cancellation Conf...|    0|    1|          1826|   124|             15|          102|\n",
      "|     M|Lexington-Fayette...| paid|1539709266000|Cancellation Conf...|    0|    1|           266|    51|              1|           16|\n",
      "|     M|Seattle-Tacoma-Be...| free|1543409350000|         Roll Advert|    0|    0|           462|     7|              4|           12|\n",
      "|     M|     Columbus, GA-AL| free|1540347849000|Cancellation Conf...|    0|    1|           122|200037|              3|            5|\n",
      "|  null|                null| null|         null|                null| null| null|          null|  null|              0|            6|\n",
      "|     F|     Ottawa-Peru, IL| paid|1542817261000|          Add Friend|    0|    0|          1048|   205|             10|           50|\n",
      "|     F|Charlotte-Concord...| free|1540629648000|           Thumbs Up|    0|    0|            97|   272|              4|            7|\n",
      "|     M|      Morgantown, WV| paid|1543140731000|                Home|    0|    0|          1835|    15|             16|           93|\n",
      "|     F|San Francisco-Oak...| paid|1543613223000|           Downgrade|    5|    0|          1876|   232|             17|           97|\n",
      "|     M|New Orleans-Metai...| paid|1541087401000|Cancellation Conf...|    2|    1|          1674|   234|             22|           91|\n",
      "|     M|San Francisco-Oak...| paid|1543469420000|     Add to Playlist|    2|    0|          2629|   282|             29|          133|\n",
      "|     F|Spokane-Spokane V...| paid|1538987586000|Cancellation Conf...|    0|    1|           517|    54|              7|           26|\n",
      "|  null|                null| null|         null|                null| null| null|          null|  null|              0|            7|\n",
      "|     F|Boston-Cambridge-...| paid|1542382292000|            NextSong|    2|    0|           615|200043|             22|           33|\n",
      "|     M|New York-Newark-J...| paid|1540103857000|Cancellation Conf...|    0|    1|           332|100014|              3|           14|\n",
      "|     F|Denver-Aurora-Lak...| paid|1539041513000|Cancellation Conf...|    2|    1|           113|   132|              1|            4|\n",
      "+------+--------------------+-----+-------------+--------------------+-----+-----+--------------+------+---------------+-------------+\n",
      "only showing top 20 rows\n",
      "\n"
     ]
    }
   ],
   "source": [
    "### thumbs up or down\n",
    "user_thumbs_down = user_log_clean.select('userId').where(user_log_clean.page=='Thumbs Down')\\\n",
    "                                 .groupby('userId').count().withColumnRenamed('count', 'num_thumbs_down')\n",
    "user_thumbs_up = user_log_clean.select('userId').where(user_log_clean.page=='Thumbs Up')\\\n",
    "                                 .groupby('userId').count().withColumnRenamed('count', 'num_thumbs_up')\n",
    "#assert user_thumbs_down.count()==user_thumbs_up.count()==user_log_label.count()\n",
    "user_log_label = user_log_label.join(user_thumbs_down, user_log_label.userId==user_thumbs_down.userId, 'outer').drop(user_thumbs_down.userId)\n",
    "user_log_label = user_log_label.join(user_thumbs_up, user_log_label.userId==user_thumbs_up.userId, 'outer').drop(user_thumbs_up.userId)\n",
    "user_log_label = user_log_label.fillna(0, subset=['num_thumbs_down','num_thumbs_up'])\n",
    "user_log_label.show()"
   ]
  },
  {
   "cell_type": "code",
   "execution_count": 34,
   "metadata": {},
   "outputs": [
    {
     "data": {
      "text/html": [
       "<div>\n",
       "<style scoped>\n",
       "    .dataframe tbody tr th:only-of-type {\n",
       "        vertical-align: middle;\n",
       "    }\n",
       "\n",
       "    .dataframe tbody tr th {\n",
       "        vertical-align: top;\n",
       "    }\n",
       "\n",
       "    .dataframe thead th {\n",
       "        text-align: right;\n",
       "    }\n",
       "</style>\n",
       "<table border=\"1\" class=\"dataframe\">\n",
       "  <thead>\n",
       "    <tr style=\"text-align: right;\">\n",
       "      <th></th>\n",
       "      <th>churn</th>\n",
       "      <th>sum(churn)</th>\n",
       "      <th>sum(num_thumbs_down)</th>\n",
       "      <th>sum(num_thumbs_up)</th>\n",
       "    </tr>\n",
       "  </thead>\n",
       "  <tbody>\n",
       "    <tr>\n",
       "      <th>0</th>\n",
       "      <td>1</td>\n",
       "      <td>99</td>\n",
       "      <td>1156</td>\n",
       "      <td>4300</td>\n",
       "    </tr>\n",
       "    <tr>\n",
       "      <th>1</th>\n",
       "      <td>0</td>\n",
       "      <td>0</td>\n",
       "      <td>3755</td>\n",
       "      <td>19526</td>\n",
       "    </tr>\n",
       "  </tbody>\n",
       "</table>\n",
       "</div>"
      ],
      "text/plain": [
       "   churn  sum(churn)  sum(num_thumbs_down)  sum(num_thumbs_up)\n",
       "0      1          99                  1156                4300\n",
       "1      0           0                  3755               19526"
      ]
     },
     "execution_count": 34,
     "metadata": {},
     "output_type": "execute_result"
    }
   ],
   "source": [
    "# count thumbs\n",
    "thumbs_df = user_log_label.select('churn','num_thumbs_down','num_thumbs_up').groupby('num_thumbs_down','churn').sum().toPandas()\n",
    "thumbs_df"
   ]
  },
  {
   "cell_type": "code",
   "execution_count": 37,
   "metadata": {},
   "outputs": [
    {
     "name": "stdout",
     "output_type": "stream",
     "text": [
      "+------+-----+\n",
      "|userId|count|\n",
      "+------+-----+\n",
      "|100010|  137|\n",
      "|200002|  395|\n",
      "|   296|  152|\n",
      "|   125|   84|\n",
      "|    51|  328|\n",
      "|   124| 2156|\n",
      "|     7|  600|\n",
      "|200037|  155|\n",
      "|   205| 1244|\n",
      "|   169|  149|\n",
      "|   272|  131|\n",
      "|    54|  624|\n",
      "|   282| 3191|\n",
      "|   232| 2325|\n",
      "|   234| 2021|\n",
      "|    15| 2173|\n",
      "|   155|  172|\n",
      "|200043|  808|\n",
      "|   154|  126|\n",
      "|   132|  144|\n",
      "+------+-----+\n",
      "only showing top 20 rows\n",
      "\n"
     ]
    }
   ],
   "source": [
    "# session次数\n",
    "user_log_clean.select('userId','sessionID').groupby('userId').count().show()"
   ]
  },
  {
   "cell_type": "code",
   "execution_count": 12,
   "metadata": {},
   "outputs": [
    {
     "name": "stdout",
     "output_type": "stream",
     "text": [
      "+------+------------------+------------------+--------------------+\n",
      "|userId|    AvgSessionTime|    MaxSessionTime|      MinSessionTime|\n",
      "+------+------------------+------------------+--------------------+\n",
      "|    10|            1502.4|            1502.4|              1502.4|\n",
      "|   100|350.47777777777776|1645.2333333333333|0.016666666666666666|\n",
      "|100001|137.66111111111113|202.13333333333333|   42.13333333333333|\n",
      "|100002|          150.2625|333.43333333333334|   52.63333333333333|\n",
      "|100003| 296.9277777777778|1277.2333333333333|                 0.0|\n",
      "|100004|222.09666666666664|            444.75|  48.516666666666666|\n",
      "|100005|139.03333333333333|223.68333333333334|   54.38333333333333|\n",
      "|100006| 235.9766666666667|            415.05|                 0.0|\n",
      "|100007| 288.9013888888889|            749.25|   37.11666666666667|\n",
      "|100008| 262.2944444444444|             386.0|  141.41666666666666|\n",
      "|100009|402.93000000000006|           1386.45|                 0.0|\n",
      "|100010|           210.375|222.56666666666666|  198.18333333333334|\n",
      "|100011|208.92583333333337| 890.1666666666666|   4.833333333333333|\n",
      "|100012| 72.28055555555557|165.38333333333333|                 0.0|\n",
      "|100013| 75.41666666666667| 75.41666666666667|   75.41666666666667|\n",
      "|100014|           348.975| 794.4333333333333|               87.75|\n",
      "|100015|126.88076923076923| 543.8166666666667|                 0.0|\n",
      "|100016|113.63333333333333|            349.45|                9.35|\n",
      "|100017|270.40833333333336|            372.35|  168.46666666666667|\n",
      "|100018| 258.6166666666667|303.26666666666665|  213.96666666666667|\n",
      "+------+------------------+------------------+--------------------+\n",
      "only showing top 20 rows\n",
      "\n"
     ]
    }
   ],
   "source": [
    "# 平均会话时长\n",
    "user_sessionTime = user_log_clean.groupby('userId','sessionID').agg(((F.max(user_log_clean.ts)-F.min(user_log_clean.ts))/(1000*60))\n",
    "                                                 .alias('sessionTime')).sort('userId')\n",
    "user_sessionTime_stat = user_sessionTime.groupby('userId').agg(avg(user_sessionTime.sessionTime).alias('AvgSessionTime'),\n",
    "                                                               F.max(user_sessionTime.sessionTime).alias('MaxSessionTime'),\n",
    "                                                               F.min(user_sessionTime.sessionTime).alias('MinSessionTime')).sort('userId')\n",
    "user_sessionTime_stat.show()"
   ]
  },
  {
   "cell_type": "code",
   "execution_count": 13,
   "metadata": {},
   "outputs": [
    {
     "name": "stdout",
     "output_type": "stream",
     "text": [
      "+------+------------------+\n",
      "|userId| songs_per_session|\n",
      "+------+------------------+\n",
      "|    10|             360.0|\n",
      "|   100| 86.71794871794872|\n",
      "|100001|              32.0|\n",
      "|100002|             34.25|\n",
      "|100003|            82.625|\n",
      "|100004|              52.4|\n",
      "|100005|              36.0|\n",
      "|100006|             73.75|\n",
      "|100007| 71.08333333333333|\n",
      "|100008| 64.33333333333333|\n",
      "|100009|             100.5|\n",
      "|100010|              48.0|\n",
      "|100011|             51.05|\n",
      "|100012|              22.4|\n",
      "|100013|              20.0|\n",
      "|100014|              83.0|\n",
      "|100015|             31.75|\n",
      "|100016|27.166666666666668|\n",
      "|100017|              63.5|\n",
      "|100018|              62.0|\n",
      "+------+------------------+\n",
      "only showing top 20 rows\n",
      "\n"
     ]
    }
   ],
   "source": [
    "# 每个session平均听歌数量\n",
    "user_session_songs = user_log_clean.filter(user_log_clean.page=='NextSong').groupby('userId','sessionID').count()\n",
    "user_per_session_songs = user_session_songs.groupby('userId').agg(avg(user_session_songs['count']).alias('songs_per_session')).sort('userId')\n",
    "user_per_session_songs.show()"
   ]
  },
  {
   "cell_type": "code",
   "execution_count": 14,
   "metadata": {},
   "outputs": [
    {
     "data": {
      "image/png": "[encoded data removed]",
      "text/plain": [
       "<Figure size 432x288 with 1 Axes>"
      ]
     },
     "metadata": {
      "image/png": {
       "height": 270,
       "width": 392
      },
      "needs_background": "light"
     },
     "output_type": "display_data"
    }
   ],
   "source": [
    "### registration time\n",
    "user_use_time = user_log_clean.groupby('userId').agg(((F.max(user_log_clean.ts)-F.max(user_log_clean.registration))/(1000*60*60*24))\\\n",
    "                                                     .alias('user_time')).sort('userId')\n",
    "user_log_label = user_log_label.join(user_use_time, user_log_label.userId==user_use_time.userId).drop(user_use_time.userId)\n",
    "registration_df = user_log_label.groupby('churn').agg(avg(user_log_label.user_time)).toPandas()\n",
    "sns.barplot(x='churn',y='avg(user_time)',data=registration_df);"
   ]
  },
  {
   "cell_type": "code",
   "execution_count": 56,
   "metadata": {},
   "outputs": [
    {
     "data": {
      "text/plain": [
       "[Row(location='Atlantic City-Hammonton, NJ'),\n",
       " Row(location='Gainesville, FL'),\n",
       " Row(location='Richmond, VA'),\n",
       " Row(location='Tucson, AZ'),\n",
       " Row(location='Oskaloosa, IA'),\n",
       " Row(location='San Diego-Carlsbad, CA'),\n",
       " Row(location='Deltona-Daytona Beach-Ormond Beach, FL'),\n",
       " Row(location='Cleveland-Elyria, OH'),\n",
       " Row(location='Medford, OR'),\n",
       " Row(location='Kingsport-Bristol-Bristol, TN-VA')]"
      ]
     },
     "execution_count": 56,
     "metadata": {},
     "output_type": "execute_result"
    }
   ],
   "source": [
    "#location\n",
    "user_log_clean.select('location').drop_duplicates().take(10)"
   ]
  },
  {
   "cell_type": "code",
   "execution_count": 15,
   "metadata": {},
   "outputs": [
    {
     "data": {
      "text/plain": [
       "[Row(page='About'),\n",
       " Row(page='Add Friend'),\n",
       " Row(page='Add to Playlist'),\n",
       " Row(page='Cancel'),\n",
       " Row(page='Cancellation Confirmation'),\n",
       " Row(page='Downgrade'),\n",
       " Row(page='Error'),\n",
       " Row(page='Help'),\n",
       " Row(page='Home'),\n",
       " Row(page='Logout'),\n",
       " Row(page='NextSong'),\n",
       " Row(page='Roll Advert'),\n",
       " Row(page='Save Settings'),\n",
       " Row(page='Settings'),\n",
       " Row(page='Submit Downgrade'),\n",
       " Row(page='Submit Upgrade'),\n",
       " Row(page='Thumbs Down'),\n",
       " Row(page='Thumbs Up'),\n",
       " Row(page='Upgrade')]"
      ]
     },
     "execution_count": 15,
     "metadata": {},
     "output_type": "execute_result"
    }
   ],
   "source": [
    "# check all the page types\n",
    "user_log_clean.select('page').drop_duplicates().sort('page').collect()"
   ]
  },
  {
   "cell_type": "code",
   "execution_count": 24,
   "metadata": {},
   "outputs": [
    {
     "data": {
      "text/plain": [
       "Text(0.5, 0, 'Hour')"
      ]
     },
     "execution_count": 24,
     "metadata": {},
     "output_type": "execute_result"
    },
    {
     "data": {
      "image/png": "[encoded data removed]",
      "text/plain": [
       "<Figure size 720x432 with 1 Axes>"
      ]
     },
     "metadata": {
      "image/png": {
       "height": 379,
       "width": 636
      },
      "needs_background": "light"
     },
     "output_type": "display_data"
    }
   ],
   "source": [
    "# number of songs are played for each hour using page=='NextSong'\n",
    "song_in_hour = user_log_clean.select('hour').where(user_log_clean['page']=='NextSong').groupby('hour').count()\\\n",
    "              .orderBy(user_log_clean['hour'].cast('float')).toPandas()\n",
    "plt.figure(figsize=(10,6))\n",
    "plt.scatter(song_in_hour['hour'], song_in_hour['count'])\n",
    "plt.xlim(-1,24)\n",
    "plt.ylim(0, 1.2*max(song_in_hour['count']))\n",
    "plt.ylabel('Songs played')\n",
    "plt.xlabel('Hour')"
   ]
  },
  {
   "cell_type": "code",
   "execution_count": 25,
   "metadata": {},
   "outputs": [
    {
     "data": {
      "text/plain": [
       "Text(0.5, 0, 'Hour')"
      ]
     },
     "execution_count": 25,
     "metadata": {},
     "output_type": "execute_result"
    },
    {
     "data": {
      "image/png": "[encoded data removed]",
      "text/plain": [
       "<Figure size 720x432 with 1 Axes>"
      ]
     },
     "metadata": {
      "image/png": {
       "height": 379,
       "width": 607
      },
      "needs_background": "light"
     },
     "output_type": "display_data"
    }
   ],
   "source": [
    "cancel_in_hour = user_log_clean.select('hour').where(user_log_clean['page']=='Cancellation Confirmation').groupby('hour').count()\\\n",
    "              .orderBy(user_log_clean['hour'].cast('float')).toPandas()\n",
    "plt.figure(figsize=(10,6))\n",
    "plt.scatter(cancel_in_hour['hour'], cancel_in_hour['count'])\n",
    "plt.xlim(-1,24)\n",
    "plt.ylim(0, 1.2*max(cancel_in_hour['count']))\n",
    "plt.ylabel('Cancels')\n",
    "plt.xlabel('Hour')"
   ]
  },
  {
   "cell_type": "markdown",
   "metadata": {},
   "source": [
    "# Feature Engineering"
   ]
  },
  {
   "cell_type": "code",
   "execution_count": 23,
   "metadata": {},
   "outputs": [
    {
     "data": {
      "text/plain": [
       "[Row(userId='10', gender='M', location='Laurel, MS', level='paid', ts=1539055364000, page='Cancellation Confirmation', phase=0, churn=1)]"
      ]
     },
     "execution_count": 23,
     "metadata": {},
     "output_type": "execute_result"
    }
   ],
   "source": [
    "user_log_label.head(1)"
   ]
  },
  {
   "cell_type": "markdown",
   "metadata": {},
   "source": [
    "## Numerical Features"
   ]
  },
  {
   "cell_type": "markdown",
   "metadata": {},
   "source": [
    "### use days"
   ]
  },
  {
   "cell_type": "code",
   "execution_count": 8,
   "metadata": {},
   "outputs": [
    {
     "name": "stdout",
     "output_type": "stream",
     "text": [
      "+------+--------------+\n",
      "|userId|total_use_days|\n",
      "+------+--------------+\n",
      "|    10|            10|\n",
      "+------+--------------+\n",
      "only showing top 1 row\n",
      "\n"
     ]
    }
   ],
   "source": [
    "# total use days since registration\n",
    "use_days = user_log_clean.groupby('userId')\\\n",
    "                    .agg(((F.max(user_log_clean.ts)-F.max(user_log_clean.registration))/(1000*60*60*24))\n",
    "                         .alias('total_use_days'))\n",
    "use_days = use_days.select('userId',F.floor(use_days.total_use_days))\\\n",
    "                       .sort('userId').withColumnRenamed('FLOOR(total_use_days)', 'total_use_days')\n",
    "assert use_days.count()==448\n",
    "use_days.show(1)"
   ]
  },
  {
   "cell_type": "markdown",
   "metadata": {},
   "source": [
    "### page type features\n",
    "- number of interactions\n",
    "- number of songs\n",
    "- number of thumbs-up, thumbs-down\n",
    "- number of friends\n",
    "- number of songs added to playlists\n",
    "- number of times return to home\n",
    "- number of advertisement played\n",
    "- number of help page visit\n",
    "- number of settings page visit\n",
    "- number of error page visit"
   ]
  },
  {
   "cell_type": "code",
   "execution_count": 9,
   "metadata": {},
   "outputs": [
    {
     "name": "stdout",
     "output_type": "stream",
     "text": [
      "+------+-----------------+\n",
      "|userId| num_inter_perday|\n",
      "+------+-----------------+\n",
      "|    10|             42.3|\n",
      "|   100|61.52307692307692|\n",
      "+------+-----------------+\n",
      "only showing top 2 rows\n",
      "\n"
     ]
    }
   ],
   "source": [
    "# number of interactions\n",
    "num_inter = user_log_clean.select('userId','page').groupby('userId').count().sort('userId')\n",
    "assert num_inter.count() == 448\n",
    "# calculate the number of interactions per day to eliminate the effect of different use days of each user\n",
    "num_inter = num_inter.join(use_days, num_inter.userId==use_days.userId).drop(use_days.userId)\n",
    "num_inter_perday = num_inter.withColumn('num_inter_perday', num_inter['count']/num_inter['total_use_days'])\\\n",
    "                            .drop('count', 'total_use_days').sort('userId')      \n",
    "num_inter_perday.show(2)"
   ]
  },
  {
   "cell_type": "code",
   "execution_count": 13,
   "metadata": {},
   "outputs": [],
   "source": [
    "def perday_feature(page):\n",
    "    \n",
    "    num = user_log_clean.select('userId').where(user_log_clean.page==page)\\\n",
    "                            .groupby('userId').count().sort('userId').withColumnRenamed('userId','userId1')\n",
    "    # number per day\n",
    "    temp_view = user_log_clean.select('userId').drop_duplicates().sort('userId')\n",
    "    num = temp_view.join(num, temp_view.userId==num.userId1,'left_outer').drop('userId1')\\\n",
    "                           .fillna(0).sort('userId')\n",
    "    assert num.count() == 448\n",
    "    num = num.join(use_days, num.userId==use_days.userId).drop(use_days.userId)\n",
    "    num_perday = num.withColumn('num_'+page.split()[-1]+'_perday', num['count']/num['total_use_days'])\\\n",
    "                                    .drop('count','total_use_days').sort('userId')\n",
    "    return num_perday"
   ]
  },
  {
   "cell_type": "code",
   "execution_count": 15,
   "metadata": {},
   "outputs": [
    {
     "name": "stdout",
     "output_type": "stream",
     "text": [
      "+------+--------------------+--------------------+--------------------+--------------------+-------------------+-------------------+-------------------+-------------------+--------------------+-------------------+------------------+\n",
      "|userId|   num_Friend_perday| num_Playlist_perday|    num_Error_perday|     num_Help_perday|    num_Home_perday|num_NextSong_perday|  num_Advert_perday|num_Settings_perday|     num_Down_perday|      num_Up_perday|  num_inter_perday|\n",
      "+------+--------------------+--------------------+--------------------+--------------------+-------------------+-------------------+-------------------+-------------------+--------------------+-------------------+------------------+\n",
      "|    10|                 0.3|                 1.4|                 0.1|                 0.3|                1.5|               36.0|                0.0|                0.0|                 0.1|                1.7|              42.3|\n",
      "|   100|  1.0923076923076922|  1.4461538461538461|0.046153846153846156| 0.26153846153846155|  2.076923076923077|  52.03076923076923|0.12307692307692308|0.03076923076923077|  0.5692307692307692|                2.2| 61.52307692307692|\n",
      "|100001|0.022727272727272728| 0.06818181818181818|                 0.0|0.022727272727272728|0.09090909090909091| 2.1818181818181817|0.29545454545454547|                0.0|0.022727272727272728|0.11363636363636363|3.0454545454545454|\n",
      "|100002|                 0.0|0.023255813953488372|                 0.0|0.015503875968992248|0.09302325581395349|  1.062015503875969|0.03875968992248062|                0.0|0.015503875968992248|0.06201550387596899| 1.372093023255814|\n",
      "|100003|                0.16|                0.38|                0.02|                0.06|               0.62|              13.22|               0.82|               0.02|                 0.2|               0.32|             16.54|\n",
      "+------+--------------------+--------------------+--------------------+--------------------+-------------------+-------------------+-------------------+-------------------+--------------------+-------------------+------------------+\n",
      "only showing top 5 rows\n",
      "\n"
     ]
    }
   ],
   "source": [
    "page_lst = ['Add Friend','Add to Playlist','Error','Help','Home','NextSong','Roll Advert',\n",
    "            'Save Settings','Thumbs Down','Thumbs Up']\n",
    "interaction_feature = user_log_clean.select('userId').drop_duplicates().sort('userId')\n",
    "\n",
    "for page in page_lst:\n",
    "    num_perday = perday_feature(page)\n",
    "    interaction_feature = interaction_feature.join(num_perday, interaction_feature.userId==num_perday.userId)\\\n",
    "                                     .drop(num_perday.userId).sort('userId')\n",
    "# join interaction_perday\n",
    "interaction_feature = interaction_feature.join(num_inter_perday, \n",
    "                                               interaction_feature.userId==num_inter_perday.userId)\\\n",
    "                                 .drop(num_inter_perday.userId).sort('userId')\n",
    "assert interaction_feature.count() == 448\n",
    "interaction_feature.show(5)"
   ]
  },
  {
   "cell_type": "code",
   "execution_count": 17,
   "metadata": {},
   "outputs": [
    {
     "name": "stdout",
     "output_type": "stream",
     "text": [
      "root\n",
      " |-- userId: string (nullable = true)\n",
      " |-- num_Friend_perday: double (nullable = true)\n",
      " |-- num_Playlist_perday: double (nullable = true)\n",
      " |-- num_Error_perday: double (nullable = true)\n",
      " |-- num_Help_perday: double (nullable = true)\n",
      " |-- num_Home_perday: double (nullable = true)\n",
      " |-- num_NextSong_perday: double (nullable = true)\n",
      " |-- num_Advert_perday: double (nullable = true)\n",
      " |-- num_Settings_perday: double (nullable = true)\n",
      " |-- num_Down_perday: double (nullable = true)\n",
      " |-- num_Up_perday: double (nullable = true)\n",
      " |-- num_inter_perday: double (nullable = true)\n",
      "\n"
     ]
    }
   ],
   "source": [
    "interaction_feature.printSchema()"
   ]
  },
  {
   "cell_type": "markdown",
   "metadata": {},
   "source": [
    "###  Ratio\n",
    "- songs ratio\n",
    "- positive ratio\n",
    "- negative ratio"
   ]
  },
  {
   "cell_type": "code",
   "execution_count": 38,
   "metadata": {},
   "outputs": [],
   "source": [
    "def ratio_feature(page, num_inter):\n",
    "    num = user_log_clean.select('userId').where(user_log_clean.page==page).groupby('userId').count().sort('userId')\\\n",
    "                          .withColumnRenamed('userId','userId1').withColumnRenamed('count','num')\n",
    "    num = num_inter.join(num, num_inter.userId==num.userId1,'left_outer').drop('userId1')\\\n",
    "                           .fillna(0).sort('userId')\n",
    "    num_ratio = num.withColumn('num_'+page.split()[-1]+'_ratio', num['num']/num['count'])\\\n",
    "                               .drop('num','count').sort('userId')\n",
    "    assert num_ratio.count()==448\n",
    "    \n",
    "    return num_ratio"
   ]
  },
  {
   "cell_type": "code",
   "execution_count": 39,
   "metadata": {},
   "outputs": [],
   "source": [
    "# total number of interactions of each user\n",
    "interactions = user_log_clean.select('userId','page').groupby('userId').count().sort('userId')"
   ]
  },
  {
   "cell_type": "code",
   "execution_count": 20,
   "metadata": {},
   "outputs": [
    {
     "name": "stdout",
     "output_type": "stream",
     "text": [
      "+------+------------------+\n",
      "|userId|num_NextSong_ratio|\n",
      "+------+------------------+\n",
      "|    10| 0.851063829787234|\n",
      "|   100|0.8457114278569643|\n",
      "|100001|0.7164179104477612|\n",
      "|100002|0.7740112994350282|\n",
      "|100003|0.7992744860943168|\n",
      "+------+------------------+\n",
      "only showing top 5 rows\n",
      "\n"
     ]
    }
   ],
   "source": [
    "# songs ratio\n",
    "num_songs_ratio = ratio_feature('NextSong', interactions)\n",
    "num_songs_ratio.show(5)"
   ]
  },
  {
   "cell_type": "code",
   "execution_count": 21,
   "metadata": {},
   "outputs": [
    {
     "name": "stdout",
     "output_type": "stream",
     "text": [
      "+------+-------------------+\n",
      "|userId|     positive_ratio|\n",
      "+------+-------------------+\n",
      "|    10|0.08037825059101655|\n",
      "|   100|0.07701925481370342|\n",
      "|100001|0.06716417910447761|\n",
      "|100002|0.06214689265536723|\n",
      "|100003|0.05199516324062878|\n",
      "+------+-------------------+\n",
      "only showing top 5 rows\n",
      "\n"
     ]
    }
   ],
   "source": [
    "page_lst = ['Add Friend','Add to Playlist','Error','Help','Home','NextSong','Roll Advert',\n",
    "            'Save Settings','Thumbs Down','Thumbs Up']\n",
    "# positive ratio: Add Friend, Add to Playlist, Thumbs Down\n",
    "pos_page_lst = ['Add Friend', 'Add to Playlist', 'Thumbs Up']\n",
    "pos_ratio = user_log_clean.select('userId').drop_duplicates().sort('userId')\n",
    "for page in pos_page_lst:\n",
    "    num_ratio = ratio_feature(page, interactions)\n",
    "    pos_ratio = pos_ratio.join(num_ratio, pos_ratio.userId==num_ratio.userId).drop(num_ratio.userId)\n",
    "assert pos_ratio.count() == 448\n",
    "pos_ratio = pos_ratio.withColumn('positive_ratio', \n",
    "                (pos_ratio['num_Friend_ratio']+pos_ratio['num_Playlist_ratio']+pos_ratio['num_Up_ratio']))\n",
    "positive_ratio = pos_ratio.select('userId', 'positive_ratio').sort('userId')\n",
    "assert pos_ratio.count() == 448\n",
    "positive_ratio.show(5)"
   ]
  },
  {
   "cell_type": "code",
   "execution_count": 41,
   "metadata": {},
   "outputs": [
    {
     "name": "stdout",
     "output_type": "stream",
     "text": [
      "+------+--------------------+\n",
      "|userId|      negative_ratio|\n",
      "+------+--------------------+\n",
      "|    10| 0.01182033096926714|\n",
      "|   100|0.014753688422105527|\n",
      "|100001|0.014925373134328358|\n",
      "|100002|0.022598870056497175|\n",
      "|100003|0.018137847642079805|\n",
      "+------+--------------------+\n",
      "only showing top 5 rows\n",
      "\n"
     ]
    }
   ],
   "source": [
    "# negative ratio: Error, Help, Save Settings, Down\n",
    "neg_page_lst = ['Error', 'Help', 'Save Settings', 'Thumbs Down']\n",
    "neg_ratio = user_log_clean.select('userId').drop_duplicates().sort('userId')\n",
    "for page in neg_page_lst:\n",
    "    num_ratio = ratio_feature(page, interactions)\n",
    "    neg_ratio = neg_ratio.join(num_ratio, neg_ratio.userId==num_ratio.userId).drop(num_ratio.userId)\n",
    "assert neg_ratio.count() == 448\n",
    "neg_ratio = neg_ratio.withColumn('negative_ratio', \n",
    "                (neg_ratio['num_Error_ratio']+neg_ratio['num_Help_ratio']+neg_ratio['num_Settings_ratio']+neg_ratio['num_Down_ratio']))\n",
    "negative_ratio = neg_ratio.select('userId', 'negative_ratio').sort('userId')\n",
    "assert negative_ratio.count() == 448\n",
    "negative_ratio.show(5)"
   ]
  },
  {
   "cell_type": "code",
   "execution_count": 42,
   "metadata": {},
   "outputs": [],
   "source": [
    "ratio_feature = num_songs_ratio.join(positive_ratio, num_songs_ratio.userId==positive_ratio.userId)\\\n",
    "                               .drop(positive_ratio.userId).sort('userId')\n",
    "ratio_feature = ratio_feature.join(negative_ratio, ratio_feature.userId==negative_ratio.userId)\\\n",
    "                             .drop(negative_ratio.userId).sort('userId')"
   ]
  },
  {
   "cell_type": "code",
   "execution_count": 161,
   "metadata": {},
   "outputs": [
    {
     "name": "stdout",
     "output_type": "stream",
     "text": [
      "root\n",
      " |-- userId: string (nullable = true)\n",
      " |-- num_Friend_perday: string (nullable = true)\n",
      " |-- num_Error_perday: string (nullable = true)\n",
      " |-- num_Help_perday: string (nullable = true)\n",
      " |-- num_NextSong_perday: string (nullable = true)\n",
      " |-- num_Advert_perday: string (nullable = true)\n",
      " |-- num_settings_perday: string (nullable = true)\n",
      " |-- num_Down_perday: string (nullable = true)\n",
      " |-- num_Up_perday: string (nullable = true)\n",
      " |-- num_NextSong_ratio: string (nullable = true)\n",
      " |-- positive_ratio: string (nullable = true)\n",
      " |-- negative_ratio: string (nullable = true)\n",
      " |-- AvgSessionTime: string (nullable = true)\n",
      " |-- MaxSessionTime: string (nullable = true)\n",
      " |-- MinSessionTime: string (nullable = true)\n",
      " |-- num_songs_listened_per_session: string (nullable = true)\n",
      " |-- gender: string (nullable = true)\n",
      " |-- level: string (nullable = true)\n",
      " |-- downgraded: string (nullable = true)\n",
      " |-- upgraded: string (nullable = true)\n",
      " |-- churn: string (nullable = true)\n",
      "\n"
     ]
    }
   ],
   "source": [
    "data_for_model.printSchema()"
   ]
  },
  {
   "cell_type": "markdown",
   "metadata": {},
   "source": [
    "### session feature\n",
    "- average session time (day)\n",
    "- maximum session time (day)\n",
    "- minimum session time (day)\n",
    "- songs per session"
   ]
  },
  {
   "cell_type": "code",
   "execution_count": 24,
   "metadata": {},
   "outputs": [
    {
     "name": "stdout",
     "output_type": "stream",
     "text": [
      "+------+-------------------+-------------------+--------------------+\n",
      "|userId|     AvgSessionTIme|     MaxSessionTime|      MinSessionTime|\n",
      "+------+-------------------+-------------------+--------------------+\n",
      "|    10| 1.0433333333333332| 1.0433333333333332|  1.0433333333333332|\n",
      "|   100|0.24338734567901227| 1.1425231481481481|1.157407407407407...|\n",
      "|100001| 0.0955979938271605|0.14037037037037037| 0.02925925925925926|\n",
      "|100002|0.10434895833333332|0.23155092592592594|0.036550925925925924|\n",
      "|100003|0.20619984567901234| 0.8869675925925926|                 0.0|\n",
      "+------+-------------------+-------------------+--------------------+\n",
      "only showing top 5 rows\n",
      "\n"
     ]
    }
   ],
   "source": [
    "sessionTime = user_log_clean.groupby('userId','sessionID')\\\n",
    "                            .agg(((F.max(user_log_clean.ts)-F.min(user_log_clean.ts))/(1000*60*60*24))\\\n",
    "                                 .alias('sessionTime')).sort('userId')\n",
    "session_time_feature = sessionTime.groupby('userId').agg((F.avg(sessionTime['sessionTime'])).alias('AvgSessionTIme'),\n",
    "                                                          F.max(sessionTime['sessionTime']).alias('MaxSessionTime'),\n",
    "                                                          F.min(sessionTime['sessionTime']).alias('MinSessionTime'))\\\n",
    "                                   .sort('userId')\n",
    "assert session_time_feature.count()==448\n",
    "session_time_feature.show(5)"
   ]
  },
  {
   "cell_type": "code",
   "execution_count": 25,
   "metadata": {},
   "outputs": [
    {
     "name": "stdout",
     "output_type": "stream",
     "text": [
      "+------+------------------------------+\n",
      "|userId|num_songs_listened_per_session|\n",
      "+------+------------------------------+\n",
      "|    10|                         360.0|\n",
      "|   100|             86.71794871794872|\n",
      "|100001|                          32.0|\n",
      "|100002|                         34.25|\n",
      "|100003|                        82.625|\n",
      "+------+------------------------------+\n",
      "only showing top 5 rows\n",
      "\n"
     ]
    }
   ],
   "source": [
    "num_songs_session = user_log_clean.filter(user_log_clean.page=='NextSong').groupby('userId','sessionID').count()\n",
    "num_songs_per_session_feature = num_songs_session.groupby('userId')\\\n",
    "          .agg(avg(num_songs_session['count']).alias('num_songs_listened_per_session')).sort('userId')\n",
    "num_songs_per_session_feature = num_songs_per_session_feature\\\n",
    "           .select('userId',num_songs_per_session_feature.num_songs_listened_per_session)\n",
    "assert num_songs_per_session_feature.count()==448\n",
    "num_songs_per_session_feature.show(5)"
   ]
  },
  {
   "cell_type": "code",
   "execution_count": 26,
   "metadata": {},
   "outputs": [
    {
     "name": "stdout",
     "output_type": "stream",
     "text": [
      "+-------------------+-------------------+--------------------+------+------------------------------+\n",
      "|     AvgSessionTIme|     MaxSessionTime|      MinSessionTime|userId|num_songs_listened_per_session|\n",
      "+-------------------+-------------------+--------------------+------+------------------------------+\n",
      "| 1.0433333333333332| 1.0433333333333332|  1.0433333333333332|    10|                         360.0|\n",
      "|0.24338734567901227| 1.1425231481481481|1.157407407407407...|   100|             86.71794871794872|\n",
      "| 0.0955979938271605|0.14037037037037037| 0.02925925925925926|100001|                          32.0|\n",
      "|0.10434895833333332|0.23155092592592594|0.036550925925925924|100002|                         34.25|\n",
      "|0.20619984567901234| 0.8869675925925926|                 0.0|100003|                        82.625|\n",
      "+-------------------+-------------------+--------------------+------+------------------------------+\n",
      "only showing top 5 rows\n",
      "\n"
     ]
    }
   ],
   "source": [
    "session_feature = session_time_feature.join(num_songs_per_session_feature, \n",
    "                                           session_time_feature.userId==num_songs_per_session_feature.userId)\\\n",
    "                                      .drop(num_songs_per_session_feature.userId).sort('userId')\n",
    "assert session_feature.count()==448\n",
    "session_feature.show(5)"
   ]
  },
  {
   "cell_type": "markdown",
   "metadata": {},
   "source": [
    "### Join Numeric Features"
   ]
  },
  {
   "cell_type": "code",
   "execution_count": 43,
   "metadata": {},
   "outputs": [],
   "source": [
    "numeric_feature = interaction_feature.join(ratio_feature, interaction_feature.userId==ratio_feature.userId)\\\n",
    "                                     .drop(ratio_feature.userId).sort('userId')\n",
    "numeric_feature = numeric_feature.join(session_feature, numeric_feature.userId==session_feature.userId)\\\n",
    "                                 .drop(session_feature.userId).sort('userId')\n",
    "assert numeric_feature.count()==448\n",
    "out_path = 'numeric_feature.csv'\n",
    "numeric_feature.write.save(out_path, format='csv', header=True)"
   ]
  },
  {
   "cell_type": "markdown",
   "metadata": {},
   "source": [
    "## Categorical Features\n",
    "- gender\n",
    "- level\n",
    "- upgrade\n",
    "- downgrade"
   ]
  },
  {
   "cell_type": "code",
   "execution_count": 28,
   "metadata": {},
   "outputs": [
    {
     "name": "stdout",
     "output_type": "stream",
     "text": [
      "+------+------+\n",
      "|userId|gender|\n",
      "+------+------+\n",
      "|    10|     0|\n",
      "|   100|     0|\n",
      "|100001|     1|\n",
      "|100002|     1|\n",
      "|100003|     1|\n",
      "+------+------+\n",
      "only showing top 5 rows\n",
      "\n"
     ]
    }
   ],
   "source": [
    "gender_feature = user_log_label.select('userId','gender').sort('userId')\n",
    "assert gender_feature.count()==448\n",
    "gender_feature = gender_feature.replace(['M','F'], ['0','1'], 'gender')\n",
    "gender_feature = gender_feature.select('userId',gender_feature.gender.cast('int')).sort('userId')\n",
    "gender_feature.show(5)"
   ]
  },
  {
   "cell_type": "code",
   "execution_count": 29,
   "metadata": {},
   "outputs": [
    {
     "name": "stdout",
     "output_type": "stream",
     "text": [
      "+------+-----+\n",
      "|userId|level|\n",
      "+------+-----+\n",
      "|    10|    0|\n",
      "|   100|    0|\n",
      "|100001|    1|\n",
      "|100002|    1|\n",
      "|100003|    0|\n",
      "+------+-----+\n",
      "only showing top 5 rows\n",
      "\n"
     ]
    }
   ],
   "source": [
    "level_feature = user_log_label.select('userId','level').sort('userId')\n",
    "assert level_feature.count()==448\n",
    "level_feature = level_feature.replace(['paid','free'], ['0','1'], 'level')\n",
    "level_feature = level_feature.select('userId', level_feature.level.cast('int')).sort('userId')\n",
    "level_feature.show(5)"
   ]
  },
  {
   "cell_type": "code",
   "execution_count": 30,
   "metadata": {},
   "outputs": [
    {
     "name": "stdout",
     "output_type": "stream",
     "text": [
      "+------+----------+--------+\n",
      "|userId|downgraded|upgraded|\n",
      "+------+----------+--------+\n",
      "|    10|         0|       0|\n",
      "|   100|         0|       1|\n",
      "|100001|         0|       0|\n",
      "|100002|         1|       1|\n",
      "|100003|         0|       1|\n",
      "+------+----------+--------+\n",
      "only showing top 5 rows\n",
      "\n"
     ]
    }
   ],
   "source": [
    "grade_feature = user_log_label.select('userId','phase').sort('userId')\n",
    "assert grade_feature.count()==448\n",
    "# define functions\n",
    "downgraded_mark = udf(lambda x: 1 if (x==1 or x>=3) else 0, IntegerType()) # 1是只downgrade，大于等于3是既downgrade又upgrade\n",
    "upgraded_mark = udf(lambda x: 1 if (x==2 or x>=3) else 0, IntegerType())\n",
    "grade_feature = grade_feature.withColumn('downgraded', downgraded_mark('phase'))\n",
    "grade_feature = grade_feature.withColumn('upgraded', upgraded_mark('phase'))\n",
    "grade_feature = grade_feature.drop('phase')\n",
    "grade_feature.show(5)"
   ]
  },
  {
   "cell_type": "code",
   "execution_count": 31,
   "metadata": {},
   "outputs": [],
   "source": [
    "categorical_feature = gender_feature.join(level_feature, gender_feature.userId==level_feature.userId)\\\n",
    "                                    .drop(level_feature.userId).sort('userId')\n",
    "categorical_feature = categorical_feature.join(grade_feature, categorical_feature.userId==grade_feature.userId)\\\n",
    "                                    .drop(grade_feature.userId).sort('userId')\n",
    "assert categorical_feature.count()==448\n",
    "out_path = 'categorical_feature.csv'\n",
    "categorical_feature.write.save(out_path, format='csv', header=True)"
   ]
  },
  {
   "cell_type": "markdown",
   "metadata": {},
   "source": [
    "## Final Feature Selection"
   ]
  },
  {
   "cell_type": "code",
   "execution_count": 45,
   "metadata": {},
   "outputs": [
    {
     "data": {
      "text/plain": [
       "[Row(num_Friend_perday='0.1744186046511628', num_Playlist_perday='0.6627906976744186', num_Error_perday='0.0', num_Help_perday='0.023255813953488372', num_Home_perday='0.7093023255813954', num_NextSong_perday='18.61627906976744', num_Advert_perday='0.046511627906976744', num_Settings_perday='0.011627906976744186', num_Down_perday='0.22093023255813954', num_Up_perday='1.0116279069767442', num_inter_perday='22.069767441860463', userId='281', num_NextSong_ratio='0.8435194942044257', positive_ratio='0.08377239199157008', negative_ratio='0.011591148577449946', AvgSessionTIme='0.33545221560846566', MaxSessionTime='0.8880439814814814', MinSessionTime='0.07372685185185185', num_songs_listened_per_session='114.35714285714286')]"
      ]
     },
     "execution_count": 45,
     "metadata": {},
     "output_type": "execute_result"
    }
   ],
   "source": [
    "numeric_feature = spark.read.csv('numeric_feature.csv', header=True)\n",
    "numeric_feature.head(1)"
   ]
  },
  {
   "cell_type": "markdown",
   "metadata": {},
   "source": [
    "### correlation of numeric feature"
   ]
  },
  {
   "cell_type": "code",
   "execution_count": 47,
   "metadata": {},
   "outputs": [
    {
     "data": {
      "text/html": [
       "<div>\n",
       "<style scoped>\n",
       "    .dataframe tbody tr th:only-of-type {\n",
       "        vertical-align: middle;\n",
       "    }\n",
       "\n",
       "    .dataframe tbody tr th {\n",
       "        vertical-align: top;\n",
       "    }\n",
       "\n",
       "    .dataframe thead th {\n",
       "        text-align: right;\n",
       "    }\n",
       "</style>\n",
       "<table border=\"1\" class=\"dataframe\">\n",
       "  <thead>\n",
       "    <tr style=\"text-align: right;\">\n",
       "      <th></th>\n",
       "      <th>num_Friend_perday</th>\n",
       "      <th>num_Playlist_perday</th>\n",
       "      <th>num_Error_perday</th>\n",
       "      <th>num_Help_perday</th>\n",
       "      <th>num_Home_perday</th>\n",
       "      <th>num_NextSong_perday</th>\n",
       "      <th>num_Advert_perday</th>\n",
       "      <th>num_Settings_perday</th>\n",
       "      <th>num_Down_perday</th>\n",
       "      <th>num_Up_perday</th>\n",
       "      <th>num_inter_perday</th>\n",
       "      <th>num_NextSong_ratio</th>\n",
       "      <th>positive_ratio</th>\n",
       "      <th>negative_ratio</th>\n",
       "      <th>AvgSessionTIme</th>\n",
       "      <th>MaxSessionTime</th>\n",
       "      <th>MinSessionTime</th>\n",
       "      <th>num_songs_listened_per_session</th>\n",
       "    </tr>\n",
       "  </thead>\n",
       "  <tbody>\n",
       "    <tr>\n",
       "      <td>0</td>\n",
       "      <td>0.174419</td>\n",
       "      <td>0.662791</td>\n",
       "      <td>0.000000</td>\n",
       "      <td>0.023256</td>\n",
       "      <td>0.709302</td>\n",
       "      <td>18.616279</td>\n",
       "      <td>0.046512</td>\n",
       "      <td>0.011628</td>\n",
       "      <td>0.220930</td>\n",
       "      <td>1.011628</td>\n",
       "      <td>22.069767</td>\n",
       "      <td>0.843519</td>\n",
       "      <td>0.083772</td>\n",
       "      <td>0.011591</td>\n",
       "      <td>0.335452</td>\n",
       "      <td>0.888044</td>\n",
       "      <td>0.073727</td>\n",
       "      <td>114.357143</td>\n",
       "    </tr>\n",
       "    <tr>\n",
       "      <td>1</td>\n",
       "      <td>1.025974</td>\n",
       "      <td>0.857143</td>\n",
       "      <td>0.051948</td>\n",
       "      <td>0.246753</td>\n",
       "      <td>1.428571</td>\n",
       "      <td>34.142857</td>\n",
       "      <td>0.480519</td>\n",
       "      <td>0.038961</td>\n",
       "      <td>0.376623</td>\n",
       "      <td>1.727273</td>\n",
       "      <td>41.441558</td>\n",
       "      <td>0.823880</td>\n",
       "      <td>0.087120</td>\n",
       "      <td>0.017236</td>\n",
       "      <td>0.265346</td>\n",
       "      <td>1.275810</td>\n",
       "      <td>0.001493</td>\n",
       "      <td>93.892857</td>\n",
       "    </tr>\n",
       "    <tr>\n",
       "      <td>2</td>\n",
       "      <td>0.868852</td>\n",
       "      <td>1.770492</td>\n",
       "      <td>0.081967</td>\n",
       "      <td>0.393443</td>\n",
       "      <td>2.278689</td>\n",
       "      <td>57.163934</td>\n",
       "      <td>0.131148</td>\n",
       "      <td>0.114754</td>\n",
       "      <td>0.573770</td>\n",
       "      <td>3.163934</td>\n",
       "      <td>68.540984</td>\n",
       "      <td>0.834011</td>\n",
       "      <td>0.084669</td>\n",
       "      <td>0.016982</td>\n",
       "      <td>0.350573</td>\n",
       "      <td>1.017535</td>\n",
       "      <td>0.034664</td>\n",
       "      <td>124.535714</td>\n",
       "    </tr>\n",
       "    <tr>\n",
       "      <td>3</td>\n",
       "      <td>0.142857</td>\n",
       "      <td>0.038961</td>\n",
       "      <td>0.000000</td>\n",
       "      <td>0.012987</td>\n",
       "      <td>0.220779</td>\n",
       "      <td>4.272727</td>\n",
       "      <td>0.285714</td>\n",
       "      <td>0.000000</td>\n",
       "      <td>0.038961</td>\n",
       "      <td>0.142857</td>\n",
       "      <td>5.337662</td>\n",
       "      <td>0.800487</td>\n",
       "      <td>0.060827</td>\n",
       "      <td>0.009732</td>\n",
       "      <td>0.103302</td>\n",
       "      <td>0.360833</td>\n",
       "      <td>0.009641</td>\n",
       "      <td>36.555556</td>\n",
       "    </tr>\n",
       "    <tr>\n",
       "      <td>4</td>\n",
       "      <td>0.066116</td>\n",
       "      <td>0.264463</td>\n",
       "      <td>0.016529</td>\n",
       "      <td>0.049587</td>\n",
       "      <td>0.446281</td>\n",
       "      <td>8.066116</td>\n",
       "      <td>0.198347</td>\n",
       "      <td>0.033058</td>\n",
       "      <td>0.148760</td>\n",
       "      <td>0.363636</td>\n",
       "      <td>9.975207</td>\n",
       "      <td>0.808616</td>\n",
       "      <td>0.069594</td>\n",
       "      <td>0.024855</td>\n",
       "      <td>0.154886</td>\n",
       "      <td>1.195104</td>\n",
       "      <td>0.018877</td>\n",
       "      <td>54.222222</td>\n",
       "    </tr>\n",
       "  </tbody>\n",
       "</table>\n",
       "</div>"
      ],
      "text/plain": [
       "   num_Friend_perday  num_Playlist_perday  num_Error_perday  num_Help_perday  \\\n",
       "0           0.174419             0.662791          0.000000         0.023256   \n",
       "1           1.025974             0.857143          0.051948         0.246753   \n",
       "2           0.868852             1.770492          0.081967         0.393443   \n",
       "3           0.142857             0.038961          0.000000         0.012987   \n",
       "4           0.066116             0.264463          0.016529         0.049587   \n",
       "\n",
       "   num_Home_perday  num_NextSong_perday  num_Advert_perday  \\\n",
       "0         0.709302            18.616279           0.046512   \n",
       "1         1.428571            34.142857           0.480519   \n",
       "2         2.278689            57.163934           0.131148   \n",
       "3         0.220779             4.272727           0.285714   \n",
       "4         0.446281             8.066116           0.198347   \n",
       "\n",
       "   num_Settings_perday  num_Down_perday  num_Up_perday  num_inter_perday  \\\n",
       "0             0.011628         0.220930       1.011628         22.069767   \n",
       "1             0.038961         0.376623       1.727273         41.441558   \n",
       "2             0.114754         0.573770       3.163934         68.540984   \n",
       "3             0.000000         0.038961       0.142857          5.337662   \n",
       "4             0.033058         0.148760       0.363636          9.975207   \n",
       "\n",
       "   num_NextSong_ratio  positive_ratio  negative_ratio  AvgSessionTIme  \\\n",
       "0            0.843519        0.083772        0.011591        0.335452   \n",
       "1            0.823880        0.087120        0.017236        0.265346   \n",
       "2            0.834011        0.084669        0.016982        0.350573   \n",
       "3            0.800487        0.060827        0.009732        0.103302   \n",
       "4            0.808616        0.069594        0.024855        0.154886   \n",
       "\n",
       "   MaxSessionTime  MinSessionTime  num_songs_listened_per_session  \n",
       "0        0.888044        0.073727                      114.357143  \n",
       "1        1.275810        0.001493                       93.892857  \n",
       "2        1.017535        0.034664                      124.535714  \n",
       "3        0.360833        0.009641                       36.555556  \n",
       "4        1.195104        0.018877                       54.222222  "
      ]
     },
     "execution_count": 47,
     "metadata": {},
     "output_type": "execute_result"
    }
   ],
   "source": [
    "numeric_feature_df = numeric_feature.toPandas()\n",
    "numeric_feature_df = numeric_feature_df.drop(['userId'],axis=1).astype('float')\n",
    "numeric_feature_df.head(5)"
   ]
  },
  {
   "cell_type": "code",
   "execution_count": 59,
   "metadata": {},
   "outputs": [
    {
     "data": {
      "text/plain": [
       "<matplotlib.axes._subplots.AxesSubplot at 0x1a29a5bed0>"
      ]
     },
     "execution_count": 59,
     "metadata": {},
     "output_type": "execute_result"
    },
    {
     "data": {
      "image/png": "[encoded data removed]",
      "text/plain": [
       "<Figure size 720x576 with 2 Axes>"
      ]
     },
     "metadata": {
      "image/png": {
       "height": 629,
       "width": 711
      },
      "needs_background": "light"
     },
     "output_type": "display_data"
    }
   ],
   "source": [
    "# heatmap\n",
    "corr = numeric_feature_df.corr()\n",
    "plt.figure(figsize=(10,8))\n",
    "sns.heatmap(corr, cmap='Blues')"
   ]
  },
  {
   "cell_type": "markdown",
   "metadata": {},
   "source": [
    "From the above heatmap, we can conclude that `num_NextSong_perday`, `num_Home_perday`, `num_inter_perday`, `num_Playlist_perday`are highly correlated. Since `Sparkify` is a music app, played songs matter most. As a result, num_NextSong_perday will be chosen and `num_Home_perday`, `num_inter_perday` will be removed"
   ]
  },
  {
   "cell_type": "code",
   "execution_count": 80,
   "metadata": {},
   "outputs": [],
   "source": [
    "# final numeric features\n",
    "numeric_feature_column = ['num_Friend_perday','num_Error_perday','num_Help_perday','num_NextSong_perday',\n",
    "                          'num_Advert_perday','num_settings_perday','num_Down_perday','num_Up_perday',\n",
    "                          'num_NextSong_ratio','positive_ratio','negative_ratio','AvgSessionTime',\n",
    "                          'MaxSessionTime','MinSessionTime','num_songs_listened_per_session']\n",
    "numeric_feature_final = numeric_feature.select(['userId']+numeric_feature_column).sort('userId')"
   ]
  },
  {
   "cell_type": "code",
   "execution_count": 70,
   "metadata": {},
   "outputs": [
    {
     "name": "stdout",
     "output_type": "stream",
     "text": [
      "root\n",
      " |-- userId: string (nullable = true)\n",
      " |-- num_Friend_perday_float: float (nullable = true)\n",
      " |-- num_Error_perday_float: float (nullable = true)\n",
      " |-- num_Help_perday_float: float (nullable = true)\n",
      " |-- num_NextSong_perday_float: float (nullable = true)\n",
      " |-- num_Advert_perday_float: float (nullable = true)\n",
      " |-- num_settings_perday_float: float (nullable = true)\n",
      " |-- num_Down_perday_float: float (nullable = true)\n",
      " |-- num_Up_perday_float: float (nullable = true)\n",
      " |-- num_NextSong_ratio_float: float (nullable = true)\n",
      " |-- positive_ratio_float: float (nullable = true)\n",
      " |-- negative_ratio_float: float (nullable = true)\n",
      " |-- AvgSessionTime_float: float (nullable = true)\n",
      " |-- MaxSessionTime_float: float (nullable = true)\n",
      " |-- MinSessionTime_float: float (nullable = true)\n",
      " |-- num_songs_listened_per_session_float: float (nullable = true)\n",
      "\n"
     ]
    }
   ],
   "source": [
    "numeric_feature_final.printSchema()"
   ]
  },
  {
   "cell_type": "code",
   "execution_count": 81,
   "metadata": {},
   "outputs": [],
   "source": [
    "categorical_feature = spark.read.csv('categorical_feature.csv',header=True)\n",
    "label = user_log_label.select('userId',user_log_label.churn)\n",
    "assert label.count()==448\n",
    "data_for_model = numeric_feature_final.join(categorical_feature, \n",
    "                                            numeric_feature_final.userId==categorical_feature.userId)\\\n",
    "                                      .drop(categorical_feature.userId).sort('userId')\n",
    "data_for_model = data_for_model.join(label, data_for_model.userId==label.userId).drop(label.userId).sort('userId')\n",
    "assert data_for_model.count() ==448\n",
    "data_for_model.write.save('data_for_model.csv', format='csv', header=True)"
   ]
  },
  {
   "cell_type": "markdown",
   "metadata": {},
   "source": [
    "# Modeling & Evaluation\n",
    "The following three models will be chosen to train the data\n",
    "- **Logistic Classifier**\n",
    "\n",
    "\n",
    "- **Random Forest Classifier**\n",
    "\n",
    "\n",
    "- **Gradient-Boosted Tree Classifier**"
   ]
  },
  {
   "cell_type": "markdown",
   "metadata": {},
   "source": [
    "Since it is a binary classification problem, the model metrics will be `Accuracy`, `Precision`, `Recall` or `F1 score`. So what are the definitions of these metrics and how to decide?\n",
    "\n",
    "The first thing need to be mentioned is the [confusion matrix](https://en.wikipedia.org/wiki/Confusion_matrix) and the corresponding `True Positive(TP)`, `True Negative(TN)`, `False Positive(FP)`, `False Negative(FN)` which can be used to calculate `Accuracy`, `Precision`, `Recall` and `F1 score`.![confusion-matrix.jpeg](https://github.com/yl2982/spark_project/blob/master/img/confusion-matrix.jpeg)\n",
    "\n",
    "- **True Positive(TP) -** When the actual class is yes and the value of predicted class is also yes.\n",
    "\n",
    "\n",
    "- **True Negative(TN) -** When the actual class is no and value of predicted class is also no.\n",
    "\n",
    "\n",
    "- **False Positive(FP) -** When the actual class is no and the value of predicted class is also yes.\n",
    "\n",
    "\n",
    "- **False Negative(FN) -** When the actual class is yes and the value of predicted class is also no.\n",
    "\n",
    "The most familiar metric is probably `Accuracy` since it is just the portion of all accurate predicted. When the costs of having a mis-classified actual positive (or false negative) is very high, `Accuracy` metric may not be a good choice. This [blog](https://towardsdatascience.com/accuracy-precision-recall-or-f1-331fb37c5cb9) further explains why.\n",
    " \n",
    "$Accuracy = \\frac{TP+TN}{TP+TN+FP+FN}$\n",
    "\n",
    "As a result, we need other metrics. Here comes the [Precision and Recall](https://en.wikipedia.org/wiki/Precision_and_recall#Definition_(classification_context))\n",
    "\n",
    "$Precision = \\frac{TP}{TP+FP} = \\frac{TP}{Total Predicted Positive}$ \n",
    "\n",
    "`Precision` talks about how precise/accurate your model is out of those predicted positive, how many of them are actual positive. `Precision` is a good measure to determine, when the costs of False Positive is high. For instance, email spam detection. In email spam detection, a false positive means that an email that is non-spam (actual negative) has been identified as spam (predicted spam). The email user might lose important emails if the precision is not high for the spam detection model.\n",
    "\n",
    "$Recall = \\frac{TP}{TP+FN} = \\frac{TP}{Total Actual Positive}$\n",
    "\n",
    "`Recall` actually calculates how many of the Actual Positives our model capture through labeling it as Positive (True Positive). Applying the same understanding, we know that `Recall` shall be the model metric we use to select our best model when there is a high cost associated with False Negative. For instance, in fraud detection or sick patient detection. If a fraudulent transaction (Actual Positive) is predicted as non-fraudulent (Predicted Negative), the consequence can be very bad for the bank.\n",
    "\n",
    "Finally, we will talk about [F1 score](https://en.wikipedia.org/wiki/F1_score). `F1 score` is the harmonic mean of the `Precision` and `Recall`, where an `F1 score` reaches its best value at 1 (perfect `Precision` and `Recall`) and worst at 0.\n",
    "\n",
    "$F1 = 2 \\times \\frac{Precision \\times Recall}{Precison + Recall}$\n",
    "\n",
    "`F1 Score` is needed when you want to seek a balance between `Precision` and `Recall`. `F1 score` might be a better measure to use if we need to seek a balance between `Precision` and `Recall` and there is an uneven class distribution (large number of Actual Negatives).\n",
    "\n",
    "In this project, `F1 score` will be chose as one of the model metric and will be used in the final model evaluation on the test set"
   ]
  },
  {
   "cell_type": "markdown",
   "metadata": {},
   "source": [
    "**AUC** is a standard binary classification metric that works well for imbalanced datasets and will used when doing the cross-validation steps. It stands for **AreaUnderROC**. Therefore, we need first to know what is **ROC (Receiver Operating Characteristics)** and the corresponding **ROC-AUC Curve**.\n",
    "\n",
    "The data is split to calculate **True Positive Rate** and **False Negative Rate**. See the image from `Udacity` video courses.\n",
    "![ROC1](https://github.com/yl2982/spark_project/blob/master/img/ROC1.png)\n",
    "Then the **ROC** curve is plotted based on these points and the areas under ROC curve (**AUC**) can be calculated.\n",
    "![ROC2](https://github.com/yl2982/spark_project/blob/master/img/ROC2.png)\n",
    "Different split ways may result in different AUC values.\n",
    "![ROC3](https://github.com/yl2982/spark_project/blob/master/img/ROC3.png)\n",
    "By using **AUC** one does not need to worry about where to set the probability threshold that translates the model output probabilities into positive and negative class predictions, since **AUC** summarizes model's performance over all possible thresholds."
   ]
  },
  {
   "cell_type": "code",
   "execution_count": 7,
   "metadata": {},
   "outputs": [],
   "source": [
    "import time\n",
    "\n",
    "from pyspark.ml.feature import VectorAssembler, StandardScaler\n",
    "from pyspark.ml import Pipeline\n",
    "from pyspark.ml.classification import LogisticRegression, DecisionTreeClassifier, GBTClassifier, RandomForestClassifier\n",
    "from pyspark.ml.tuning import ParamGridBuilder, CrossValidator\n",
    "from pyspark.ml.evaluation import MulticlassClassificationEvaluator, BinaryClassificationEvaluator\n",
    "from pyspark.ml.feature import ChiSqSelector"
   ]
  },
  {
   "cell_type": "markdown",
   "metadata": {},
   "source": [
    "## Build Pipelines\n",
    "- Vectorize numeric features\n",
    "- StandardScale numeric features\n",
    "- Vectorize categorical features\n",
    "- Total Assembler numeric and categorical features"
   ]
  },
  {
   "cell_type": "markdown",
   "metadata": {},
   "source": [
    "`Logistic Classifier`\n",
    "\n",
    "The following two prominent parameters will be tuned\n",
    "- **regParam** (regularization parameter, default=0.0) : 0.0, 0.05, 0.1\n",
    "- **elasticNetParam** (mixing parameter — 0 for L2 penalty, 1 for L1 penalty, default=0.0): 0.0, 0.5"
   ]
  },
  {
   "cell_type": "markdown",
   "metadata": {},
   "source": [
    "`Random Forest Classifier`\n",
    "\n",
    "The following two prominent parameters will be tuned\n",
    "- **maxDepth** (maximum tree depth, default=5): 4,5,6,7\n",
    "- **numTrees** (number of trees, default=20): 20,40"
   ]
  },
  {
   "cell_type": "markdown",
   "metadata": {},
   "source": [
    "`Gradient-Boosted Tree Classifier`\n",
    "\n",
    "The following two prominent parameters will be tuned\n",
    "- **maxDepth** (maximum tree depth, default=5) : 4, 5\n",
    "- **maxIter** (maximum number of iterations, default=20) : 20, 100"
   ]
  },
  {
   "cell_type": "markdown",
   "metadata": {},
   "source": [
    "The grid search objects the performance of each parameter combination is measured by average **AUC** score (area under the ROC) obtained in **4-fold cross validation**."
   ]
  },
  {
   "cell_type": "markdown",
   "metadata": {},
   "source": [
    "Because of the relative small-size of the dataset, it is likely to meet with the [imbalanced classification](https://machinelearningmastery.com/tactics-to-combat-imbalanced-classes-in-your-machine-learning-dataset/) problem caused by the unevenly distributed classifier label in train and test data.\n",
    "\n",
    "To avoid this problem, I will use the [sampleBy](http://spark.apache.org/docs/2.0.0/api/python/pyspark.sql.html#pyspark.sql.DataFrame.sampleBy) method to stratify the dataset based on the label.\n",
    "\n",
    "```python\n",
    "train = data.sampleBy('label', fractions={0:0.85, 1:0.5}, seed=100)\n",
    "test = data.subtract(train)\n",
    "```"
   ]
  },
  {
   "cell_type": "code",
   "execution_count": 17,
   "metadata": {},
   "outputs": [],
   "source": [
    "class SparkPipeline:\n",
    "    def __init__(self, df, numeric_lst, category_lst):\n",
    "        self.numeric_lst = numeric_lst\n",
    "        self.category_lst = category_lst\n",
    "        self.data = self.vec_std(df)\n",
    "    \n",
    "    def to_numeric(self, data):\n",
    "        for column in self.numeric_lst:\n",
    "            data = data.withColumn(column+'_float', data[column].cast('float'))\n",
    "            data = data.drop(column)\n",
    "        for column in self.category_lst:\n",
    "            data = data.withColumn(column+'_int', data[column].cast('int'))\n",
    "            data = data.drop(column)\n",
    "        data = data.withColumn('label', data['churn'].cast('int'))\n",
    "        data = data.drop('churn')\n",
    "        \n",
    "        return data\n",
    "            \n",
    "    def vec_std(self, data):\n",
    "        \"\"\"\n",
    "        numerate features;\n",
    "        assemble features;\n",
    "        standardize features;\n",
    "        return df with features and labels\n",
    "        \"\"\"\n",
    "        # assemble the numeric features\n",
    "        df = self.to_numeric(data)\n",
    "        numericAssembler = VectorAssembler(inputCols=[string+'_float' for string in self.numeric_lst], \n",
    "                                           outputCol='numericVec')\n",
    "        data_for_model = numericAssembler.transform(df)\n",
    "        # standardScale\n",
    "        standardScaler = StandardScaler(inputCol='numericVec', outputCol='numericScale')\n",
    "        standard_model = standardScaler.fit(data_for_model)\n",
    "        data_for_model = standard_model.transform(data_for_model)\n",
    "        # add categorical features\n",
    "        columns = ['numericScale']+[string+'_int' for string in self.category_lst]\n",
    "        totalAssembler = VectorAssembler(inputCols=columns, outputCol='features')\n",
    "        data_for_model = totalAssembler.transform(data_for_model)\n",
    "        \n",
    "        data_for_model = data_for_model.select(data_for_model.features, data_for_model.label)\n",
    "    \n",
    "        return data_for_model\n",
    "    \n",
    "    def train_test_split(self):\n",
    "        # stratify the label, evenly separating churn (using sampleBy func)\n",
    "        train = self.data.sampleBy('label', fractions={0:0.85, 1:0.5}, seed=100)\n",
    "        test = self.data.subtract(train)\n",
    "        \n",
    "        return train, test\n",
    "    \n",
    "    # compute f1 score\n",
    "    def f1_score(self, results):\n",
    "        \"\"\"\n",
    "        # true positive\n",
    "        TP = results.filter('label==1.0 and prediction==1.0').count()\n",
    "        # true negative\n",
    "        TN = results.filter('label==0.0 and prediction==0.0').count()\n",
    "        # false positive\n",
    "        FP = results.filter('label==0.0 and prediction==1.0').count()\n",
    "        # false negative\n",
    "        FN = results.filter('label==1.0 and prediction==0.0').count()\n",
    "        \n",
    "        # precision\n",
    "        precision = TP/(TP+FP+0.0001)\n",
    "        # recall\n",
    "        recall = TP/(TP+FN+0.0001)\n",
    "        # f1\n",
    "        f1 = 2*((precision*recall)/(precision+recall+0.0001))\n",
    "        \"\"\"\n",
    "        evaluator = MulticlassClassificationEvaluator(predictionCol='prediction')   \n",
    "        f1 = evaluator.evaluate(results, {evaluator.metricName: 'f1'})\n",
    "        return f1\n",
    "    \n",
    "    # logistic classifier\n",
    "    def logistic_cls(self, train, test):\n",
    "        lr = LogisticRegression()\n",
    "    \n",
    "        # set the number of iterations as default 100\n",
    "        # grid tune the regulation parameters\n",
    "        paramGrid = ParamGridBuilder()\\\n",
    "                    .addGrid(lr.regParam, [0.0, 0.05, 0.1])\\\n",
    "                    .addGrid(lr.elasticNetParam, [0.0, 0.5]).build()\n",
    "        \n",
    "        crossval = CrossValidator(estimator=lr,\n",
    "                                  estimatorParamMaps=paramGrid,\n",
    "                                  evaluator=BinaryClassificationEvaluator(),\n",
    "                                  numFolds=4)\n",
    "        \n",
    "        model = crossval.fit(train)\n",
    "        \n",
    "        #print('Metrics: ',model.avgMetrics)\n",
    "        #print(f'The best model for Logistic Regression is {model.bestModel}')\n",
    "        \n",
    "        results = model.transform(test)\n",
    "        \n",
    "        f1 = self.f1_score(results)\n",
    "        print(f'The best AUC score for Logistic Regression Model is:{max(model.avgMetrics)}')\n",
    "        print(f'F1 Score for Logistic Regression Model is:{f1}')\n",
    "        \n",
    "        return model\n",
    "    \n",
    "    # Random Forest\n",
    "    def rf_cls(self, train, test):\n",
    "        rf = RandomForestClassifier()\n",
    "        \n",
    "        paramGrid = ParamGridBuilder()\\\n",
    "                    .addGrid(rf.maxDepth, [4,5,6,7])\\\n",
    "                    .addGrid(rf.numTrees, [20,40]).build()\n",
    "        \n",
    "        crossval = CrossValidator(estimator=rf,\n",
    "                                  estimatorParamMaps=paramGrid,\n",
    "                                  evaluator=BinaryClassificationEvaluator(),\n",
    "                                  numFolds=4)\n",
    "        \n",
    "        model = crossval.fit(train)\n",
    "        \n",
    "        #print(f'Metrics: {model.avgMetrics}',)\n",
    "        #print(f'The best model for Decision Tree is {model.bestModel}')\n",
    "        \n",
    "        results = model.transform(test)\n",
    "        # compute f1 score\n",
    "        f1 = self.f1_score(results)\n",
    "        \n",
    "        print(f'The best AUC score for Random Forest Model is:{max(model.avgMetrics)}')\n",
    "        print(f'F1 Score for Random Forest is: {f1}')\n",
    "        \n",
    "        return model\n",
    "\n",
    "        # GBT Classifier\n",
    "    def gbt_cls(self, train, test):\n",
    "        gbt = GBTClassifier()\n",
    "    \n",
    "        paramGrid = ParamGridBuilder() \\\n",
    "            .addGrid(gbt.maxIter,[20, 100]) \\\n",
    "            .addGrid(gbt.maxDepth,[4, 6]) \\\n",
    "            .build()\n",
    "        \n",
    "        crossval = CrossValidator(estimator=gbt,\n",
    "                                  estimatorParamMaps=paramGrid,\n",
    "                                  evaluator=BinaryClassificationEvaluator(),\n",
    "                                  numFolds=4)\n",
    "        \n",
    "        model = crossval.fit(train)\n",
    "        \n",
    "        #print(f'Metrics: {model.avgMetrics}')\n",
    "        #print(f'The best model for GBT is {model.bestModel}')\n",
    "        \n",
    "        results = model.transform(test)\n",
    "    \n",
    "        # compute f1\n",
    "        f1 = self.f1_score(results)\n",
    "        \n",
    "        print(f'The best AUC score for GBT Model is:{max(model.avgMetrics)}')\n",
    "        print(f'F1 Score for GBT: {f1}')\n",
    "        \n",
    "        return model"
   ]
  },
  {
   "cell_type": "markdown",
   "metadata": {},
   "source": [
    "## Train"
   ]
  },
  {
   "cell_type": "code",
   "execution_count": 10,
   "metadata": {},
   "outputs": [
    {
     "name": "stdout",
     "output_type": "stream",
     "text": [
      "The number of features is 19\n",
      "The number of data is 448\n"
     ]
    }
   ],
   "source": [
    "data = spark.read.csv('data_for_model.csv',header=True)\n",
    "print(f'The number of features is {len(data.columns[1:-1])}')\n",
    "print(f'The number of data is {data.count()}')"
   ]
  },
  {
   "cell_type": "code",
   "execution_count": 11,
   "metadata": {},
   "outputs": [
    {
     "name": "stdout",
     "output_type": "stream",
     "text": [
      "root\n",
      " |-- userId: string (nullable = true)\n",
      " |-- num_Friend_perday: string (nullable = true)\n",
      " |-- num_Error_perday: string (nullable = true)\n",
      " |-- num_Help_perday: string (nullable = true)\n",
      " |-- num_NextSong_perday: string (nullable = true)\n",
      " |-- num_Advert_perday: string (nullable = true)\n",
      " |-- num_settings_perday: string (nullable = true)\n",
      " |-- num_Down_perday: string (nullable = true)\n",
      " |-- num_Up_perday: string (nullable = true)\n",
      " |-- num_NextSong_ratio: string (nullable = true)\n",
      " |-- positive_ratio: string (nullable = true)\n",
      " |-- negative_ratio: string (nullable = true)\n",
      " |-- AvgSessionTime: string (nullable = true)\n",
      " |-- MaxSessionTime: string (nullable = true)\n",
      " |-- MinSessionTime: string (nullable = true)\n",
      " |-- num_songs_listened_per_session: string (nullable = true)\n",
      " |-- gender: string (nullable = true)\n",
      " |-- level: string (nullable = true)\n",
      " |-- downgraded: string (nullable = true)\n",
      " |-- upgraded: string (nullable = true)\n",
      " |-- churn: string (nullable = true)\n",
      "\n"
     ]
    }
   ],
   "source": [
    "data.printSchema()"
   ]
  },
  {
   "cell_type": "code",
   "execution_count": 18,
   "metadata": {},
   "outputs": [],
   "source": [
    "numeric_lst = ['num_Friend_perday','num_Error_perday','num_Help_perday','num_NextSong_perday',\n",
    "                          'num_Advert_perday','num_settings_perday','num_Down_perday','num_Up_perday',\n",
    "                          'num_NextSong_ratio','positive_ratio','negative_ratio','AvgSessionTime',\n",
    "                          'MaxSessionTime','MinSessionTime','num_songs_listened_per_session']\n",
    "category_lst = ['gender','level','downgraded','upgraded']\n",
    "pipelines = SparkPipeline(data, numeric_lst, category_lst)\n",
    "user_train, user_test = pipelines.train_test_split()"
   ]
  },
  {
   "cell_type": "markdown",
   "metadata": {},
   "source": [
    "### Logistic Regression Classifier"
   ]
  },
  {
   "cell_type": "code",
   "execution_count": 19,
   "metadata": {},
   "outputs": [
    {
     "name": "stdout",
     "output_type": "stream",
     "text": [
      "The best AUC score for Logistic Regression Model is:0.6819023535528714\n",
      "F1 Score for Logistic Regression Model is:0.3635912698412698\n",
      "Training time for logistic model is 99.5\n"
     ]
    },
    {
     "data": {
      "text/html": [
       "<div>\n",
       "<style scoped>\n",
       "    .dataframe tbody tr th:only-of-type {\n",
       "        vertical-align: middle;\n",
       "    }\n",
       "\n",
       "    .dataframe tbody tr th {\n",
       "        vertical-align: top;\n",
       "    }\n",
       "\n",
       "    .dataframe thead th {\n",
       "        text-align: right;\n",
       "    }\n",
       "</style>\n",
       "<table border=\"1\" class=\"dataframe\">\n",
       "  <thead>\n",
       "    <tr style=\"text-align: right;\">\n",
       "      <th></th>\n",
       "      <th>regParam</th>\n",
       "      <th>elasticNetParam</th>\n",
       "      <th>score</th>\n",
       "    </tr>\n",
       "  </thead>\n",
       "  <tbody>\n",
       "    <tr>\n",
       "      <td>0</td>\n",
       "      <td>0.00</td>\n",
       "      <td>0.0</td>\n",
       "      <td>0.565731</td>\n",
       "    </tr>\n",
       "    <tr>\n",
       "      <td>1</td>\n",
       "      <td>0.00</td>\n",
       "      <td>0.5</td>\n",
       "      <td>0.565731</td>\n",
       "    </tr>\n",
       "    <tr>\n",
       "      <td>2</td>\n",
       "      <td>0.05</td>\n",
       "      <td>0.0</td>\n",
       "      <td>0.681902</td>\n",
       "    </tr>\n",
       "    <tr>\n",
       "      <td>3</td>\n",
       "      <td>0.05</td>\n",
       "      <td>0.5</td>\n",
       "      <td>0.604629</td>\n",
       "    </tr>\n",
       "    <tr>\n",
       "      <td>4</td>\n",
       "      <td>0.10</td>\n",
       "      <td>0.0</td>\n",
       "      <td>0.677632</td>\n",
       "    </tr>\n",
       "    <tr>\n",
       "      <td>5</td>\n",
       "      <td>0.10</td>\n",
       "      <td>0.5</td>\n",
       "      <td>0.516613</td>\n",
       "    </tr>\n",
       "  </tbody>\n",
       "</table>\n",
       "</div>"
      ],
      "text/plain": [
       "   regParam  elasticNetParam     score\n",
       "0      0.00              0.0  0.565731\n",
       "1      0.00              0.5  0.565731\n",
       "2      0.05              0.0  0.681902\n",
       "3      0.05              0.5  0.604629\n",
       "4      0.10              0.0  0.677632\n",
       "5      0.10              0.5  0.516613"
      ]
     },
     "execution_count": 19,
     "metadata": {},
     "output_type": "execute_result"
    }
   ],
   "source": [
    "# logistic classifier\n",
    "start = time.time()\n",
    "lr_model = pipelines.logistic_cls(user_train, user_test)\n",
    "end = time.time()\n",
    "print(f'Training time for logistic model is {round(end-start,1)}')\n",
    "params = [{p.name: v for p, v in m.items()} for m in lr_model.getEstimatorParamMaps()]\n",
    "params_pd = pd.DataFrame(params)\n",
    "params_pd['score'] = lr_model.avgMetrics\n",
    "params_pd"
   ]
  },
  {
   "cell_type": "markdown",
   "metadata": {},
   "source": [
    "The best logistic model has the following parameters (only listed the tuned paramters, others are set default)\n",
    "- **regParam:** 0.05\n",
    "\n",
    "\n",
    "- **elasticNetParam:** 0.0"
   ]
  },
  {
   "cell_type": "markdown",
   "metadata": {},
   "source": [
    "### Random Forest Classifier"
   ]
  },
  {
   "cell_type": "code",
   "execution_count": 20,
   "metadata": {},
   "outputs": [
    {
     "name": "stdout",
     "output_type": "stream",
     "text": [
      "The best AUC score for Random Forest Model is:0.6601663286010095\n",
      "F1 Score for Random Forest is: 0.322232369355657\n",
      "Training time for Random Forest model is 27.2\n"
     ]
    },
    {
     "data": {
      "text/html": [
       "<div>\n",
       "<style scoped>\n",
       "    .dataframe tbody tr th:only-of-type {\n",
       "        vertical-align: middle;\n",
       "    }\n",
       "\n",
       "    .dataframe tbody tr th {\n",
       "        vertical-align: top;\n",
       "    }\n",
       "\n",
       "    .dataframe thead th {\n",
       "        text-align: right;\n",
       "    }\n",
       "</style>\n",
       "<table border=\"1\" class=\"dataframe\">\n",
       "  <thead>\n",
       "    <tr style=\"text-align: right;\">\n",
       "      <th></th>\n",
       "      <th>maxDepth</th>\n",
       "      <th>numTrees</th>\n",
       "      <th>score</th>\n",
       "    </tr>\n",
       "  </thead>\n",
       "  <tbody>\n",
       "    <tr>\n",
       "      <td>0</td>\n",
       "      <td>4</td>\n",
       "      <td>20</td>\n",
       "      <td>0.597131</td>\n",
       "    </tr>\n",
       "    <tr>\n",
       "      <td>1</td>\n",
       "      <td>4</td>\n",
       "      <td>40</td>\n",
       "      <td>0.660166</td>\n",
       "    </tr>\n",
       "    <tr>\n",
       "      <td>2</td>\n",
       "      <td>5</td>\n",
       "      <td>20</td>\n",
       "      <td>0.590448</td>\n",
       "    </tr>\n",
       "    <tr>\n",
       "      <td>3</td>\n",
       "      <td>5</td>\n",
       "      <td>40</td>\n",
       "      <td>0.633419</td>\n",
       "    </tr>\n",
       "    <tr>\n",
       "      <td>4</td>\n",
       "      <td>6</td>\n",
       "      <td>20</td>\n",
       "      <td>0.605553</td>\n",
       "    </tr>\n",
       "    <tr>\n",
       "      <td>5</td>\n",
       "      <td>6</td>\n",
       "      <td>40</td>\n",
       "      <td>0.646589</td>\n",
       "    </tr>\n",
       "    <tr>\n",
       "      <td>6</td>\n",
       "      <td>7</td>\n",
       "      <td>20</td>\n",
       "      <td>0.598564</td>\n",
       "    </tr>\n",
       "    <tr>\n",
       "      <td>7</td>\n",
       "      <td>7</td>\n",
       "      <td>40</td>\n",
       "      <td>0.651418</td>\n",
       "    </tr>\n",
       "  </tbody>\n",
       "</table>\n",
       "</div>"
      ],
      "text/plain": [
       "   maxDepth  numTrees     score\n",
       "0         4        20  0.597131\n",
       "1         4        40  0.660166\n",
       "2         5        20  0.590448\n",
       "3         5        40  0.633419\n",
       "4         6        20  0.605553\n",
       "5         6        40  0.646589\n",
       "6         7        20  0.598564\n",
       "7         7        40  0.651418"
      ]
     },
     "execution_count": 20,
     "metadata": {},
     "output_type": "execute_result"
    }
   ],
   "source": [
    "# random forest\n",
    "start = time.time()\n",
    "rf_model = pipelines.rf_cls(user_train, user_test)\n",
    "end = time.time()\n",
    "print(f'Training time for Random Forest model is {round(end-start,1)}')\n",
    "params = [{p.name: v for p, v in m.items()} for m in rf_model.getEstimatorParamMaps()]\n",
    "params_pd = pd.DataFrame(params)\n",
    "params_pd['score'] = rf_model.avgMetrics\n",
    "params_pd"
   ]
  },
  {
   "cell_type": "markdown",
   "metadata": {},
   "source": [
    "The best random forest model has the following parameters (only listed the tuned paramters, others are set default)\n",
    "- **maxDepth:** 4\n",
    "\n",
    "\n",
    "- **numTrees:** 40"
   ]
  },
  {
   "cell_type": "markdown",
   "metadata": {},
   "source": [
    "### Gradient-Boosted Tree Classifier"
   ]
  },
  {
   "cell_type": "code",
   "execution_count": 21,
   "metadata": {},
   "outputs": [
    {
     "name": "stdout",
     "output_type": "stream",
     "text": [
      "The best AUC score for GBT Model is:0.61421044874102\n",
      "F1 Score for GBT: 0.48500729435529116\n",
      "Training time for Gradient-Boosted Tree model is 480.0\n"
     ]
    },
    {
     "data": {
      "text/html": [
       "<div>\n",
       "<style scoped>\n",
       "    .dataframe tbody tr th:only-of-type {\n",
       "        vertical-align: middle;\n",
       "    }\n",
       "\n",
       "    .dataframe tbody tr th {\n",
       "        vertical-align: top;\n",
       "    }\n",
       "\n",
       "    .dataframe thead th {\n",
       "        text-align: right;\n",
       "    }\n",
       "</style>\n",
       "<table border=\"1\" class=\"dataframe\">\n",
       "  <thead>\n",
       "    <tr style=\"text-align: right;\">\n",
       "      <th></th>\n",
       "      <th>maxIter</th>\n",
       "      <th>maxDepth</th>\n",
       "      <th>score</th>\n",
       "    </tr>\n",
       "  </thead>\n",
       "  <tbody>\n",
       "    <tr>\n",
       "      <td>0</td>\n",
       "      <td>20</td>\n",
       "      <td>4</td>\n",
       "      <td>0.611947</td>\n",
       "    </tr>\n",
       "    <tr>\n",
       "      <td>1</td>\n",
       "      <td>20</td>\n",
       "      <td>6</td>\n",
       "      <td>0.593762</td>\n",
       "    </tr>\n",
       "    <tr>\n",
       "      <td>2</td>\n",
       "      <td>100</td>\n",
       "      <td>4</td>\n",
       "      <td>0.614210</td>\n",
       "    </tr>\n",
       "    <tr>\n",
       "      <td>3</td>\n",
       "      <td>100</td>\n",
       "      <td>6</td>\n",
       "      <td>0.600184</td>\n",
       "    </tr>\n",
       "  </tbody>\n",
       "</table>\n",
       "</div>"
      ],
      "text/plain": [
       "   maxIter  maxDepth     score\n",
       "0       20         4  0.611947\n",
       "1       20         6  0.593762\n",
       "2      100         4  0.614210\n",
       "3      100         6  0.600184"
      ]
     },
     "execution_count": 21,
     "metadata": {},
     "output_type": "execute_result"
    }
   ],
   "source": [
    "# Gradient-Boosted Tree\n",
    "start = time.time()\n",
    "gbt_model = pipelines.gbt_cls(user_train, user_test)\n",
    "end = time.time()\n",
    "print(f'Training time for Gradient-Boosted Tree model is {round(end-start,1)}')\n",
    "params = [{p.name: v for p, v in m.items()} for m in gbt_model.getEstimatorParamMaps()]\n",
    "params_pd = pd.DataFrame(params)\n",
    "params_pd['score'] = gbt_model.avgMetrics\n",
    "params_pd"
   ]
  },
  {
   "cell_type": "markdown",
   "metadata": {},
   "source": [
    "The best model has the following parameters (only listed the tuned paramters, others are set default)\n",
    "- **maxIter:** 100\n",
    "\n",
    "\n",
    "- **maxDepth:** 4"
   ]
  },
  {
   "cell_type": "markdown",
   "metadata": {},
   "source": [
    "## Results\n",
    "The best results of each model are summarized in the table below.\n",
    "\n",
    "|Classifier                        |AUC    |F1     |  Parameters                      |\n",
    "|--------------------------------- |-------|-------|----------------------------------|\n",
    "|Logistic Regression               |0.68   |0.36   | regParam=0.05, elasticNetParam=0.0|\n",
    "|Random Forest Classifier          |0.66   |0.32   | maxDepth=4, maxTrees=40|\n",
    "|Gradient-Boosted Tree Classifier  |0.61   |0.49   | maxIter=100, maxDepth=4|\n",
    "\n",
    "These three models are trained via the 4-fold cross-validation methods to deal with the relative small-size of the dataset. It should be noted that the 4-fold cross-validation method has not followed the stratified sampling ways so it can be one problem for these models.\n",
    "\n",
    "The **AUC** is relatively high for all three model but the **F1 scores** show a significantly weaker performance. It is interesting to recognize that the **AUC** score of GBT classifier model is the lowest but its **F1 score** is the highest. The reason for this needs to be considered in the future. However, since the **AUC** scores are higher it is very likely that we could substantially increase the **F1 score** on the test set by optimizing the probability threshold that splits positive and negative class predictions. The above **F1 scores** have been obtained using the default 0.5 threshold.\n",
    "\n",
    "It is important to note that this data has only 448 unique users, which may result in the relatively low F1 score of these three models. If using the large dataset in Amazon EMR cluster, the score may be higher and can prevent the overlization problem and test the generalization ability."
   ]
  },
  {
   "cell_type": "markdown",
   "metadata": {},
   "source": [
    "## Explore Feature importance\n",
    "One of the goal of this project is to find some key factors that will effect a user using `Sparkify`. Therefore, exploring the feature importance after training the models is essential"
   ]
  },
  {
   "cell_type": "code",
   "execution_count": 22,
   "metadata": {},
   "outputs": [
    {
     "data": {
      "image/png": "[encoded data removed]",
      "text/plain": [
       "<Figure size 720x432 with 1 Axes>"
      ]
     },
     "metadata": {
      "image/png": {
       "height": 390,
       "width": 748
      },
      "needs_background": "light"
     },
     "output_type": "display_data"
    }
   ],
   "source": [
    "# feature importance from GBT\n",
    "gbt_best_model = GBTClassifier(maxIter=100, maxDepth=4)\n",
    "best_pipelines = Pipeline(stages=[gbt_best_model])\n",
    "gbt = best_pipelines.fit(user_train)\n",
    "gbt_importance = gbt.stages[-1].featureImportances\n",
    "gbt_importance_lst = [gbt_importance[i] for i in range(len(gbt_importance))]\n",
    "names = numeric_lst+category_lst\n",
    "gbt_importance_df = pd.DataFrame({\"feature\": names,\"importance\": gbt_importance_lst, })\\\n",
    "                           .sort_values('importance', ascending = False)\n",
    "plt.figure(figsize=(10,6))\n",
    "sns.barplot(y='feature',x='importance',data=gbt_importance_df,palette='Blues_r',zorder=2);\n",
    "plt.title(\"Feature Importances\")\n",
    "plt.ylabel(\"\");"
   ]
  },
  {
   "cell_type": "markdown",
   "metadata": {},
   "source": [
    "From the above feature importance figure, it can be concluded that `gender` and `level` are not so important. \n",
    "\n",
    "By comparison, the following is the top 5 important features:\n",
    "- `num_Friend_perday` (number of friends on `Sparkify`)\n",
    "- `AvgSessionTime` (users' average session time)\n",
    "- `num_Advert_perday` (number of advertisements users see per day)\n",
    "- `num_Down_perday` (number of users' thumb-down times)\n",
    "- `num_NextSong_ratio` (number of songs listened among all the interaction times)\n",
    "\n",
    "Therefore, the following advice may help `Sparkify` prevent losing customers\n",
    "- Improve the social interaction on `Sparkify`\n",
    "- Increase the average session time of users\n",
    "- Increase the number of good ads and decrease the number of bad ads\n",
    "- Find some ways to decrease the thumb-down times\n",
    "- Improve the quality of songs on `Sparkify`"
   ]
  },
  {
   "cell_type": "markdown",
   "metadata": {},
   "source": [
    "# Conclusion\n",
    "\n",
    "**Reflection**\n",
    "\n",
    "I have built three binary classifier models to identify churned users and it turned out that the `Gradient-Boosted Tree` model performed best in **F1 score**. However, the average F1 score is still low because of the small-size dataset(only 448 unique users). I still need to further consider why **AUC score** of GBT classifier is the lowest but its **F1 score** is the highest among all the models. \n",
    "\n",
    "The most challenging part is the feature engineering part. It requires good intuition and creativity since there are thousands of aspects to extract the features from the data and only a few matter. I was adviced to go to this [website](https://elitedatascience.com/feature-engineering-best-practices) to see how to do feature engineering. At the same time, I was also encountered the `Data Leakage` problem in machine learning. I restarted doing the feature engineering process and solved this problem.\n",
    "\n",
    "\n",
    "**Potential Improvements**\n",
    "\n",
    "- build and test features that capture additional insights about user's activity patterns, e.g. average length of song listening sessions, ratios of skipped or partially listened songs, etc.\n",
    "- utilize song-level features that have been ignored so far, e.g. calculate the user's listening diversity in terms of different songs/artists listened to in the specified observation period, etc.\n",
    "- optimize data wrangling and feature engineering steps \n",
    "- perform the model on full Sparkify dataset, using the EMR cluster"
   ]
  }
 ],
 "metadata": {
  "kernelspec": {
   "display_name": "Python [conda env:web] *",
   "language": "python",
   "name": "conda-env-web-py"
  },
  "language_info": {
   "codemirror_mode": {
    "name": "ipython",
    "version": 3
   },
   "file_extension": ".py",
   "mimetype": "text/x-python",
   "name": "python",
   "nbconvert_exporter": "python",
   "pygments_lexer": "ipython3",
   "version": "3.7.4"
  },
  "toc": {
   "base_numbering": 1,
   "nav_menu": {
    "height": "442px",
    "width": "476px"
   },
   "number_sections": true,
   "sideBar": true,
   "skip_h1_title": false,
   "title_cell": "Table of Contents",
   "title_sidebar": "Contents",
   "toc_cell": false,
   "toc_position": {},
   "toc_section_display": true,
   "toc_window_display": false
  },
  "varInspector": {
   "cols": {
    "lenName": 16,
    "lenType": 16,
    "lenVar": 40
   },
   "kernels_config": {
    "python": {
     "delete_cmd_postfix": "",
     "delete_cmd_prefix": "del ",
     "library": "var_list.py",
     "varRefreshCmd": "print(var_dic_list())"
    },
    "r": {
     "delete_cmd_postfix": ") ",
     "delete_cmd_prefix": "rm(",
     "library": "var_list.r",
     "varRefreshCmd": "cat(var_dic_list()) "
    }
   },
   "types_to_exclude": [
    "module",
    "function",
    "builtin_function_or_method",
    "instance",
    "_Feature"
   ],
   "window_display": false
  }
 },
 "nbformat": 4,
 "nbformat_minor": 4
}
