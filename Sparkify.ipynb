{
 "cells": [
  {
   "cell_type": "markdown",
   "metadata": {},
   "source": [
    "# Sparkify 项目 Workspace"
   ]
  },
  {
   "cell_type": "code",
   "execution_count": 2,
   "metadata": {},
   "outputs": [],
   "source": [
    "from pyspark.sql import SparkSession\n",
    "spark = SparkSession.builder\\\n",
    "        .appName('spark_project').getOrCreate()\n",
    "# Since JSON data can be semi-structured and contain additional metadata, it is possible that you might face issues with the DataFrame layout.\n",
    "# Please read the documentation of 'SparkSession.read()' to learn more about the possibilities to adjust the data loading.\n",
    "# PySpark documentation: http://spark.apache.org/docs/2.0.2/api/python/pyspark.sql.html#pyspark.sql.DataFrameReader.json\n",
    "\n",
    "user_log = spark.read.json('medium-sparkify-event-data.json')"
   ]
  },
  {
   "cell_type": "markdown",
   "metadata": {},
   "source": [
    "# 加载和清洗数据\n",
    "加载和清洗数据集，检查是否有无效或缺失数据——例如，没有userid或sessionid的数据。 "
   ]
  },
  {
   "cell_type": "code",
   "execution_count": 3,
   "metadata": {},
   "outputs": [],
   "source": [
    "import pyspark.sql.functions as F\n",
    "from pyspark.sql.functions import udf, desc, asc, avg\n",
    "from pyspark.sql.functions import sum as Fsum\n",
    "from pyspark.sql.types import StringType, IntegerType\n",
    "from pyspark.sql import Window\n",
    "\n",
    "import datetime\n",
    "import seaborn as sns\n",
    "\n",
    "import numpy as np\n",
    "import pandas as pd\n",
    "import matplotlib.pyplot as plt\n",
    "%matplotlib inline\n",
    "%config InlineBackend.figure_format = 'retina'\n",
    "sns.set()"
   ]
  },
  {
   "cell_type": "code",
   "execution_count": 4,
   "metadata": {},
   "outputs": [
    {
     "name": "stdout",
     "output_type": "stream",
     "text": [
      "root\n",
      " |-- artist: string (nullable = true)\n",
      " |-- auth: string (nullable = true)\n",
      " |-- firstName: string (nullable = true)\n",
      " |-- gender: string (nullable = true)\n",
      " |-- itemInSession: long (nullable = true)\n",
      " |-- lastName: string (nullable = true)\n",
      " |-- length: double (nullable = true)\n",
      " |-- level: string (nullable = true)\n",
      " |-- location: string (nullable = true)\n",
      " |-- method: string (nullable = true)\n",
      " |-- page: string (nullable = true)\n",
      " |-- registration: long (nullable = true)\n",
      " |-- sessionId: long (nullable = true)\n",
      " |-- song: string (nullable = true)\n",
      " |-- status: long (nullable = true)\n",
      " |-- ts: long (nullable = true)\n",
      " |-- userAgent: string (nullable = true)\n",
      " |-- userId: string (nullable = true)\n",
      "\n"
     ]
    }
   ],
   "source": [
    "# check the frame of the data\n",
    "user_log.printSchema()"
   ]
  },
  {
   "cell_type": "code",
   "execution_count": 5,
   "metadata": {},
   "outputs": [
    {
     "name": "stdout",
     "output_type": "stream",
     "text": [
      "The total number of data is 543705\n"
     ]
    }
   ],
   "source": [
    "# check the amount of the data\n",
    "total_row = user_log.count()\n",
    "print(f'The total number of data is {total_row}')"
   ]
  },
  {
   "cell_type": "code",
   "execution_count": 6,
   "metadata": {},
   "outputs": [
    {
     "name": "stdout",
     "output_type": "stream",
     "text": [
      "+-------+-----------------+----------+---------+------+------------------+--------+------------------+\n",
      "|summary|           artist|      auth|firstName|gender|     itemInSession|lastName|            length|\n",
      "+-------+-----------------+----------+---------+------+------------------+--------+------------------+\n",
      "|  count|           432877|    543705|   528005|528005|            543705|  528005|            432877|\n",
      "|   mean|527.5289537712895|      null|     null|  null|107.30629109535502|    null|248.66459278007585|\n",
      "| stddev|966.1072451772756|      null|     null|  null|116.72350849188119|    null| 98.41266955052022|\n",
      "|    min|              !!!| Cancelled|  Aaliyah|     F|                 0|  Abbott|           0.78322|\n",
      "|    max|ÃÂlafur Arnalds|Logged Out|   Zyonna|     M|              1005|  Wright|        3024.66567|\n",
      "+-------+-----------------+----------+---------+------+------------------+--------+------------------+\n",
      "\n"
     ]
    }
   ],
   "source": [
    "# check the information\n",
    "user_log.describe(['artist','auth','firstName','gender','itemInSession','lastName','length']).show()"
   ]
  },
  {
   "cell_type": "markdown",
   "metadata": {},
   "source": [
    "- The `artist` can be null since it depends on whether the user is in the song-played page\n",
    "- The number of null value of `firstName`, `lastName` and `gender` is the same\n",
    "- `auth` and `itemInSession` no null value"
   ]
  },
  {
   "cell_type": "code",
   "execution_count": 7,
   "metadata": {},
   "outputs": [
    {
     "name": "stdout",
     "output_type": "stream",
     "text": [
      "+-------+------+----------------+------+-------+--------------------+\n",
      "|summary| level|        location|method|   page|        registration|\n",
      "+-------+------+----------------+------+-------+--------------------+\n",
      "|  count|543705|          528005|543705| 543705|              528005|\n",
      "|   mean|  null|            null|  null|   null|1.535523414863871...|\n",
      "| stddev|  null|            null|  null|   null|3.0787254929958086E9|\n",
      "|    min|  free|       Akron, OH|   GET|  About|       1509854193000|\n",
      "|    max|  paid|York-Hanover, PA|   PUT|Upgrade|       1543073874000|\n",
      "+-------+------+----------------+------+-------+--------------------+\n",
      "\n"
     ]
    }
   ],
   "source": [
    "user_log.describe(['level','location','method','page','registration']).show()"
   ]
  },
  {
   "cell_type": "markdown",
   "metadata": {},
   "source": [
    "- `level`, `method` and `page` no null value\n",
    "- number of null value of `location` and `registration` is the same as `firstName`, `lastName`, `gender` (these are all user info)"
   ]
  },
  {
   "cell_type": "code",
   "execution_count": 9,
   "metadata": {},
   "outputs": [
    {
     "name": "stdout",
     "output_type": "stream",
     "text": [
      "+-------+------------------+--------------------+------------------+--------------------+--------------------+------------------+\n",
      "|summary|         sessionID|                song|            status|                  ts|           userAgent|            userId|\n",
      "+-------+------------------+--------------------+------------------+--------------------+--------------------+------------------+\n",
      "|  count|            543705|              432877|            543705|              543705|              528005|            543705|\n",
      "|   mean|2040.8143533717732|            Infinity|210.01829116892432|1.540964541209800...|                null| 60268.42669103512|\n",
      "| stddev| 1434.338931078271|                 NaN|31.471919021567537|1.4820571449105084E9|                null|109898.82324176628|\n",
      "|    min|                 1|\u001c",
      "ÃÂg ÃÂtti Gr...|               200|       1538352011000|\"Mozilla/5.0 (Mac...|                  |\n",
      "|    max|              4808|ÃÂ¾etta Gerist Ã...|               404|       1543622466000|Mozilla/5.0 (comp...|                99|\n",
      "+-------+------------------+--------------------+------------------+--------------------+--------------------+------------------+\n",
      "\n"
     ]
    }
   ],
   "source": [
    "user_log.describe(['sessionID','song','status','ts','userAgent','userId']).show()"
   ]
  },
  {
   "cell_type": "markdown",
   "metadata": {},
   "source": [
    "- `sessionID`, `userId`, `status`, `ts` no null value\n",
    "- number of `song` is the same as `artist`\n",
    "- `userAgent` is part of user info"
   ]
  },
  {
   "cell_type": "code",
   "execution_count": 10,
   "metadata": {},
   "outputs": [
    {
     "name": "stdout",
     "output_type": "stream",
     "text": [
      "+------+\n",
      "|userId|\n",
      "+------+\n",
      "|      |\n",
      "|    10|\n",
      "|   100|\n",
      "|100001|\n",
      "|100002|\n",
      "|100003|\n",
      "|100004|\n",
      "|100005|\n",
      "|100006|\n",
      "|100007|\n",
      "|100008|\n",
      "|100009|\n",
      "|100010|\n",
      "|100011|\n",
      "|100012|\n",
      "|100013|\n",
      "|100014|\n",
      "|100015|\n",
      "|100016|\n",
      "|100017|\n",
      "+------+\n",
      "only showing top 20 rows\n",
      "\n"
     ]
    }
   ],
   "source": [
    "# No null value in userId and sessionID, explore more\n",
    "user_log.select('userId').dropDuplicates().sort('userId').show()"
   ]
  },
  {
   "cell_type": "code",
   "execution_count": 8,
   "metadata": {},
   "outputs": [
    {
     "name": "stdout",
     "output_type": "stream",
     "text": [
      "Now the number of data after cleansing is 528005\n"
     ]
    }
   ],
   "source": [
    "# drop the \"\"\n",
    "user_log_clean = user_log.filter(user_log['userId'] != \"\")\n",
    "print(f'Now the number of data after cleansing is {user_log_clean.count()}')"
   ]
  },
  {
   "cell_type": "code",
   "execution_count": 9,
   "metadata": {},
   "outputs": [
    {
     "data": {
      "text/plain": [
       "Row(artist='Martin Orford', auth='Logged In', firstName='Joseph', gender='M', itemInSession=20, lastName='Morales', length=597.55057, level='free', location='Corpus Christi, TX', method='PUT', page='NextSong', registration=1532063507000, sessionId=292, song='Grand Designs', status=200, ts=1538352011000, userAgent='\"Mozilla/5.0 (Macintosh; Intel Mac OS X 10_9_4) AppleWebKit/537.36 (KHTML, like Gecko) Chrome/36.0.1985.125 Safari/537.36\"', userId='293', year='2018', month='10', day='1', hour='8')"
      ]
     },
     "execution_count": 9,
     "metadata": {},
     "output_type": "execute_result"
    }
   ],
   "source": [
    "# deal with the ts\n",
    "# turn ts into year, month, day and hour\n",
    "get_year = udf(lambda x: datetime.datetime.fromtimestamp(x/1000).year)\n",
    "get_month = udf(lambda x: datetime.datetime.fromtimestamp(x/1000).month)\n",
    "get_day = udf(lambda x: datetime.datetime.fromtimestamp(x/1000).day)\n",
    "get_hour = udf(lambda x: datetime.datetime.fromtimestamp(x/1000).hour)\n",
    "\n",
    "# add two new columns datetime and hour\n",
    "user_log_clean = user_log_clean.withColumn('year', get_year(user_log_clean.ts))\n",
    "user_log_clean = user_log_clean.withColumn('month', get_month(user_log_clean.ts))\n",
    "user_log_clean = user_log_clean.withColumn('day', get_day(user_log_clean.ts))\n",
    "user_log_clean = user_log_clean.withColumn('hour', get_hour(user_log_clean.ts))\n",
    "\n",
    "user_log_clean.head()"
   ]
  },
  {
   "cell_type": "markdown",
   "metadata": {},
   "source": [
    "# 探索性数据分析\n",
    "当你使用完整数据集时，通过加载小数据集，在 Spark 中完成基础操作来实现探索性数据分析。在这个 Workspace 中，我们已经提供给你一个你可以探索的小数据集。\n",
    "\n",
    "## 定义客户流失\n",
    "\n",
    "在你完成初步分析之后，创建一列 `Churn` 作为模型的标签。我建议你使用 `Cancellation Confirmation` 事件来定义客户流失，该事件在付费或免费客户身上都有发生。作为一个奖励任务，你也可以深入了解 `Downgrade` 事件。\n",
    "\n",
    "## 探索数据\n",
    "你定义好客户流失后，就可以执行一些探索性数据分析，观察留存用户和流失用户的行为。你可以首先把这两类用户的数据聚合到一起，观察固定时间内某个特定动作出现的次数或者播放音乐的数量。\n",
    "\n",
    "## 提问\n",
    "- `Cancellation Confirmation`事件中，有多少是付费客户，多少是免费客户，由付费转为免费，由免费转为付费\n",
    "- `Cancellation Confirmation`事件中的gender, location, hour, song, artist\n",
    "- 每个用户总共听了多少首歌\n",
    "- downgrade后，哪些user选择了cancel\n",
    "- upgrade后，哪些user选择了cancel\n",
    "- user对每个页面的使用频率\n",
    "- user Session次数\n",
    "- user 注册了多久"
   ]
  },
  {
   "cell_type": "code",
   "execution_count": 10,
   "metadata": {},
   "outputs": [],
   "source": [
    "#  add churn label: True or False\n",
    "add_churn_label = udf(lambda x: 1 if x=='Cancellation Confirmation' else 0, IntegerType())\n",
    "user_log_clean = user_log_clean.withColumn('churn', add_churn_label('page'))"
   ]
  },
  {
   "cell_type": "code",
   "execution_count": 11,
   "metadata": {},
   "outputs": [
    {
     "data": {
      "text/plain": [
       "[Row(userId='162', firstname='Lakyla', ts=1542055421000, page='Cancel', level='paid', graded=0, phase=2),\n",
       " Row(userId='162', firstname='Lakyla', ts=1542055421000, page='Cancellation Confirmation', level='paid', graded=0, phase=2),\n",
       " Row(userId='162', firstname='Lakyla', ts=1542055420000, page='Roll Advert', level='paid', graded=0, phase=2),\n",
       " Row(userId='162', firstname='Lakyla', ts=1542054649000, page='NextSong', level='paid', graded=0, phase=2),\n",
       " Row(userId='162', firstname='Lakyla', ts=1542054358000, page='NextSong', level='paid', graded=0, phase=2)]"
      ]
     },
     "execution_count": 11,
     "metadata": {},
     "output_type": "execute_result"
    }
   ],
   "source": [
    "# mark the user who downgrade or upgrade\n",
    "# mark downgrade as 1, upgrade as 2\n",
    "grade_flag = udf(lambda x: 1 if x=='Submit Downgrade' else 2 if x=='Submit Upgrade' else 0, IntegerType())\n",
    "# add new columns downgraded, upgraded\n",
    "user_log_clean = user_log_clean.withColumn('graded', grade_flag('page'))\n",
    "#user_log_copy.select([\"userId\", \"firstname\", \"ts\", \"page\", \"level\", \"graded\"]).where(user_log_copy.userId == \"162\").sort(\"ts\").collect()\n",
    "windowval = Window.partitionBy('userId').orderBy('ts').rangeBetween(Window.unboundedPreceding, 0)\n",
    "user_log_clean = user_log_clean.withColumn(\"phase\", Fsum('graded').over(windowval))\n",
    "user_log_clean.select([\"userId\", \"firstname\", \"ts\", \"page\", \"level\", \"graded\",\"phase\"])\\\n",
    "             .where(user_log_clean.userId == \"162\").sort(user_log_clean.ts.desc()).take(5)"
   ]
  },
  {
   "cell_type": "code",
   "execution_count": 12,
   "metadata": {},
   "outputs": [
    {
     "data": {
      "text/plain": [
       "448"
      ]
     },
     "execution_count": 12,
     "metadata": {},
     "output_type": "execute_result"
    }
   ],
   "source": [
    "user_log_clean.select('userId').drop_duplicates(['userId']).count()"
   ]
  },
  {
   "cell_type": "code",
   "execution_count": 13,
   "metadata": {},
   "outputs": [
    {
     "name": "stdout",
     "output_type": "stream",
     "text": [
      "The number of users marked as churn is 99\n"
     ]
    }
   ],
   "source": [
    "# use coalesce to make sure no shuffle!!!\n",
    "user_log_label = user_log_clean.select('userId','gender','location','level','ts','page','phase','churn')\\\n",
    "                               .sort(user_log_clean.userId, user_log_clean.ts.desc(), user_log_clean.page.desc())\\\n",
    "                               .coalesce(1).drop_duplicates(['userId']).sort('userId')\n",
    "print(f'The number of users marked as churn is {user_log_label.filter(user_log_label.churn==1).count()}')\n",
    "#user_log_label.write.save(out_path, format='csv', header=True)\n",
    "#user_log_label = spark.read.csv(out_path, header=True)\n",
    "#user_log_label.count()"
   ]
  },
  {
   "cell_type": "markdown",
   "metadata": {},
   "source": [
    "some users went through both `downgraded` and `upgraded` (Phase>=3)"
   ]
  },
  {
   "cell_type": "code",
   "execution_count": 20,
   "metadata": {},
   "outputs": [
    {
     "data": {
      "text/plain": [
       "[Row(userId='100011', level='free', graded=2, phase=8, page='Submit Upgrade'),\n",
       " Row(userId='100011', level='paid', graded=1, phase=6, page='Submit Downgrade'),\n",
       " Row(userId='100011', level='free', graded=2, phase=5, page='Submit Upgrade'),\n",
       " Row(userId='100011', level='paid', graded=1, phase=3, page='Submit Downgrade'),\n",
       " Row(userId='100011', level='free', graded=2, phase=2, page='Submit Upgrade')]"
      ]
     },
     "execution_count": 20,
     "metadata": {},
     "output_type": "execute_result"
    }
   ],
   "source": [
    "# see the behavior of user 100011 (phase=8)\n",
    "user_log_clean.select('userId','level','graded','phase','page')\\\n",
    ".where((user_log_clean.userId=='100011')&((user_log_clean.page=='Submit Downgrade')|(user_log_clean.page=='Submit Upgrade')))\\\n",
    ".sort(user_log_clean.ts.desc()).collect()"
   ]
  },
  {
   "cell_type": "code",
   "execution_count": 23,
   "metadata": {},
   "outputs": [
    {
     "data": {
      "text/plain": [
       "Text(0, 0.5, 'count')"
      ]
     },
     "execution_count": 23,
     "metadata": {},
     "output_type": "execute_result"
    },
    {
     "data": {
      "image/png": "[encoded data removed]",
      "text/plain": [
       "<Figure size 432x288 with 1 Axes>"
      ]
     },
     "metadata": {
      "image/png": {
       "height": 270,
       "width": 398
      },
      "needs_background": "light"
     },
     "output_type": "display_data"
    }
   ],
   "source": [
    "# check male, female\n",
    "gender_df = user_log_label.select('gender','churn').groupby('gender','churn').count().toPandas()\n",
    "sns.barplot(x='churn',y='count',hue='gender',data=gender_df)\n",
    "plt.xlabel('churn')\n",
    "plt.ylabel('count')"
   ]
  },
  {
   "cell_type": "code",
   "execution_count": 19,
   "metadata": {
    "scrolled": true
   },
   "outputs": [
    {
     "data": {
      "text/plain": [
       "Text(0, 0.5, 'count')"
      ]
     },
     "execution_count": 19,
     "metadata": {},
     "output_type": "execute_result"
    },
    {
     "data": {
      "image/png": "[encoded data removed]",
      "text/plain": [
       "<Figure size 432x288 with 1 Axes>"
      ]
     },
     "metadata": {
      "image/png": {
       "height": 270,
       "width": 398
      },
      "needs_background": "light"
     },
     "output_type": "display_data"
    }
   ],
   "source": [
    "# check level\n",
    "level_df = user_log_label.select('level','churn').groupby('level','churn').count().toPandas()\n",
    "sns.barplot(x='churn',y='count',hue='level',data=level_df)\n",
    "plt.xlabel('churn')\n",
    "plt.ylabel('count')"
   ]
  },
  {
   "cell_type": "code",
   "execution_count": 42,
   "metadata": {
    "scrolled": true
   },
   "outputs": [
    {
     "data": {
      "text/plain": [
       "<matplotlib.axes._subplots.AxesSubplot at 0x7f5135de2e80>"
      ]
     },
     "execution_count": 42,
     "metadata": {},
     "output_type": "execute_result"
    },
    {
     "data": {
      "image/png": "[encoded data removed]",
      "text/plain": [
       "<Figure size 432x288 with 1 Axes>"
      ]
     },
     "metadata": {
      "image/png": {
       "height": 270,
       "width": 391
      },
      "needs_background": "light"
     },
     "output_type": "display_data"
    }
   ],
   "source": [
    "# phase and churn\n",
    "phase_df = user_log_label.filter(user_log_label.churn==1).select('phase').groupby('phase').count().toPandas()\n",
    "sns.barplot(x='phase',y='count',data=phase_df)"
   ]
  },
  {
   "cell_type": "code",
   "execution_count": 45,
   "metadata": {},
   "outputs": [
    {
     "data": {
      "text/plain": [
       "(-1, 6541.6)"
      ]
     },
     "execution_count": 45,
     "metadata": {},
     "output_type": "execute_result"
    },
    {
     "data": {
      "image/png": "[encoded data removed]",
      "text/plain": [
       "<Figure size 432x288 with 1 Axes>"
      ]
     },
     "metadata": {
      "image/png": {
       "height": 270,
       "width": 382
      },
      "needs_background": "light"
     },
     "output_type": "display_data"
    }
   ],
   "source": [
    "# number of songs each user listen\n",
    "num_songs_df = user_log_clean.select('userId').where(user_log_clean.page=='NextSong').groupby('userId').count().toPandas()\n",
    "sns.distplot(num_songs_df['count'], kde=False)\n",
    "plt.xlim(-1, 0.8*max(num_songs_df['count']))"
   ]
  },
  {
   "cell_type": "code",
   "execution_count": 9,
   "metadata": {},
   "outputs": [
    {
     "name": "stdout",
     "output_type": "stream",
     "text": [
      "+------+------+--------------------+-----+-------------+--------------------+-----+-----+--------------+\n",
      "|userId|gender|            location|level|           ts|                page|phase|churn|songs_listened|\n",
      "+------+------+--------------------+-----+-------------+--------------------+-----+-----+--------------+\n",
      "|100010|     F|Bridgeport-Stamfo...| free|1539254318000|Cancellation Conf...|    0|    1|            96|\n",
      "|200002|     M|Chicago-Napervill...| paid|1540877026000|Cancellation Conf...|    2|    1|           310|\n",
      "|   296|     F|Allentown-Bethleh...| paid|1539187234000|Cancellation Conf...|    2|    1|           112|\n",
      "|   125|     M|  Corpus Christi, TX| free|1542265610000|     Add to Playlist|    0|    0|            62|\n",
      "|   124|     F|Vineland-Bridgeto...| paid|1541948983000|Cancellation Conf...|    0|    1|          1826|\n",
      "|    51|     M|Lexington-Fayette...| paid|1539709266000|Cancellation Conf...|    0|    1|           266|\n",
      "|     7|     M|Seattle-Tacoma-Be...| free|1543409350000|         Roll Advert|    0|    0|           462|\n",
      "|200037|     M|     Columbus, GA-AL| free|1540347849000|Cancellation Conf...|    0|    1|           122|\n",
      "|   169|     M|Lafayette-West La...| free|1543587933000|         Roll Advert|    0|    0|           112|\n",
      "|   205|     F|     Ottawa-Peru, IL| paid|1542817261000|          Add Friend|    0|    0|          1048|\n",
      "|   272|     F|Charlotte-Concord...| free|1540629648000|           Thumbs Up|    0|    0|            97|\n",
      "|    15|     M|      Morgantown, WV| paid|1543140731000|                Home|    0|    0|          1835|\n",
      "|   232|     F|San Francisco-Oak...| paid|1543613223000|           Downgrade|    5|    0|          1876|\n",
      "|   234|     M|New Orleans-Metai...| paid|1541087401000|Cancellation Conf...|    2|    1|          1674|\n",
      "|   282|     M|San Francisco-Oak...| paid|1543469420000|     Add to Playlist|    2|    0|          2629|\n",
      "|    54|     F|Spokane-Spokane V...| paid|1538987586000|Cancellation Conf...|    0|    1|           517|\n",
      "|   155|     F|Chicago-Napervill...| paid|1541411759000|           Thumbs Up|    0|    0|           140|\n",
      "|200043|     F|Boston-Cambridge-...| paid|1542382292000|            NextSong|    2|    0|           615|\n",
      "|100014|     M|New York-Newark-J...| paid|1540103857000|Cancellation Conf...|    0|    1|           332|\n",
      "|   132|     F|Denver-Aurora-Lak...| paid|1539041513000|Cancellation Conf...|    2|    1|           113|\n",
      "+------+------+--------------------+-----+-------------+--------------------+-----+-----+--------------+\n",
      "only showing top 20 rows\n",
      "\n"
     ]
    }
   ],
   "source": [
    "# join number of songs with user_log_label\n",
    "user_num_songs = user_log_clean.select('userId').where(user_log_clean.page=='NextSong')\\\n",
    "                               .groupby('userId').count().withColumnRenamed('count','songs_listened').withColumnRenamed('userId','userIdTemp')\n",
    "user_log_label = user_log_label.join(user_num_songs, user_log_label.userId==user_num_songs.userIdTemp, 'left_outer').drop('userIdTemp')\n",
    "user_log_label = user_log_label.drop('song_userId')\n",
    "user_log_label.show()"
   ]
  },
  {
   "cell_type": "code",
   "execution_count": 62,
   "metadata": {},
   "outputs": [
    {
     "data": {
      "text/plain": [
       "(-1, 2000)"
      ]
     },
     "execution_count": 62,
     "metadata": {},
     "output_type": "execute_result"
    },
    {
     "data": {
      "image/png": "[encoded data removed]",
      "text/plain": [
       "<Figure size 432x288 with 1 Axes>"
      ]
     },
     "metadata": {
      "image/png": {
       "height": 271,
       "width": 406
      },
      "needs_background": "light"
     },
     "output_type": "display_data"
    }
   ],
   "source": [
    "# number of songs users who marked as churn listen\n",
    "songs_df = user_log_label.select('songs_listened','churn').toPandas()\n",
    "sns.boxplot(x='churn',y='songs_listened',data=songs_df)\n",
    "plt.ylim(-1,2000);"
   ]
  },
  {
   "cell_type": "code",
   "execution_count": 11,
   "metadata": {},
   "outputs": [
    {
     "name": "stdout",
     "output_type": "stream",
     "text": [
      "+------+--------------------+-----+-------------+--------------------+-----+-----+--------------+------+---------------+-------------+\n",
      "|gender|            location|level|           ts|                page|phase|churn|songs_listened|userId|num_thumbs_down|num_thumbs_up|\n",
      "+------+--------------------+-----+-------------+--------------------+-----+-----+--------------+------+---------------+-------------+\n",
      "|     F|Bridgeport-Stamfo...| free|1539254318000|Cancellation Conf...|    0|    1|            96|100010|              3|            4|\n",
      "|     M|Chicago-Napervill...| paid|1540877026000|Cancellation Conf...|    2|    1|           310|200002|              5|           15|\n",
      "|  null|                null| null|         null|                null| null| null|          null|  null|              0|            8|\n",
      "|     M|  Corpus Christi, TX| free|1542265610000|     Add to Playlist|    0|    0|            62|   125|              1|            3|\n",
      "|     F|Vineland-Bridgeto...| paid|1541948983000|Cancellation Conf...|    0|    1|          1826|   124|             15|          102|\n",
      "|     M|Lexington-Fayette...| paid|1539709266000|Cancellation Conf...|    0|    1|           266|    51|              1|           16|\n",
      "|     M|Seattle-Tacoma-Be...| free|1543409350000|         Roll Advert|    0|    0|           462|     7|              4|           12|\n",
      "|     M|     Columbus, GA-AL| free|1540347849000|Cancellation Conf...|    0|    1|           122|200037|              3|            5|\n",
      "|  null|                null| null|         null|                null| null| null|          null|  null|              0|            6|\n",
      "|     F|     Ottawa-Peru, IL| paid|1542817261000|          Add Friend|    0|    0|          1048|   205|             10|           50|\n",
      "|     F|Charlotte-Concord...| free|1540629648000|           Thumbs Up|    0|    0|            97|   272|              4|            7|\n",
      "|     M|      Morgantown, WV| paid|1543140731000|                Home|    0|    0|          1835|    15|             16|           93|\n",
      "|     F|San Francisco-Oak...| paid|1543613223000|           Downgrade|    5|    0|          1876|   232|             17|           97|\n",
      "|     M|New Orleans-Metai...| paid|1541087401000|Cancellation Conf...|    2|    1|          1674|   234|             22|           91|\n",
      "|     M|San Francisco-Oak...| paid|1543469420000|     Add to Playlist|    2|    0|          2629|   282|             29|          133|\n",
      "|     F|Spokane-Spokane V...| paid|1538987586000|Cancellation Conf...|    0|    1|           517|    54|              7|           26|\n",
      "|  null|                null| null|         null|                null| null| null|          null|  null|              0|            7|\n",
      "|     F|Boston-Cambridge-...| paid|1542382292000|            NextSong|    2|    0|           615|200043|             22|           33|\n",
      "|     M|New York-Newark-J...| paid|1540103857000|Cancellation Conf...|    0|    1|           332|100014|              3|           14|\n",
      "|     F|Denver-Aurora-Lak...| paid|1539041513000|Cancellation Conf...|    2|    1|           113|   132|              1|            4|\n",
      "+------+--------------------+-----+-------------+--------------------+-----+-----+--------------+------+---------------+-------------+\n",
      "only showing top 20 rows\n",
      "\n"
     ]
    }
   ],
   "source": [
    "### thumbs up or down\n",
    "user_thumbs_down = user_log_clean.select('userId').where(user_log_clean.page=='Thumbs Down')\\\n",
    "                                 .groupby('userId').count().withColumnRenamed('count', 'num_thumbs_down')\n",
    "user_thumbs_up = user_log_clean.select('userId').where(user_log_clean.page=='Thumbs Up')\\\n",
    "                                 .groupby('userId').count().withColumnRenamed('count', 'num_thumbs_up')\n",
    "#assert user_thumbs_down.count()==user_thumbs_up.count()==user_log_label.count()\n",
    "user_log_label = user_log_label.join(user_thumbs_down, user_log_label.userId==user_thumbs_down.userId, 'outer').drop(user_thumbs_down.userId)\n",
    "user_log_label = user_log_label.join(user_thumbs_up, user_log_label.userId==user_thumbs_up.userId, 'outer').drop(user_thumbs_up.userId)\n",
    "user_log_label = user_log_label.fillna(0, subset=['num_thumbs_down','num_thumbs_up'])\n",
    "user_log_label.show()"
   ]
  },
  {
   "cell_type": "code",
   "execution_count": 34,
   "metadata": {},
   "outputs": [
    {
     "data": {
      "text/html": [
       "<div>\n",
       "<style scoped>\n",
       "    .dataframe tbody tr th:only-of-type {\n",
       "        vertical-align: middle;\n",
       "    }\n",
       "\n",
       "    .dataframe tbody tr th {\n",
       "        vertical-align: top;\n",
       "    }\n",
       "\n",
       "    .dataframe thead th {\n",
       "        text-align: right;\n",
       "    }\n",
       "</style>\n",
       "<table border=\"1\" class=\"dataframe\">\n",
       "  <thead>\n",
       "    <tr style=\"text-align: right;\">\n",
       "      <th></th>\n",
       "      <th>churn</th>\n",
       "      <th>sum(churn)</th>\n",
       "      <th>sum(num_thumbs_down)</th>\n",
       "      <th>sum(num_thumbs_up)</th>\n",
       "    </tr>\n",
       "  </thead>\n",
       "  <tbody>\n",
       "    <tr>\n",
       "      <th>0</th>\n",
       "      <td>1</td>\n",
       "      <td>99</td>\n",
       "      <td>1156</td>\n",
       "      <td>4300</td>\n",
       "    </tr>\n",
       "    <tr>\n",
       "      <th>1</th>\n",
       "      <td>0</td>\n",
       "      <td>0</td>\n",
       "      <td>3755</td>\n",
       "      <td>19526</td>\n",
       "    </tr>\n",
       "  </tbody>\n",
       "</table>\n",
       "</div>"
      ],
      "text/plain": [
       "   churn  sum(churn)  sum(num_thumbs_down)  sum(num_thumbs_up)\n",
       "0      1          99                  1156                4300\n",
       "1      0           0                  3755               19526"
      ]
     },
     "execution_count": 34,
     "metadata": {},
     "output_type": "execute_result"
    }
   ],
   "source": [
    "# count thumbs\n",
    "thumbs_df = user_log_label.select('churn','num_thumbs_down','num_thumbs_up').groupby('num_thumbs_down','churn').sum().toPandas()\n",
    "thumbs_df"
   ]
  },
  {
   "cell_type": "code",
   "execution_count": 37,
   "metadata": {},
   "outputs": [
    {
     "name": "stdout",
     "output_type": "stream",
     "text": [
      "+------+-----+\n",
      "|userId|count|\n",
      "+------+-----+\n",
      "|100010|  137|\n",
      "|200002|  395|\n",
      "|   296|  152|\n",
      "|   125|   84|\n",
      "|    51|  328|\n",
      "|   124| 2156|\n",
      "|     7|  600|\n",
      "|200037|  155|\n",
      "|   205| 1244|\n",
      "|   169|  149|\n",
      "|   272|  131|\n",
      "|    54|  624|\n",
      "|   282| 3191|\n",
      "|   232| 2325|\n",
      "|   234| 2021|\n",
      "|    15| 2173|\n",
      "|   155|  172|\n",
      "|200043|  808|\n",
      "|   154|  126|\n",
      "|   132|  144|\n",
      "+------+-----+\n",
      "only showing top 20 rows\n",
      "\n"
     ]
    }
   ],
   "source": [
    "# session次数\n",
    "user_log_clean.select('userId','sessionID').groupby('userId').count().show()"
   ]
  },
  {
   "cell_type": "code",
   "execution_count": 12,
   "metadata": {},
   "outputs": [
    {
     "name": "stdout",
     "output_type": "stream",
     "text": [
      "+------+------------------+------------------+--------------------+\n",
      "|userId|    AvgSessionTime|    MaxSessionTime|      MinSessionTime|\n",
      "+------+------------------+------------------+--------------------+\n",
      "|    10|            1502.4|            1502.4|              1502.4|\n",
      "|   100|350.47777777777776|1645.2333333333333|0.016666666666666666|\n",
      "|100001|137.66111111111113|202.13333333333333|   42.13333333333333|\n",
      "|100002|          150.2625|333.43333333333334|   52.63333333333333|\n",
      "|100003| 296.9277777777778|1277.2333333333333|                 0.0|\n",
      "|100004|222.09666666666664|            444.75|  48.516666666666666|\n",
      "|100005|139.03333333333333|223.68333333333334|   54.38333333333333|\n",
      "|100006| 235.9766666666667|            415.05|                 0.0|\n",
      "|100007| 288.9013888888889|            749.25|   37.11666666666667|\n",
      "|100008| 262.2944444444444|             386.0|  141.41666666666666|\n",
      "|100009|402.93000000000006|           1386.45|                 0.0|\n",
      "|100010|           210.375|222.56666666666666|  198.18333333333334|\n",
      "|100011|208.92583333333337| 890.1666666666666|   4.833333333333333|\n",
      "|100012| 72.28055555555557|165.38333333333333|                 0.0|\n",
      "|100013| 75.41666666666667| 75.41666666666667|   75.41666666666667|\n",
      "|100014|           348.975| 794.4333333333333|               87.75|\n",
      "|100015|126.88076923076923| 543.8166666666667|                 0.0|\n",
      "|100016|113.63333333333333|            349.45|                9.35|\n",
      "|100017|270.40833333333336|            372.35|  168.46666666666667|\n",
      "|100018| 258.6166666666667|303.26666666666665|  213.96666666666667|\n",
      "+------+------------------+------------------+--------------------+\n",
      "only showing top 20 rows\n",
      "\n"
     ]
    }
   ],
   "source": [
    "# 平均会话时长\n",
    "user_sessionTime = user_log_clean.groupby('userId','sessionID').agg(((F.max(user_log_clean.ts)-F.min(user_log_clean.ts))/(1000*60))\n",
    "                                                 .alias('sessionTime')).sort('userId')\n",
    "user_sessionTime_stat = user_sessionTime.groupby('userId').agg(avg(user_sessionTime.sessionTime).alias('AvgSessionTime'),\n",
    "                                                               F.max(user_sessionTime.sessionTime).alias('MaxSessionTime'),\n",
    "                                                               F.min(user_sessionTime.sessionTime).alias('MinSessionTime')).sort('userId')\n",
    "user_sessionTime_stat.show()"
   ]
  },
  {
   "cell_type": "code",
   "execution_count": 13,
   "metadata": {},
   "outputs": [
    {
     "name": "stdout",
     "output_type": "stream",
     "text": [
      "+------+------------------+\n",
      "|userId| songs_per_session|\n",
      "+------+------------------+\n",
      "|    10|             360.0|\n",
      "|   100| 86.71794871794872|\n",
      "|100001|              32.0|\n",
      "|100002|             34.25|\n",
      "|100003|            82.625|\n",
      "|100004|              52.4|\n",
      "|100005|              36.0|\n",
      "|100006|             73.75|\n",
      "|100007| 71.08333333333333|\n",
      "|100008| 64.33333333333333|\n",
      "|100009|             100.5|\n",
      "|100010|              48.0|\n",
      "|100011|             51.05|\n",
      "|100012|              22.4|\n",
      "|100013|              20.0|\n",
      "|100014|              83.0|\n",
      "|100015|             31.75|\n",
      "|100016|27.166666666666668|\n",
      "|100017|              63.5|\n",
      "|100018|              62.0|\n",
      "+------+------------------+\n",
      "only showing top 20 rows\n",
      "\n"
     ]
    }
   ],
   "source": [
    "# 每个session平均听歌数量\n",
    "user_session_songs = user_log_clean.filter(user_log_clean.page=='NextSong').groupby('userId','sessionID').count()\n",
    "user_per_session_songs = user_session_songs.groupby('userId').agg(avg(user_session_songs['count']).alias('songs_per_session')).sort('userId')\n",
    "user_per_session_songs.show()"
   ]
  },
  {
   "cell_type": "code",
   "execution_count": 14,
   "metadata": {},
   "outputs": [
    {
     "data": {
      "image/png": "[encoded data removed]",
      "text/plain": [
       "<Figure size 432x288 with 1 Axes>"
      ]
     },
     "metadata": {
      "image/png": {
       "height": 270,
       "width": 392
      },
      "needs_background": "light"
     },
     "output_type": "display_data"
    }
   ],
   "source": [
    "### registration time\n",
    "user_use_time = user_log_clean.groupby('userId').agg(((F.max(user_log_clean.ts)-F.max(user_log_clean.registration))/(1000*60*60*24))\\\n",
    "                                                     .alias('user_time')).sort('userId')\n",
    "user_log_label = user_log_label.join(user_use_time, user_log_label.userId==user_use_time.userId).drop(user_use_time.userId)\n",
    "registration_df = user_log_label.groupby('churn').agg(avg(user_log_label.user_time)).toPandas()\n",
    "sns.barplot(x='churn',y='avg(user_time)',data=registration_df);"
   ]
  },
  {
   "cell_type": "code",
   "execution_count": 56,
   "metadata": {},
   "outputs": [
    {
     "data": {
      "text/plain": [
       "[Row(location='Atlantic City-Hammonton, NJ'),\n",
       " Row(location='Gainesville, FL'),\n",
       " Row(location='Richmond, VA'),\n",
       " Row(location='Tucson, AZ'),\n",
       " Row(location='Oskaloosa, IA'),\n",
       " Row(location='San Diego-Carlsbad, CA'),\n",
       " Row(location='Deltona-Daytona Beach-Ormond Beach, FL'),\n",
       " Row(location='Cleveland-Elyria, OH'),\n",
       " Row(location='Medford, OR'),\n",
       " Row(location='Kingsport-Bristol-Bristol, TN-VA')]"
      ]
     },
     "execution_count": 56,
     "metadata": {},
     "output_type": "execute_result"
    }
   ],
   "source": [
    "#location\n",
    "user_log_clean.select('location').drop_duplicates().take(10)"
   ]
  },
  {
   "cell_type": "code",
   "execution_count": 15,
   "metadata": {},
   "outputs": [
    {
     "data": {
      "text/plain": [
       "[Row(page='About'),\n",
       " Row(page='Add Friend'),\n",
       " Row(page='Add to Playlist'),\n",
       " Row(page='Cancel'),\n",
       " Row(page='Cancellation Confirmation'),\n",
       " Row(page='Downgrade'),\n",
       " Row(page='Error'),\n",
       " Row(page='Help'),\n",
       " Row(page='Home'),\n",
       " Row(page='Logout'),\n",
       " Row(page='NextSong'),\n",
       " Row(page='Roll Advert'),\n",
       " Row(page='Save Settings'),\n",
       " Row(page='Settings'),\n",
       " Row(page='Submit Downgrade'),\n",
       " Row(page='Submit Upgrade'),\n",
       " Row(page='Thumbs Down'),\n",
       " Row(page='Thumbs Up'),\n",
       " Row(page='Upgrade')]"
      ]
     },
     "execution_count": 15,
     "metadata": {},
     "output_type": "execute_result"
    }
   ],
   "source": [
    "# check all the page types\n",
    "user_log_clean.select('page').drop_duplicates().sort('page').collect()"
   ]
  },
  {
   "cell_type": "code",
   "execution_count": 24,
   "metadata": {},
   "outputs": [
    {
     "data": {
      "text/plain": [
       "Text(0.5, 0, 'Hour')"
      ]
     },
     "execution_count": 24,
     "metadata": {},
     "output_type": "execute_result"
    },
    {
     "data": {
      "image/png": "[encoded data removed]",
      "text/plain": [
       "<Figure size 720x432 with 1 Axes>"
      ]
     },
     "metadata": {
      "image/png": {
       "height": 379,
       "width": 636
      },
      "needs_background": "light"
     },
     "output_type": "display_data"
    }
   ],
   "source": [
    "# number of songs are played for each hour using page=='NextSong'\n",
    "song_in_hour = user_log_clean.select('hour').where(user_log_clean['page']=='NextSong').groupby('hour').count()\\\n",
    "              .orderBy(user_log_clean['hour'].cast('float')).toPandas()\n",
    "plt.figure(figsize=(10,6))\n",
    "plt.scatter(song_in_hour['hour'], song_in_hour['count'])\n",
    "plt.xlim(-1,24)\n",
    "plt.ylim(0, 1.2*max(song_in_hour['count']))\n",
    "plt.ylabel('Songs played')\n",
    "plt.xlabel('Hour')"
   ]
  },
  {
   "cell_type": "code",
   "execution_count": 25,
   "metadata": {},
   "outputs": [
    {
     "data": {
      "text/plain": [
       "Text(0.5, 0, 'Hour')"
      ]
     },
     "execution_count": 25,
     "metadata": {},
     "output_type": "execute_result"
    },
    {
     "data": {
      "image/png": "[encoded data removed]",
      "text/plain": [
       "<Figure size 720x432 with 1 Axes>"
      ]
     },
     "metadata": {
      "image/png": {
       "height": 379,
       "width": 607
      },
      "needs_background": "light"
     },
     "output_type": "display_data"
    }
   ],
   "source": [
    "cancel_in_hour = user_log_clean.select('hour').where(user_log_clean['page']=='Cancellation Confirmation').groupby('hour').count()\\\n",
    "              .orderBy(user_log_clean['hour'].cast('float')).toPandas()\n",
    "plt.figure(figsize=(10,6))\n",
    "plt.scatter(cancel_in_hour['hour'], cancel_in_hour['count'])\n",
    "plt.xlim(-1,24)\n",
    "plt.ylim(0, 1.2*max(cancel_in_hour['count']))\n",
    "plt.ylabel('Cancels')\n",
    "plt.xlabel('Hour')"
   ]
  },
  {
   "cell_type": "code",
   "execution_count": null,
   "metadata": {},
   "outputs": [],
   "source": []
  },
  {
   "cell_type": "markdown",
   "metadata": {},
   "source": [
    "# 特征工程\n",
    "熟悉了数据之后，就可以构建你认为会对训练模型帮助最大的特征。要处理完整数据集，你可以按照下述步骤：\n",
    "- 写一个脚本来从小数据集中提取你需要的特征\n",
    "- 确保你的脚本可以拓展到大数据集上，使用之前教过的最佳实践原则\n",
    "- 在完整数据集上运行你的脚本，按运行情况调试代码\n",
    "\n",
    "如果是在教室的 workspace，你可以直接用里面提供的小数据集来提取特征。确保当你开始使用 Spark 集群的时候，把上述的成果迁移到大数据集上。"
   ]
  },
  {
   "cell_type": "code",
   "execution_count": 15,
   "metadata": {},
   "outputs": [
    {
     "name": "stdout",
     "output_type": "stream",
     "text": [
      "root\n",
      " |-- userId: string (nullable = true)\n",
      " |-- gender: string (nullable = true)\n",
      " |-- location: string (nullable = true)\n",
      " |-- level: string (nullable = true)\n",
      " |-- ts: long (nullable = true)\n",
      " |-- page: string (nullable = true)\n",
      " |-- phase: long (nullable = true)\n",
      " |-- churn: integer (nullable = true)\n",
      "\n"
     ]
    }
   ],
   "source": [
    "user_log_label.printSchema()"
   ]
  },
  {
   "cell_type": "markdown",
   "metadata": {},
   "source": [
    "## feature 1: gender"
   ]
  },
  {
   "cell_type": "code",
   "execution_count": 14,
   "metadata": {},
   "outputs": [
    {
     "name": "stdout",
     "output_type": "stream",
     "text": [
      "+------+------+\n",
      "|userId|gender|\n",
      "+------+------+\n",
      "|    10|     0|\n",
      "|   100|     0|\n",
      "|100001|     1|\n",
      "|100002|     1|\n",
      "|100003|     1|\n",
      "+------+------+\n",
      "only showing top 5 rows\n",
      "\n"
     ]
    }
   ],
   "source": [
    "gender_feature = user_log_label.select('userId','gender').sort('userId')\n",
    "assert gender_feature.count()==448\n",
    "gender_feature = gender_feature.replace(['M','F'], ['0','1'], 'gender')\n",
    "gender_feature = gender_feature.select('userId',gender_feature.gender.cast('int')).sort('userId')\n",
    "gender_feature.show(5)"
   ]
  },
  {
   "cell_type": "markdown",
   "metadata": {},
   "source": [
    "## feature 2: level"
   ]
  },
  {
   "cell_type": "code",
   "execution_count": 15,
   "metadata": {},
   "outputs": [
    {
     "name": "stdout",
     "output_type": "stream",
     "text": [
      "+------+-----+\n",
      "|userId|level|\n",
      "+------+-----+\n",
      "|    10|    0|\n",
      "|   100|    0|\n",
      "|100001|    1|\n",
      "|100002|    1|\n",
      "|100003|    0|\n",
      "+------+-----+\n",
      "only showing top 5 rows\n",
      "\n"
     ]
    }
   ],
   "source": [
    "level_feature = user_log_label.select('userId','level').sort('userId')\n",
    "assert level_feature.count()==448\n",
    "level_feature = level_feature.replace(['paid','free'], ['0','1'], 'level')\n",
    "level_feature = level_feature.select('userId', level_feature.level.cast('int')).sort('userId')\n",
    "level_feature.show(5)"
   ]
  },
  {
   "cell_type": "markdown",
   "metadata": {},
   "source": [
    "## feature 3: phase (ever upgraded? downgraded? upgraded+downgraded?)"
   ]
  },
  {
   "cell_type": "code",
   "execution_count": 16,
   "metadata": {},
   "outputs": [
    {
     "name": "stdout",
     "output_type": "stream",
     "text": [
      "+------+----------+--------+\n",
      "|userId|downgraded|upgraded|\n",
      "+------+----------+--------+\n",
      "|    10|         0|       0|\n",
      "|   100|         0|       1|\n",
      "|100001|         0|       0|\n",
      "|100002|         1|       1|\n",
      "|100003|         0|       1|\n",
      "+------+----------+--------+\n",
      "only showing top 5 rows\n",
      "\n"
     ]
    }
   ],
   "source": [
    "grade_feature = user_log_label.select('userId','phase').sort('userId')\n",
    "assert grade_feature.count()==448\n",
    "# define functions\n",
    "downgraded_mark = udf(lambda x: 1 if (x==1 or x>=3) else 0, IntegerType()) # 1是只downgrade，大于等于3是既downgrade又upgrade\n",
    "upgraded_mark = udf(lambda x: 1 if (x==2 or x>=3) else 0, IntegerType())\n",
    "grade_feature = grade_feature.withColumn('downgraded', downgraded_mark('phase'))\n",
    "grade_feature = grade_feature.withColumn('upgraded', upgraded_mark('phase'))\n",
    "grade_feature = grade_feature.drop('phase')\n",
    "grade_feature.show(5)"
   ]
  },
  {
   "cell_type": "markdown",
   "metadata": {},
   "source": [
    "## feature 4: number of songs listened"
   ]
  },
  {
   "cell_type": "code",
   "execution_count": 17,
   "metadata": {},
   "outputs": [
    {
     "name": "stdout",
     "output_type": "stream",
     "text": [
      "+------+------------------+\n",
      "|userId|num_songs_listened|\n",
      "+------+------------------+\n",
      "|   296|               112|\n",
      "|100010|                96|\n",
      "|200002|               310|\n",
      "|   125|                62|\n",
      "|    51|               266|\n",
      "+------+------------------+\n",
      "only showing top 5 rows\n",
      "\n"
     ]
    }
   ],
   "source": [
    "num_songs_feature = user_log_clean.select('userId').filter(user_log_clean.page=='NextSong')\\\n",
    "                                  .groupby('userId').count().withColumnRenamed('count', 'num_songs_listened')\n",
    "assert num_songs_feature.count()==448\n",
    "num_songs_feature.show(5)"
   ]
  },
  {
   "cell_type": "markdown",
   "metadata": {},
   "source": [
    "## feature 5: number of songs per session"
   ]
  },
  {
   "cell_type": "code",
   "execution_count": 18,
   "metadata": {},
   "outputs": [
    {
     "name": "stdout",
     "output_type": "stream",
     "text": [
      "+------+------------------------------+\n",
      "|userId|num_songs_listened_per_session|\n",
      "+------+------------------------------+\n",
      "|    10|                           360|\n",
      "|   100|                            86|\n",
      "|100001|                            32|\n",
      "|100002|                            34|\n",
      "|100003|                            82|\n",
      "+------+------------------------------+\n",
      "only showing top 5 rows\n",
      "\n"
     ]
    }
   ],
   "source": [
    "num_songs_session = user_log_clean.filter(user_log_clean.page=='NextSong').groupby('userId','sessionID').count()\n",
    "num_songs_per_session_feature = num_songs_session.groupby('userId')\\\n",
    "          .agg(avg(num_songs_session['count']).alias('num_songs_listened_per_session')).sort('userId')\n",
    "num_songs_per_session_feature = num_songs_per_session_feature\\\n",
    "           .select('userId',F.floor(num_songs_per_session_feature.num_songs_listened_per_session))\\\n",
    "           .withColumnRenamed('FLOOR(num_songs_listened_per_session)','num_songs_listened_per_session')\n",
    "assert num_songs_per_session_feature.count()==448\n",
    "num_songs_per_session_feature.show(5)"
   ]
  },
  {
   "cell_type": "code",
   "execution_count": null,
   "metadata": {},
   "outputs": [],
   "source": []
  },
  {
   "cell_type": "markdown",
   "metadata": {},
   "source": [
    "## feature 6: thumbs down, up"
   ]
  },
  {
   "cell_type": "code",
   "execution_count": 19,
   "metadata": {},
   "outputs": [
    {
     "name": "stdout",
     "output_type": "stream",
     "text": [
      "+------+---------------+-------+-------------+\n",
      "|userId|num_thumbs_down|userId2|num_thumbs_up|\n",
      "+------+---------------+-------+-------------+\n",
      "|    10|              1|     10|           17|\n",
      "|   100|             37|    100|          143|\n",
      "|100001|              1| 100001|            5|\n",
      "|100002|              2| 100002|            8|\n",
      "|100003|             10| 100003|           16|\n",
      "+------+---------------+-------+-------------+\n",
      "only showing top 5 rows\n",
      "\n"
     ]
    }
   ],
   "source": [
    "user_thumbs_down = user_log_clean.select('userId').where(user_log_clean.page=='Thumbs Down')\\\n",
    "                                 .groupby('userId').count().withColumnRenamed('count', 'num_thumbs_down').withColumnRenamed('userId','userId1')\n",
    "user_thumbs_up = user_log_clean.select('userId').where(user_log_clean.page=='Thumbs Up')\\\n",
    "                                 .groupby('userId').count().withColumnRenamed('count', 'num_thumbs_up').withColumnRenamed('userId','userId2')\n",
    "temp_view = user_log_clean.select('userId').drop_duplicates().sort('userId')\n",
    "thumbs_feature = temp_view.join(user_thumbs_down, temp_view.userId==user_thumbs_down.userId1,'left_outer')\\\n",
    "                          .drop('userId1').fillna(0, subset=['num_thumbs_down']).sort('userId')\n",
    "thumbs_feature = thumbs_feature.join(user_thumbs_up, thumbs_feature.userId==user_thumbs_up.userId2,'left_outer')\\\n",
    "                          .drop('userId2').fillna(0, subset=['num_thumbs_up']).sort('userId')\n",
    "assert thumbs_feature.count()==448\n",
    "thumbs_feature.show(5)"
   ]
  },
  {
   "cell_type": "markdown",
   "metadata": {},
   "source": [
    "## feature 7: user use days since registration"
   ]
  },
  {
   "cell_type": "code",
   "execution_count": 20,
   "metadata": {},
   "outputs": [
    {
     "name": "stdout",
     "output_type": "stream",
     "text": [
      "+------+--------------+\n",
      "|userId|total_use_days|\n",
      "+------+--------------+\n",
      "|    10|            10|\n",
      "|   100|            65|\n",
      "|100001|            44|\n",
      "|100002|           129|\n",
      "|100003|            50|\n",
      "+------+--------------+\n",
      "only showing top 5 rows\n",
      "\n"
     ]
    }
   ],
   "source": [
    "use_duration_feature = user_log_clean.groupby('userId')\\\n",
    "                    .agg(((F.max(user_log_clean.ts)-F.max(user_log_clean.registration))/(1000*60*60*24))\n",
    "                         .alias('total_use_days'))\n",
    "use_duration_feature = use_duration_feature.select('userId',F.floor(use_duration_feature.total_use_days))\\\n",
    "                       .sort('userId').withColumnRenamed('FLOOR(total_use_days)', 'total_use_days')\n",
    "assert use_duration_feature.count()==448\n",
    "use_duration_feature.show(5)"
   ]
  },
  {
   "cell_type": "markdown",
   "metadata": {},
   "source": [
    "## feature 8: session times, avg session time, max session time, min session time"
   ]
  },
  {
   "cell_type": "code",
   "execution_count": 21,
   "metadata": {},
   "outputs": [
    {
     "name": "stdout",
     "output_type": "stream",
     "text": [
      "+------+------------------+------------------+--------------------+\n",
      "|userId|    AvgSessionTIme|    MaxSessionTime|      MinSessionTime|\n",
      "+------+------------------+------------------+--------------------+\n",
      "|    10|            1502.4|            1502.4|              1502.4|\n",
      "|   100| 350.4777777777777|1645.2333333333333|0.016666666666666666|\n",
      "|100001|137.66111111111113|202.13333333333333|   42.13333333333333|\n",
      "|100002|          150.2625|333.43333333333334|   52.63333333333333|\n",
      "|100003|296.92777777777775|1277.2333333333333|                 0.0|\n",
      "+------+------------------+------------------+--------------------+\n",
      "only showing top 5 rows\n",
      "\n"
     ]
    }
   ],
   "source": [
    "sessionTime = user_log_clean.groupby('userId','sessionID')\\\n",
    "                            .agg(((F.max(user_log_clean.ts)-F.min(user_log_clean.ts))/(1000*60))\\\n",
    "                                 .alias('sessionTime')).sort('userId')\n",
    "session_time_feature = sessionTime.groupby('userId').agg((F.avg(sessionTime['sessionTime'])).alias('AvgSessionTIme'),\n",
    "                                                          F.max(sessionTime['sessionTime']).alias('MaxSessionTime'),\n",
    "                                                          F.min(sessionTime['sessionTime']).alias('MinSessionTime'))\\\n",
    "                                   .sort('userId')\n",
    "assert session_time_feature.count()==448\n",
    "session_time_feature.show(5)"
   ]
  },
  {
   "cell_type": "markdown",
   "metadata": {},
   "source": [
    "## feature 9: use frequency of each page"
   ]
  },
  {
   "cell_type": "code",
   "execution_count": 22,
   "metadata": {},
   "outputs": [
    {
     "name": "stdout",
     "output_type": "stream",
     "text": [
      "+------+--------------------+--------------------+--------------------+--------------------+--------------------+--------------------+--------------------+--------------------+-----------------------------+--------------------+--------------------+--------------------+--------------------+------------------+--------------------+--------------------+--------------------+--------------------+--------------------+\n",
      "|userId|         Cancel_freq|SubmitDowngrade_freq|     ThumbsDown_freq|           Home_freq|      Downgrade_freq|     RollAdvert_freq|         Logout_freq|   SaveSettings_freq|CancellationConfirmation_freq|          About_freq|       Settings_freq|  AddtoPlaylist_freq|      AddFriend_freq|     NextSong_freq|       ThumbsUp_freq|           Help_freq|        Upgrade_freq|          Error_freq|  SubmitUpgrade_freq|\n",
      "+------+--------------------+--------------------+--------------------+--------------------+--------------------+--------------------+--------------------+--------------------+-----------------------------+--------------------+--------------------+--------------------+--------------------+------------------+--------------------+--------------------+--------------------+--------------------+--------------------+\n",
      "|    10|0.002364066193853428|                 0.0|0.002364066193853428| 0.03546099290780142|0.002364066193853428|                 0.0|0.009456264775413711|                 0.0|         0.002364066193853428|                 0.0|0.004728132387706856| 0.03309692671394799|0.007092198581560...| 0.851063829787234| 0.04018912529550828|0.007092198581560...|                 0.0|0.002364066193853428|                 0.0|\n",
      "|   100|                 0.0|                 0.0|0.009252313078269568| 0.03375843960990248|0.010002500625156289|0.002000500125031258| 0.00900225056264066|5.001250312578145E-4|                          0.0|0.003000750187546887|0.004251062765691...|0.023505876469117278|0.017754438609652413|0.8457114278569643|0.035758939734933735|0.004251062765691...|2.500625156289072...|7.501875468867217E-4|2.500625156289072...|\n",
      "|100001|0.007462686567164179|                 0.0|0.007462686567164179|0.029850746268656716|                 0.0| 0.09701492537313433|0.014925373134328358|                 0.0|         0.007462686567164179|0.007462686567164179|0.022388059701492536|0.022388059701492536|0.007462686567164179|0.7164179104477612| 0.03731343283582089|0.007462686567164179|0.014925373134328358|                 0.0|                 0.0|\n",
      "|100002|                 0.0|0.005649717514124294|0.011299435028248588| 0.06779661016949153|0.011299435028248588| 0.02824858757062147| 0.01694915254237288|                 0.0|                          0.0|                 0.0|                 0.0| 0.01694915254237288|                 0.0|0.7740112994350282| 0.04519774011299435|0.011299435028248588|0.005649717514124294|                 0.0|0.005649717514124294|\n",
      "|100003|0.001209189842805...|                 0.0|0.012091898428053204|0.037484885126964934|0.015719467956469165|0.049576783555018135|0.014510278113663845|0.001209189842805...|         0.001209189842805...|0.002418379685610...|0.004836759371221...|0.022974607013301087|0.009673518742442563|0.7992744860943168|0.019347037484885126|0.003627569528415...|0.002418379685610...|0.001209189842805...|0.001209189842805...|\n",
      "+------+--------------------+--------------------+--------------------+--------------------+--------------------+--------------------+--------------------+--------------------+-----------------------------+--------------------+--------------------+--------------------+--------------------+------------------+--------------------+--------------------+--------------------+--------------------+--------------------+\n",
      "only showing top 5 rows\n",
      "\n"
     ]
    }
   ],
   "source": [
    "# page list\n",
    "page_lst = user_log_clean.select('page').drop_duplicates().toPandas()['page'].tolist()\n",
    "page_freq_feature = user_log_clean.groupby('userId').count().withColumnRenamed('count', 'total_pages')\n",
    "for page in page_lst:\n",
    "    temp_view = user_log_clean.filter(user_log_clean.page==page).groupby('userId').count()\\\n",
    "                    .withColumnRenamed('count', page).withColumnRenamed('userId','userIdTemp')\n",
    "    #assert temp_view.count()==total_pages_cnt.count()\n",
    "    page_freq_feature = page_freq_feature.join(temp_view, \n",
    "                                             page_freq_feature.userId==temp_view.userIdTemp, 'left_outer')\\\n",
    "                        .drop('userIdTemp').fillna(0, subset=page).sort('userId')\n",
    "    page_freq_feature = page_freq_feature.withColumn(page.replace(' ','')+'_freq',\n",
    "                                             page_freq_feature[page]/page_freq_feature['total_pages'])\\\n",
    "                        .drop(page).sort('userId')\n",
    "    \n",
    "page_freq_feature = page_freq_feature.drop('total_pages').sort('userId')\n",
    "\n",
    "assert page_freq_feature.count()==448\n",
    "\n",
    "page_freq_feature.show(5)\n",
    "# all the pages\n",
    "\n",
    "# every page\n",
    "#user_log_clean.groupby('userId','page').count().sort('userId').show()"
   ]
  },
  {
   "cell_type": "code",
   "execution_count": 23,
   "metadata": {},
   "outputs": [
    {
     "name": "stdout",
     "output_type": "stream",
     "text": [
      "root\n",
      " |-- userId: string (nullable = true)\n",
      " |-- Cancel_freq: double (nullable = true)\n",
      " |-- SubmitDowngrade_freq: double (nullable = true)\n",
      " |-- ThumbsDown_freq: double (nullable = true)\n",
      " |-- Home_freq: double (nullable = true)\n",
      " |-- Downgrade_freq: double (nullable = true)\n",
      " |-- RollAdvert_freq: double (nullable = true)\n",
      " |-- Logout_freq: double (nullable = true)\n",
      " |-- SaveSettings_freq: double (nullable = true)\n",
      " |-- CancellationConfirmation_freq: double (nullable = true)\n",
      " |-- About_freq: double (nullable = true)\n",
      " |-- Settings_freq: double (nullable = true)\n",
      " |-- AddtoPlaylist_freq: double (nullable = true)\n",
      " |-- AddFriend_freq: double (nullable = true)\n",
      " |-- NextSong_freq: double (nullable = true)\n",
      " |-- ThumbsUp_freq: double (nullable = true)\n",
      " |-- Help_freq: double (nullable = true)\n",
      " |-- Upgrade_freq: double (nullable = true)\n",
      " |-- Error_freq: double (nullable = true)\n",
      " |-- SubmitUpgrade_freq: double (nullable = true)\n",
      "\n"
     ]
    }
   ],
   "source": [
    "page_freq_feature.printSchema()"
   ]
  },
  {
   "cell_type": "markdown",
   "metadata": {},
   "source": [
    "## feature 10: different singers"
   ]
  },
  {
   "cell_type": "code",
   "execution_count": 24,
   "metadata": {},
   "outputs": [
    {
     "name": "stdout",
     "output_type": "stream",
     "text": [
      "+------+----------------+\n",
      "|userId|artists_listened|\n",
      "+------+----------------+\n",
      "|    10|             306|\n",
      "|   100|            1963|\n",
      "|100001|              93|\n",
      "|100002|             128|\n",
      "|100003|             545|\n",
      "+------+----------------+\n",
      "only showing top 5 rows\n",
      "\n"
     ]
    }
   ],
   "source": [
    "num_singers_feature = user_log_clean.filter(user_log_clean.page=='NextSong').select('userId','artist')\\\n",
    "                                    .drop_duplicates().groupby('userId')\\\n",
    "                                    .count().withColumnRenamed('count','artists_listened').sort('userId')\n",
    "assert num_singers_feature.count()==448\n",
    "num_singers_feature.show(5)"
   ]
  },
  {
   "cell_type": "code",
   "execution_count": 34,
   "metadata": {},
   "outputs": [],
   "source": [
    "### Combine all the features\n",
    "features = [gender_feature, level_feature, grade_feature, num_songs_feature,\n",
    "            num_songs_per_session_feature, thumbs_feature, use_duration_feature,\n",
    "            session_time_feature, page_freq_feature, num_singers_feature]\n",
    "user_log_final = user_log_clean.select('userId').drop_duplicates().sort('userId')\n",
    "for feature_view in features:\n",
    "    #assert user_log_final.count()==feature_view.count(), print(feature_view.printSchema())\n",
    "    feature_view = feature_view.withColumnRenamed('userId', 'userIdTemp')\n",
    "    user_log_final = user_log_final.join(feature_view, user_log_final.userId==feature_view.userIdTemp)\\\n",
    "                                   .drop('userIdTemp').sort('userId')\n",
    "# label\n",
    "label_churn = user_log_label.select('userId','churn').sort('userId').withColumnRenamed('userId', 'userIdTemp')\n",
    "#assert label_churn.count()==448\n",
    "user_log_data = user_log_final.join(label_churn, user_log_final.userId==label_churn.userIdTemp).drop('userIdTemp').sort('userId')\n",
    "#assert user_log_data.count()==448\n",
    "#out_path = 'user_log_data.csv'\n",
    "#user_log_data.write.save(out_path, format='csv', header=True)"
   ]
  },
  {
   "cell_type": "markdown",
   "metadata": {},
   "source": [
    "# 建模\n",
    "将完整数据集分成训练集、测试集和验证集。测试几种你学过的机器学习方法。评价不同机器学习方法的准确率，根据情况调节参数。根据准确率你挑选出表现最好的那个模型，然后报告在训练集上的结果。因为流失顾客数据集很小，我建议选用 F1 score 作为优化指标。\n",
    "\n",
    "将选用以下三个分类模型训练数据\n",
    "- Logistic Classifier\n",
    "- Decision Tree Classifier\n",
    "- GBT Classifier"
   ]
  },
  {
   "cell_type": "code",
   "execution_count": 78,
   "metadata": {},
   "outputs": [],
   "source": [
    "from pyspark.ml.feature import VectorAssembler, StandardScaler\n",
    "from pyspark.ml import Pipeline\n",
    "from pyspark.ml.classification import LogisticRegression, DecisionTreeClassifier, GBTClassifier, RandomForestClassifier\n",
    "from pyspark.ml.tuning import ParamGridBuilder, CrossValidator\n",
    "from pyspark.ml.evaluation import MulticlassClassificationEvaluator\n",
    "from pyspark.ml.feature import ChiSqSelector"
   ]
  },
  {
   "cell_type": "markdown",
   "metadata": {},
   "source": [
    "## Build Pipelines"
   ]
  },
  {
   "cell_type": "code",
   "execution_count": 213,
   "metadata": {},
   "outputs": [],
   "source": [
    "class SparkPipeline:\n",
    "    def __init__(self, df):\n",
    "        self.data = self.to_features(df)\n",
    "        \n",
    "    def to_numeric(self, df):\n",
    "        feature_lst = df.columns[1:]\n",
    "        for feature in feature_lst:\n",
    "            df = df.withColumn(feature+'_num', df[feature].cast('float'))\n",
    "            df = df.drop(feature)\n",
    "        df = df.fillna(0.0)\n",
    "        \n",
    "        return df\n",
    "    \n",
    "    def to_features(self, df):\n",
    "        \"\"\"\n",
    "        numerate features;\n",
    "        assemble features;\n",
    "        standardize features;\n",
    "        return df with features and labels\n",
    "        \"\"\"\n",
    "        df = self.to_numeric(df)\n",
    "        # assemble the features\n",
    "        vecAssembler = VectorAssembler(inputCols=df.columns[1:-1], outputCol='num_features')\n",
    "        user_for_model = vecAssembler.transform(df)\n",
    "        # standardScale\n",
    "        standardScaler = StandardScaler(inputCol='num_features', outputCol='features')\n",
    "        standardModel = standardScaler.fit(user_for_model)\n",
    "        user_for_model = standardModel.transform(user_for_model)\n",
    "        # combine feature and label\n",
    "        user_for_model = user_for_model.select(user_for_model.features, user_for_model.churn_num.alias('label'))\n",
    "        \n",
    "        return user_for_model\n",
    "    \n",
    "    def train_test_split(self):\n",
    "        # stratify the label, evenly separating churn (using sampleBy func)\n",
    "        train = self.data.sampleBy('label', fractions={0:0.9, 1:0.5}, seed=100)\n",
    "        test = self.data.subtract(train)\n",
    "        \n",
    "        return train, test\n",
    "    \n",
    "    # compute f1 score\n",
    "    def f1_score(self, results):\n",
    "\n",
    "        evaluator = MulticlassClassificationEvaluator(predictionCol='prediction')\n",
    "        \n",
    "        f1 = evaluator.evaluate(results, {evaluator.metricName: 'f1'})\n",
    "        \n",
    "        return f1\n",
    "    \n",
    "    # logistic classifier\n",
    "    def logistic_cls(self, train, test):\n",
    "        lr = LogisticRegression()\n",
    "    \n",
    "        # set the number of iterations as default 100\n",
    "        # grid tune the regulation parameters\n",
    "        paramGrid = ParamGridBuilder()\\\n",
    "                    .addGrid(lr.regParam, [0.0, 0.05, 0.1]).build()\n",
    "        \n",
    "        crossval = CrossValidator(estimator=lr,\n",
    "                                  estimatorParamMaps=paramGrid,\n",
    "                                  evaluator=MulticlassClassificationEvaluator())\n",
    "        \n",
    "        model = crossval.fit(train)\n",
    "        \n",
    "        print('Metrics: ',model.avgMetrics)\n",
    "        #print(f'The best model for Logistic Regression is {model.bestModel}')\n",
    "        \n",
    "        results = model.transform(test)\n",
    "        \n",
    "        f1 = self.f1_score(results)\n",
    "        \n",
    "        print(f'F1 Score for Logistic Regression Model is:{f1}')\n",
    "        \n",
    "        return model\n",
    "    \n",
    "    # Random Forest\n",
    "    def rf_cls(self, train, test):\n",
    "        rf = RandomForestClassifier()\n",
    "        \n",
    "        paramGrid = ParamGridBuilder()\\\n",
    "                    .addGrid(rf.numTrees, [15,20,25])\\\n",
    "                    .addGrid(rf.impurity, ['entropy','gini']).build()\n",
    "        \n",
    "        crossval = CrossValidator(estimator=dt,\n",
    "                                  estimatorParamMaps=paramGrid,\n",
    "                                  evaluator=MulticlassClassificationEvaluator())\n",
    "        \n",
    "        model = crossval.fit(train)\n",
    "        \n",
    "        print(f'Metrics: {model.avgMetrics}',)\n",
    "        #print(f'The best model for Decision Tree is {model.bestModel}')\n",
    "        \n",
    "        results = model.transform(test)\n",
    "        # compute f1 score\n",
    "        f1 = self.f1_score(results)\n",
    "        \n",
    "        print(f'F1 Score for Random Forest is: {f1}')\n",
    "        \n",
    "        return model"
   ]
  },
  {
   "cell_type": "markdown",
   "metadata": {},
   "source": [
    "## Train the data\n",
    "由于最终的训练数据较少，而上述得出的特征数量较多，会导致训练数量与特征数量不均衡的情况，`应该遵循奥卡姆剃刀原理`,需要讨论不同特征数情况下模型的表现情况"
   ]
  },
  {
   "cell_type": "markdown",
   "metadata": {},
   "source": [
    "### Use All Features"
   ]
  },
  {
   "cell_type": "code",
   "execution_count": 214,
   "metadata": {},
   "outputs": [
    {
     "name": "stdout",
     "output_type": "stream",
     "text": [
      "The number of features is 33\n",
      "The number of data is 448\n"
     ]
    }
   ],
   "source": [
    "user_log_data = spark.read.csv('user_log_data.csv',header=True)\n",
    "print(f'The number of features is {len(user_log_data.columns[1:-1])}')\n",
    "print(f'The number of data is {user_log_data.count()}')"
   ]
  },
  {
   "cell_type": "code",
   "execution_count": 216,
   "metadata": {},
   "outputs": [
    {
     "name": "stdout",
     "output_type": "stream",
     "text": [
      "Metrics:  [0.9487492484658558, 0.833097807801227, 0.8220522046542502]\n",
      "F1 Score for Logistic Regression Model is:0.8732554365465757\n",
      "\n",
      "\n",
      "Metrics: [1.0, 1.0, 1.0, 1.0, 1.0, 1.0]\n",
      "F1 Score for Random Forest is: 0.9747242721926267\n"
     ]
    }
   ],
   "source": [
    "pipelines = SparkPipeline(user_log_data)\n",
    "user_train, user_test = pipelines.train_test_split()\n",
    "# logistic classifier\n",
    "lr_model = pipelines.logistic_cls(user_train, user_test)\n",
    "print('\\n')\n",
    "# random forest\n",
    "rf_model = pipelines.rf_cls(user_train, user_test)"
   ]
  },
  {
   "cell_type": "markdown",
   "metadata": {},
   "source": [
    "`The Metric scores for DecisionTree and GBT model are 1.0, which is unlikely. Too many features`"
   ]
  },
  {
   "cell_type": "markdown",
   "metadata": {},
   "source": [
    "### Use part of features -- remove all the freq features"
   ]
  },
  {
   "cell_type": "code",
   "execution_count": 217,
   "metadata": {},
   "outputs": [
    {
     "data": {
      "text/plain": [
       "['userId',\n",
       " 'gender',\n",
       " 'level',\n",
       " 'downgraded',\n",
       " 'upgraded',\n",
       " 'num_songs_listened',\n",
       " 'num_songs_listened_per_session',\n",
       " 'num_thumbs_down',\n",
       " 'userId2',\n",
       " 'num_thumbs_up',\n",
       " 'total_use_days',\n",
       " 'AvgSessionTIme',\n",
       " 'MaxSessionTime',\n",
       " 'MinSessionTime',\n",
       " 'Cancel_freq',\n",
       " 'SubmitDowngrade_freq',\n",
       " 'ThumbsDown_freq',\n",
       " 'Home_freq',\n",
       " 'Downgrade_freq',\n",
       " 'RollAdvert_freq',\n",
       " 'Logout_freq',\n",
       " 'SaveSettings_freq',\n",
       " 'CancellationConfirmation_freq',\n",
       " 'About_freq',\n",
       " 'Settings_freq',\n",
       " 'AddtoPlaylist_freq',\n",
       " 'AddFriend_freq',\n",
       " 'NextSong_freq',\n",
       " 'ThumbsUp_freq',\n",
       " 'Help_freq',\n",
       " 'Upgrade_freq',\n",
       " 'Error_freq',\n",
       " 'SubmitUpgrade_freq',\n",
       " 'artists_listened',\n",
       " 'churn']"
      ]
     },
     "execution_count": 217,
     "metadata": {},
     "output_type": "execute_result"
    }
   ],
   "source": [
    "user_log_data = spark.read.csv('user_log_data.csv',header=True)\n",
    "user_log_data.columns"
   ]
  },
  {
   "cell_type": "markdown",
   "metadata": {},
   "source": [
    "`Manually Selected Features`\n",
    "- gender\n",
    "- level\n",
    "- downgraded\n",
    "- upgraded\n",
    "- num_songs_listened\n",
    "- num_thumbs_up\n",
    "- num_thumbs_down\n",
    "- total_use_days\n",
    "- AvgSessionTime\n",
    "- artists_listened"
   ]
  },
  {
   "cell_type": "code",
   "execution_count": 218,
   "metadata": {},
   "outputs": [
    {
     "name": "stdout",
     "output_type": "stream",
     "text": [
      "The number of features is 10\n",
      "The number of data is 448\n"
     ]
    }
   ],
   "source": [
    "#user_log_data = spark.read.csv('user_log_data.csv',header=True)\n",
    "user_log_data = user_log_data.select('userId','gender','level','downgraded','upgraded','num_songs_listened',\n",
    "                                     'num_thumbs_down','num_thumbs_up','total_use_days','AvgSessionTIme',\n",
    "                                     'artists_listened','churn').sort('userId')\n",
    "print(f'The number of features is {len(user_log_data.columns[1:-1])}')\n",
    "print(f'The number of data is {user_log_data.count()}')"
   ]
  },
  {
   "cell_type": "code",
   "execution_count": 219,
   "metadata": {},
   "outputs": [
    {
     "name": "stdout",
     "output_type": "stream",
     "text": [
      "Metrics:  [0.8397464343964877, 0.8247077049894078, 0.8247077049894078]\n",
      "F1 Score for Logistic Regression Model is:0.2702818584923848\n",
      "\n",
      "\n",
      "Metrics: [0.8506968164569575, 0.8506968164569575, 0.8506968164569575, 0.8506968164569575, 0.8506968164569575, 0.8506968164569575]\n",
      "F1 Score for Random Forest is: 0.45623107542612185\n",
      "\n",
      "\n"
     ]
    }
   ],
   "source": [
    "pipelines = SparkPipeline(user_log_data)\n",
    "user_train, user_test = pipelines.train_test_split()\n",
    "# logistic classifier\n",
    "lr_model = pipelines.logistic_cls(user_train, user_test)\n",
    "print('\\n')\n",
    "rf_model = pipelines.rf_cls(user_train, user_test)"
   ]
  },
  {
   "cell_type": "markdown",
   "metadata": {},
   "source": [
    "`手动选择的十个特征最后得到的f1 score都不高，以下采用解决分类问题时的卡方检验特征选择`"
   ]
  },
  {
   "cell_type": "markdown",
   "metadata": {},
   "source": [
    "### Using Chi-Square Feature Selection Method"
   ]
  },
  {
   "cell_type": "code",
   "execution_count": 153,
   "metadata": {},
   "outputs": [],
   "source": [
    "import pandas as pd\n",
    "from sklearn.feature_selection import SelectKBest, chi2"
   ]
  },
  {
   "cell_type": "code",
   "execution_count": 220,
   "metadata": {},
   "outputs": [
    {
     "name": "stdout",
     "output_type": "stream",
     "text": [
      "['MinSessionTime', 'num_songs_listened', 'artists_listened', 'total_use_days', 'AvgSessionTIme', 'num_thumbs_up', 'num_songs_listened_per_session']\n",
      "The number of features is 7\n",
      "The number of data is 448\n",
      "Metrics:  [0.789768330087671, 0.7924049755436997, 0.7924049755436997]\n",
      "F1 Score for Logistic Regression Model is:0.3125492096178305\n",
      "Metrics: [0.803857467834747, 0.803857467834747, 0.803857467834747, 0.803857467834747, 0.803857467834747, 0.803857467834747]\n",
      "F1 Score for Random Forest is: 0.47974177830841047\n",
      "==============================\n",
      "['MinSessionTime', 'num_songs_listened', 'artists_listened', 'total_use_days', 'AvgSessionTIme', 'num_thumbs_up', 'num_songs_listened_per_session', 'MaxSessionTime']\n",
      "The number of features is 8\n",
      "The number of data is 448\n",
      "Metrics:  [0.789768330087671, 0.7924049755436997, 0.7924049755436997]\n",
      "F1 Score for Logistic Regression Model is:0.3125492096178305\n",
      "Metrics: [0.8055804022487216, 0.8055804022487216, 0.8055804022487216, 0.8055804022487216, 0.8055804022487216, 0.8055804022487216]\n",
      "F1 Score for Random Forest is: 0.47974177830841047\n",
      "==============================\n",
      "['MinSessionTime', 'num_songs_listened', 'artists_listened', 'total_use_days', 'AvgSessionTIme', 'num_thumbs_up', 'num_songs_listened_per_session', 'MaxSessionTime', 'num_thumbs_down']\n",
      "The number of features is 9\n",
      "The number of data is 448\n",
      "Metrics:  [0.7996582436187435, 0.7924049755436997, 0.7924049755436997]\n",
      "F1 Score for Logistic Regression Model is:0.3321408915795267\n",
      "Metrics: [0.7995777748917714, 0.7995777748917714, 0.7995777748917714, 0.7995777748917714, 0.7995777748917714, 0.7995777748917714]\n",
      "F1 Score for Random Forest is: 0.47974177830841047\n",
      "==============================\n",
      "['MinSessionTime', 'num_songs_listened', 'artists_listened', 'total_use_days', 'AvgSessionTIme', 'num_thumbs_up', 'num_songs_listened_per_session', 'MaxSessionTime', 'num_thumbs_down', 'Cancel_freq']\n",
      "The number of features is 10\n",
      "The number of data is 448\n",
      "Metrics:  [0.9974394365921432, 0.8240865611917438, 0.8240865611917438]\n",
      "F1 Score for Logistic Regression Model is:0.9620985206649383\n",
      "Metrics: [1.0, 1.0, 1.0, 1.0, 1.0, 1.0]\n",
      "F1 Score for Random Forest is: 0.9747242721926267\n",
      "==============================\n"
     ]
    }
   ],
   "source": [
    "for num_feats in range(7,11):\n",
    "    user_log_data = spark.read.csv('user_log_data.csv',header=True)\n",
    "    \n",
    "    # turn to pandas dataframe\n",
    "    user_df = user_log_data.toPandas()\n",
    "    user_df = user_df.drop(['userId2'], axis=1)\n",
    "    user_df = user_df.iloc[:,1:].astype('float')\n",
    "    \n",
    "    # use chi-square to select features\n",
    "    x = abs(user_df.iloc[:,0:-1])\n",
    "    y = user_df.iloc[:,-1]\n",
    "    bestfeatures = SelectKBest(score_func=chi2, k=num_feats)\n",
    "    fit = bestfeatures.fit(x,y)\n",
    "    dfscores = pd.DataFrame(fit.scores_)\n",
    "    dfcolumns = pd.DataFrame(x.columns)\n",
    "    featureScores = pd.concat([dfcolumns, dfscores], axis=1)\n",
    "    featureScores.columns = ['Specs', 'Score']\n",
    "    select_feats = featureScores.nlargest(num_feats, 'Score')['Specs'].tolist()\n",
    "    print(select_feats)\n",
    "    \n",
    "    user_log_data = user_log_data.select(['userId']+select_feats+['churn'])\n",
    "    print(f'The number of features is {len(user_log_data.columns[1:-1])}')\n",
    "    print(f'The number of data is {user_log_data.count()}')\n",
    "    # train the model\n",
    "    pipelines = SparkPipeline(user_log_data)\n",
    "    user_train, user_test = pipelines.train_test_split()\n",
    "    # logistic classifier\n",
    "    lr_model = pipelines.logistic_cls(user_train, user_test)\n",
    "    rf_model = pipelines.rf_cls(user_train, user_test)\n",
    "    print('==============================')"
   ]
  },
  {
   "cell_type": "markdown",
   "metadata": {},
   "source": [
    "- 分别选用7、8、9、10个特征数训练模型\n",
    "\n",
    "- 当选择7、8、9个特征数时，f1 score没有变化\n",
    "\n",
    "- 当特征数达到10个后，f1 score突然提升到接近100%"
   ]
  },
  {
   "cell_type": "markdown",
   "metadata": {},
   "source": [
    "# Conclusion\n",
    "\n",
    "- The best model is Random Forest model\n",
    "- According to the Chi-Square feature selection method, Top features that affect the churn user is:\n",
    "  Minimum Session Time, number of songs listened, number of different artists listened, total use days, number of thumbs-up times, numer of songs listened per session"
   ]
  }
 ],
 "metadata": {
  "kernelspec": {
   "display_name": "Python [conda env:web] *",
   "language": "python",
   "name": "conda-env-web-py"
  },
  "language_info": {
   "codemirror_mode": {
    "name": "ipython",
    "version": 3
   },
   "file_extension": ".py",
   "mimetype": "text/x-python",
   "name": "python",
   "nbconvert_exporter": "python",
   "pygments_lexer": "ipython3",
   "version": "3.7.4"
  },
  "toc": {
   "base_numbering": 1,
   "nav_menu": {
    "height": "297px",
    "width": "242px"
   },
   "number_sections": true,
   "sideBar": true,
   "skip_h1_title": false,
   "title_cell": "Table of Contents",
   "title_sidebar": "Contents",
   "toc_cell": false,
   "toc_position": {},
   "toc_section_display": true,
   "toc_window_display": false
  },
  "varInspector": {
   "cols": {
    "lenName": 16,
    "lenType": 16,
    "lenVar": 40
   },
   "kernels_config": {
    "python": {
     "delete_cmd_postfix": "",
     "delete_cmd_prefix": "del ",
     "library": "var_list.py",
     "varRefreshCmd": "print(var_dic_list())"
    },
    "r": {
     "delete_cmd_postfix": ") ",
     "delete_cmd_prefix": "rm(",
     "library": "var_list.r",
     "varRefreshCmd": "cat(var_dic_list()) "
    }
   },
   "types_to_exclude": [
    "module",
    "function",
    "builtin_function_or_method",
    "instance",
    "_Feature"
   ],
   "window_display": false
  }
 },
 "nbformat": 4,
 "nbformat_minor": 4
}
